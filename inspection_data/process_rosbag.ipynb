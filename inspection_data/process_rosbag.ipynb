import rosbag
import numpy as np
from bisect import bisect_left
import rospy

# Paths
bag_path = "/jackal_ws/src/mlda-barn-2024/inspection_data/2025-03-04-09-08-19.bag"
output_bag_path = "/jackal_ws/src/mlda-barn-2024/inspection_data/downsampled_rosbag.bag"
cmd_vel_topic = "/cmd_vel"
laser_scan_topic = "/laserscan"
record_topic = "/matched_data"

# Store timestamps and messages
cmd_vel_msgs = []
laser_scan_msgs = []

# Read the rosbag
with rosbag.Bag(output_bag_path, 'r') as bag:
    for topic, msg, t in bag.read_messages():
        timestamp = t.to_sec()
        print(topic,'  ',timestamp)
        if topic == cmd_vel_topic:
            cmd_vel_msgs.append((timestamp, msg))
        elif topic == laser_scan_topic:
            laser_scan_msgs.append((timestamp, msg))
        

# Extract timestamps as NumPy arrays for fast searching
cmd_vel_timestamps = np.array([t for t, _ in cmd_vel_msgs])
laser_scan_timestamps = np.array([t for t, _ in laser_scan_msgs])

# Determine the start and end time
start_time = max(cmd_vel_timestamps[0], laser_scan_timestamps[0])  # Earliest common start
end_time = min(cmd_vel_timestamps[-1], laser_scan_timestamps[-1])  # Latest common end

# Generate 10Hz timestamps
downsampled_times = np.arange(start_time, end_time, 0.1)  # 10Hz = 0.1s interval

# Match closest messages to 10Hz timestamps
matched_data = []
for time in downsampled_times:
    # Find closest cmd_vel
    idx = bisect_left(cmd_vel_timestamps, time)
    closest_cmd_idx = max(0, min(idx, len(cmd_vel_timestamps) - 1))
    closest_cmd_time, closest_cmd_msg = cmd_vel_msgs[closest_cmd_idx]

    # Find closest laser_scan
    idx = bisect_left(laser_scan_timestamps, time)
    closest_laser_idx = max(0, min(idx, len(laser_scan_timestamps) - 1))
    closest_laser_time, closest_laser_msg = laser_scan_msgs[closest_laser_idx]

    matched_data.append((time, closest_cmd_msg, closest_laser_msg))

# Save to a new rosbag
with rosbag.Bag(output_bag_path, 'w') as out_bag:
    for time, cmd_msg, laser_msg in matched_data:
        ros_time = rospy.Time.from_sec(time)
        out_bag.write(record_topic + "/cmd_vel", cmd_msg, ros_time)
        out_bag.write(record_topic + "/scan", laser_msg, ros_time)

print("Saved downsampled data to" + output_bag_path)
