{
 "cells": [
  {
   "cell_type": "markdown",
   "metadata": {},
   "source": [
    "success_rate, time_taken, distance_travelled, straight_distance, (optimal_time or dijsktra_time)"
   ]
  },
  {
   "cell_type": "code",
   "execution_count": 1,
   "metadata": {},
   "outputs": [
    {
     "ename": "FileNotFoundError",
     "evalue": "[Errno 2] File b'data_sorted.csv' does not exist: b'data_sorted.csv'",
     "output_type": "error",
     "traceback": [
      "\u001b[0;31m---------------------------------------------------------------------------\u001b[0m",
      "\u001b[0;31mFileNotFoundError\u001b[0m                         Traceback (most recent call last)",
      "\u001b[0;32m<ipython-input-1-ca24bfccba02>\u001b[0m in \u001b[0;36m<module>\u001b[0;34m\u001b[0m\n\u001b[1;32m      3\u001b[0m \u001b[0;34m\u001b[0m\u001b[0m\n\u001b[1;32m      4\u001b[0m \u001b[0;32mimport\u001b[0m \u001b[0mpandas\u001b[0m \u001b[0;32mas\u001b[0m \u001b[0mpd\u001b[0m\u001b[0;34m\u001b[0m\u001b[0;34m\u001b[0m\u001b[0m\n\u001b[0;32m----> 5\u001b[0;31m \u001b[0mdf\u001b[0m \u001b[0;34m=\u001b[0m \u001b[0mpd\u001b[0m\u001b[0;34m.\u001b[0m\u001b[0mread_csv\u001b[0m\u001b[0;34m(\u001b[0m\u001b[0;34m'data_sorted.csv'\u001b[0m\u001b[0;34m)\u001b[0m\u001b[0;34m\u001b[0m\u001b[0;34m\u001b[0m\u001b[0m\n\u001b[0m\u001b[1;32m      6\u001b[0m \u001b[0mdf\u001b[0m\u001b[0;34m.\u001b[0m\u001b[0mhead\u001b[0m\u001b[0;34m(\u001b[0m\u001b[0;34m)\u001b[0m\u001b[0;34m\u001b[0m\u001b[0;34m\u001b[0m\u001b[0m\n",
      "\u001b[0;32m~/anaconda/envs/mimic_data_extraction/lib/python3.6/site-packages/pandas/io/parsers.py\u001b[0m in \u001b[0;36mparser_f\u001b[0;34m(filepath_or_buffer, sep, delimiter, header, names, index_col, usecols, squeeze, prefix, mangle_dupe_cols, dtype, engine, converters, true_values, false_values, skipinitialspace, skiprows, skipfooter, nrows, na_values, keep_default_na, na_filter, verbose, skip_blank_lines, parse_dates, infer_datetime_format, keep_date_col, date_parser, dayfirst, iterator, chunksize, compression, thousands, decimal, lineterminator, quotechar, quoting, doublequote, escapechar, comment, encoding, dialect, tupleize_cols, error_bad_lines, warn_bad_lines, delim_whitespace, low_memory, memory_map, float_precision)\u001b[0m\n\u001b[1;32m    700\u001b[0m                     skip_blank_lines=skip_blank_lines)\n\u001b[1;32m    701\u001b[0m \u001b[0;34m\u001b[0m\u001b[0m\n\u001b[0;32m--> 702\u001b[0;31m         \u001b[0;32mreturn\u001b[0m \u001b[0m_read\u001b[0m\u001b[0;34m(\u001b[0m\u001b[0mfilepath_or_buffer\u001b[0m\u001b[0;34m,\u001b[0m \u001b[0mkwds\u001b[0m\u001b[0;34m)\u001b[0m\u001b[0;34m\u001b[0m\u001b[0;34m\u001b[0m\u001b[0m\n\u001b[0m\u001b[1;32m    703\u001b[0m \u001b[0;34m\u001b[0m\u001b[0m\n\u001b[1;32m    704\u001b[0m     \u001b[0mparser_f\u001b[0m\u001b[0;34m.\u001b[0m\u001b[0m__name__\u001b[0m \u001b[0;34m=\u001b[0m \u001b[0mname\u001b[0m\u001b[0;34m\u001b[0m\u001b[0;34m\u001b[0m\u001b[0m\n",
      "\u001b[0;32m~/anaconda/envs/mimic_data_extraction/lib/python3.6/site-packages/pandas/io/parsers.py\u001b[0m in \u001b[0;36m_read\u001b[0;34m(filepath_or_buffer, kwds)\u001b[0m\n\u001b[1;32m    427\u001b[0m \u001b[0;34m\u001b[0m\u001b[0m\n\u001b[1;32m    428\u001b[0m     \u001b[0;31m# Create the parser.\u001b[0m\u001b[0;34m\u001b[0m\u001b[0;34m\u001b[0m\u001b[0;34m\u001b[0m\u001b[0m\n\u001b[0;32m--> 429\u001b[0;31m     \u001b[0mparser\u001b[0m \u001b[0;34m=\u001b[0m \u001b[0mTextFileReader\u001b[0m\u001b[0;34m(\u001b[0m\u001b[0mfilepath_or_buffer\u001b[0m\u001b[0;34m,\u001b[0m \u001b[0;34m**\u001b[0m\u001b[0mkwds\u001b[0m\u001b[0;34m)\u001b[0m\u001b[0;34m\u001b[0m\u001b[0;34m\u001b[0m\u001b[0m\n\u001b[0m\u001b[1;32m    430\u001b[0m \u001b[0;34m\u001b[0m\u001b[0m\n\u001b[1;32m    431\u001b[0m     \u001b[0;32mif\u001b[0m \u001b[0mchunksize\u001b[0m \u001b[0;32mor\u001b[0m \u001b[0miterator\u001b[0m\u001b[0;34m:\u001b[0m\u001b[0;34m\u001b[0m\u001b[0;34m\u001b[0m\u001b[0m\n",
      "\u001b[0;32m~/anaconda/envs/mimic_data_extraction/lib/python3.6/site-packages/pandas/io/parsers.py\u001b[0m in \u001b[0;36m__init__\u001b[0;34m(self, f, engine, **kwds)\u001b[0m\n\u001b[1;32m    893\u001b[0m             \u001b[0mself\u001b[0m\u001b[0;34m.\u001b[0m\u001b[0moptions\u001b[0m\u001b[0;34m[\u001b[0m\u001b[0;34m'has_index_names'\u001b[0m\u001b[0;34m]\u001b[0m \u001b[0;34m=\u001b[0m \u001b[0mkwds\u001b[0m\u001b[0;34m[\u001b[0m\u001b[0;34m'has_index_names'\u001b[0m\u001b[0;34m]\u001b[0m\u001b[0;34m\u001b[0m\u001b[0;34m\u001b[0m\u001b[0m\n\u001b[1;32m    894\u001b[0m \u001b[0;34m\u001b[0m\u001b[0m\n\u001b[0;32m--> 895\u001b[0;31m         \u001b[0mself\u001b[0m\u001b[0;34m.\u001b[0m\u001b[0m_make_engine\u001b[0m\u001b[0;34m(\u001b[0m\u001b[0mself\u001b[0m\u001b[0;34m.\u001b[0m\u001b[0mengine\u001b[0m\u001b[0;34m)\u001b[0m\u001b[0;34m\u001b[0m\u001b[0;34m\u001b[0m\u001b[0m\n\u001b[0m\u001b[1;32m    896\u001b[0m \u001b[0;34m\u001b[0m\u001b[0m\n\u001b[1;32m    897\u001b[0m     \u001b[0;32mdef\u001b[0m \u001b[0mclose\u001b[0m\u001b[0;34m(\u001b[0m\u001b[0mself\u001b[0m\u001b[0;34m)\u001b[0m\u001b[0;34m:\u001b[0m\u001b[0;34m\u001b[0m\u001b[0;34m\u001b[0m\u001b[0m\n",
      "\u001b[0;32m~/anaconda/envs/mimic_data_extraction/lib/python3.6/site-packages/pandas/io/parsers.py\u001b[0m in \u001b[0;36m_make_engine\u001b[0;34m(self, engine)\u001b[0m\n\u001b[1;32m   1120\u001b[0m     \u001b[0;32mdef\u001b[0m \u001b[0m_make_engine\u001b[0m\u001b[0;34m(\u001b[0m\u001b[0mself\u001b[0m\u001b[0;34m,\u001b[0m \u001b[0mengine\u001b[0m\u001b[0;34m=\u001b[0m\u001b[0;34m'c'\u001b[0m\u001b[0;34m)\u001b[0m\u001b[0;34m:\u001b[0m\u001b[0;34m\u001b[0m\u001b[0;34m\u001b[0m\u001b[0m\n\u001b[1;32m   1121\u001b[0m         \u001b[0;32mif\u001b[0m \u001b[0mengine\u001b[0m \u001b[0;34m==\u001b[0m \u001b[0;34m'c'\u001b[0m\u001b[0;34m:\u001b[0m\u001b[0;34m\u001b[0m\u001b[0;34m\u001b[0m\u001b[0m\n\u001b[0;32m-> 1122\u001b[0;31m             \u001b[0mself\u001b[0m\u001b[0;34m.\u001b[0m\u001b[0m_engine\u001b[0m \u001b[0;34m=\u001b[0m \u001b[0mCParserWrapper\u001b[0m\u001b[0;34m(\u001b[0m\u001b[0mself\u001b[0m\u001b[0;34m.\u001b[0m\u001b[0mf\u001b[0m\u001b[0;34m,\u001b[0m \u001b[0;34m**\u001b[0m\u001b[0mself\u001b[0m\u001b[0;34m.\u001b[0m\u001b[0moptions\u001b[0m\u001b[0;34m)\u001b[0m\u001b[0;34m\u001b[0m\u001b[0;34m\u001b[0m\u001b[0m\n\u001b[0m\u001b[1;32m   1123\u001b[0m         \u001b[0;32melse\u001b[0m\u001b[0;34m:\u001b[0m\u001b[0;34m\u001b[0m\u001b[0;34m\u001b[0m\u001b[0m\n\u001b[1;32m   1124\u001b[0m             \u001b[0;32mif\u001b[0m \u001b[0mengine\u001b[0m \u001b[0;34m==\u001b[0m \u001b[0;34m'python'\u001b[0m\u001b[0;34m:\u001b[0m\u001b[0;34m\u001b[0m\u001b[0;34m\u001b[0m\u001b[0m\n",
      "\u001b[0;32m~/anaconda/envs/mimic_data_extraction/lib/python3.6/site-packages/pandas/io/parsers.py\u001b[0m in \u001b[0;36m__init__\u001b[0;34m(self, src, **kwds)\u001b[0m\n\u001b[1;32m   1851\u001b[0m         \u001b[0mkwds\u001b[0m\u001b[0;34m[\u001b[0m\u001b[0;34m'usecols'\u001b[0m\u001b[0;34m]\u001b[0m \u001b[0;34m=\u001b[0m \u001b[0mself\u001b[0m\u001b[0;34m.\u001b[0m\u001b[0musecols\u001b[0m\u001b[0;34m\u001b[0m\u001b[0;34m\u001b[0m\u001b[0m\n\u001b[1;32m   1852\u001b[0m \u001b[0;34m\u001b[0m\u001b[0m\n\u001b[0;32m-> 1853\u001b[0;31m         \u001b[0mself\u001b[0m\u001b[0;34m.\u001b[0m\u001b[0m_reader\u001b[0m \u001b[0;34m=\u001b[0m \u001b[0mparsers\u001b[0m\u001b[0;34m.\u001b[0m\u001b[0mTextReader\u001b[0m\u001b[0;34m(\u001b[0m\u001b[0msrc\u001b[0m\u001b[0;34m,\u001b[0m \u001b[0;34m**\u001b[0m\u001b[0mkwds\u001b[0m\u001b[0;34m)\u001b[0m\u001b[0;34m\u001b[0m\u001b[0;34m\u001b[0m\u001b[0m\n\u001b[0m\u001b[1;32m   1854\u001b[0m         \u001b[0mself\u001b[0m\u001b[0;34m.\u001b[0m\u001b[0munnamed_cols\u001b[0m \u001b[0;34m=\u001b[0m \u001b[0mself\u001b[0m\u001b[0;34m.\u001b[0m\u001b[0m_reader\u001b[0m\u001b[0;34m.\u001b[0m\u001b[0munnamed_cols\u001b[0m\u001b[0;34m\u001b[0m\u001b[0;34m\u001b[0m\u001b[0m\n\u001b[1;32m   1855\u001b[0m \u001b[0;34m\u001b[0m\u001b[0m\n",
      "\u001b[0;32mpandas/_libs/parsers.pyx\u001b[0m in \u001b[0;36mpandas._libs.parsers.TextReader.__cinit__\u001b[0;34m()\u001b[0m\n",
      "\u001b[0;32mpandas/_libs/parsers.pyx\u001b[0m in \u001b[0;36mpandas._libs.parsers.TextReader._setup_parser_source\u001b[0;34m()\u001b[0m\n",
      "\u001b[0;31mFileNotFoundError\u001b[0m: [Errno 2] File b'data_sorted.csv' does not exist: b'data_sorted.csv'"
     ]
    }
   ],
   "source": [
    "import warnings\n",
    "warnings.filterwarnings('ignore')\n",
    "\n",
    "import pandas as pd\n",
    "df = pd.read_csv('data_sorted.csv')\n",
    "df.head()"
   ]
  },
  {
   "cell_type": "code",
   "execution_count": 2,
   "metadata": {},
   "outputs": [
    {
     "data": {
      "text/html": [
       "<div>\n",
       "<style scoped>\n",
       "    .dataframe tbody tr th:only-of-type {\n",
       "        vertical-align: middle;\n",
       "    }\n",
       "\n",
       "    .dataframe tbody tr th {\n",
       "        vertical-align: top;\n",
       "    }\n",
       "\n",
       "    .dataframe thead th {\n",
       "        text-align: right;\n",
       "    }\n",
       "</style>\n",
       "<table border=\"1\" class=\"dataframe\">\n",
       "  <thead>\n",
       "    <tr style=\"text-align: right;\">\n",
       "      <th></th>\n",
       "      <th>actual_time</th>\n",
       "      <th>optimal_time</th>\n",
       "      <th>goal_x</th>\n",
       "      <th>goal_y</th>\n",
       "      <th>world_idx</th>\n",
       "      <th>lidar_0</th>\n",
       "      <th>lidar_1</th>\n",
       "      <th>lidar_2</th>\n",
       "      <th>lidar_3</th>\n",
       "      <th>lidar_4</th>\n",
       "      <th>...</th>\n",
       "      <th>lidar_718</th>\n",
       "      <th>lidar_719</th>\n",
       "      <th>pos_x</th>\n",
       "      <th>pos_y</th>\n",
       "      <th>pose_heading</th>\n",
       "      <th>twist_linear</th>\n",
       "      <th>twist_angular</th>\n",
       "      <th>cmd_vel_linear</th>\n",
       "      <th>cmd_vel_angular</th>\n",
       "      <th>timestep</th>\n",
       "    </tr>\n",
       "  </thead>\n",
       "  <tbody>\n",
       "    <tr>\n",
       "      <th>count</th>\n",
       "      <td>202569.000000</td>\n",
       "      <td>202569.000000</td>\n",
       "      <td>202569.0</td>\n",
       "      <td>202569.0</td>\n",
       "      <td>202569.000000</td>\n",
       "      <td>202569.000000</td>\n",
       "      <td>202569.000000</td>\n",
       "      <td>202569.000000</td>\n",
       "      <td>202569.000000</td>\n",
       "      <td>202569.000000</td>\n",
       "      <td>...</td>\n",
       "      <td>202569.000000</td>\n",
       "      <td>202569.000000</td>\n",
       "      <td>202569.000000</td>\n",
       "      <td>202569.000000</td>\n",
       "      <td>202569.000000</td>\n",
       "      <td>202569.000000</td>\n",
       "      <td>202569.000000</td>\n",
       "      <td>202569.000000</td>\n",
       "      <td>202569.000000</td>\n",
       "      <td>202569.000000</td>\n",
       "    </tr>\n",
       "    <tr>\n",
       "      <th>mean</th>\n",
       "      <td>12.902522</td>\n",
       "      <td>5.715869</td>\n",
       "      <td>0.0</td>\n",
       "      <td>10.0</td>\n",
       "      <td>151.958370</td>\n",
       "      <td>4.115800</td>\n",
       "      <td>4.135718</td>\n",
       "      <td>4.152697</td>\n",
       "      <td>4.171695</td>\n",
       "      <td>4.190318</td>\n",
       "      <td>...</td>\n",
       "      <td>4.341831</td>\n",
       "      <td>4.328646</td>\n",
       "      <td>-0.040379</td>\n",
       "      <td>4.130155</td>\n",
       "      <td>1.548915</td>\n",
       "      <td>0.704698</td>\n",
       "      <td>-0.003710</td>\n",
       "      <td>0.705616</td>\n",
       "      <td>-0.002722</td>\n",
       "      <td>343.772685</td>\n",
       "    </tr>\n",
       "    <tr>\n",
       "      <th>std</th>\n",
       "      <td>2.451819</td>\n",
       "      <td>0.375246</td>\n",
       "      <td>0.0</td>\n",
       "      <td>0.0</td>\n",
       "      <td>87.229118</td>\n",
       "      <td>6.490961</td>\n",
       "      <td>6.553439</td>\n",
       "      <td>6.610645</td>\n",
       "      <td>6.670345</td>\n",
       "      <td>6.728279</td>\n",
       "      <td>...</td>\n",
       "      <td>7.042407</td>\n",
       "      <td>6.992671</td>\n",
       "      <td>0.530169</td>\n",
       "      <td>2.789321</td>\n",
       "      <td>0.385390</td>\n",
       "      <td>0.211738</td>\n",
       "      <td>0.259670</td>\n",
       "      <td>0.208302</td>\n",
       "      <td>0.233824</td>\n",
       "      <td>210.896994</td>\n",
       "    </tr>\n",
       "    <tr>\n",
       "      <th>min</th>\n",
       "      <td>11.784000</td>\n",
       "      <td>5.026614</td>\n",
       "      <td>0.0</td>\n",
       "      <td>10.0</td>\n",
       "      <td>0.000000</td>\n",
       "      <td>0.292403</td>\n",
       "      <td>0.291040</td>\n",
       "      <td>0.289275</td>\n",
       "      <td>0.287048</td>\n",
       "      <td>0.286279</td>\n",
       "      <td>...</td>\n",
       "      <td>0.292182</td>\n",
       "      <td>0.293237</td>\n",
       "      <td>-1.714366</td>\n",
       "      <td>-0.000258</td>\n",
       "      <td>-3.141397</td>\n",
       "      <td>-0.337823</td>\n",
       "      <td>-2.126267</td>\n",
       "      <td>-0.300000</td>\n",
       "      <td>-1.570796</td>\n",
       "      <td>0.000000</td>\n",
       "    </tr>\n",
       "    <tr>\n",
       "      <th>25%</th>\n",
       "      <td>11.937000</td>\n",
       "      <td>5.446358</td>\n",
       "      <td>0.0</td>\n",
       "      <td>10.0</td>\n",
       "      <td>76.000000</td>\n",
       "      <td>1.691495</td>\n",
       "      <td>1.684698</td>\n",
       "      <td>1.677570</td>\n",
       "      <td>1.671675</td>\n",
       "      <td>1.666527</td>\n",
       "      <td>...</td>\n",
       "      <td>1.601476</td>\n",
       "      <td>1.608613</td>\n",
       "      <td>-0.308475</td>\n",
       "      <td>1.634119</td>\n",
       "      <td>1.465763</td>\n",
       "      <td>0.799501</td>\n",
       "      <td>-0.062289</td>\n",
       "      <td>0.800000</td>\n",
       "      <td>-0.067353</td>\n",
       "      <td>168.000000</td>\n",
       "    </tr>\n",
       "    <tr>\n",
       "      <th>50%</th>\n",
       "      <td>12.136000</td>\n",
       "      <td>5.617254</td>\n",
       "      <td>0.0</td>\n",
       "      <td>10.0</td>\n",
       "      <td>153.000000</td>\n",
       "      <td>2.879177</td>\n",
       "      <td>2.865790</td>\n",
       "      <td>2.851509</td>\n",
       "      <td>2.837667</td>\n",
       "      <td>2.824436</td>\n",
       "      <td>...</td>\n",
       "      <td>2.823026</td>\n",
       "      <td>2.836414</td>\n",
       "      <td>-0.006654</td>\n",
       "      <td>4.026890</td>\n",
       "      <td>1.578731</td>\n",
       "      <td>0.800233</td>\n",
       "      <td>-0.001211</td>\n",
       "      <td>0.800000</td>\n",
       "      <td>0.000042</td>\n",
       "      <td>337.000000</td>\n",
       "    </tr>\n",
       "    <tr>\n",
       "      <th>75%</th>\n",
       "      <td>12.518000</td>\n",
       "      <td>5.922971</td>\n",
       "      <td>0.0</td>\n",
       "      <td>10.0</td>\n",
       "      <td>228.000000</td>\n",
       "      <td>3.195433</td>\n",
       "      <td>3.179926</td>\n",
       "      <td>3.163331</td>\n",
       "      <td>3.149627</td>\n",
       "      <td>3.134901</td>\n",
       "      <td>...</td>\n",
       "      <td>3.162534</td>\n",
       "      <td>3.180164</td>\n",
       "      <td>0.208518</td>\n",
       "      <td>6.519710</td>\n",
       "      <td>1.678931</td>\n",
       "      <td>0.801077</td>\n",
       "      <td>0.044440</td>\n",
       "      <td>0.800000</td>\n",
       "      <td>0.052444</td>\n",
       "      <td>506.000000</td>\n",
       "    </tr>\n",
       "    <tr>\n",
       "      <th>max</th>\n",
       "      <td>26.686000</td>\n",
       "      <td>6.867653</td>\n",
       "      <td>0.0</td>\n",
       "      <td>10.0</td>\n",
       "      <td>299.000000</td>\n",
       "      <td>30.000000</td>\n",
       "      <td>30.000000</td>\n",
       "      <td>30.000000</td>\n",
       "      <td>30.000000</td>\n",
       "      <td>30.000000</td>\n",
       "      <td>...</td>\n",
       "      <td>30.000000</td>\n",
       "      <td>30.000000</td>\n",
       "      <td>1.653924</td>\n",
       "      <td>9.367064</td>\n",
       "      <td>3.140065</td>\n",
       "      <td>0.811978</td>\n",
       "      <td>2.186863</td>\n",
       "      <td>0.800000</td>\n",
       "      <td>1.570796</td>\n",
       "      <td>1375.000000</td>\n",
       "    </tr>\n",
       "  </tbody>\n",
       "</table>\n",
       "<p>8 rows × 733 columns</p>\n",
       "</div>"
      ],
      "text/plain": [
       "         actual_time   optimal_time    goal_x    goal_y      world_idx  \\\n",
       "count  202569.000000  202569.000000  202569.0  202569.0  202569.000000   \n",
       "mean       12.902522       5.715869       0.0      10.0     151.958370   \n",
       "std         2.451819       0.375246       0.0       0.0      87.229118   \n",
       "min        11.784000       5.026614       0.0      10.0       0.000000   \n",
       "25%        11.937000       5.446358       0.0      10.0      76.000000   \n",
       "50%        12.136000       5.617254       0.0      10.0     153.000000   \n",
       "75%        12.518000       5.922971       0.0      10.0     228.000000   \n",
       "max        26.686000       6.867653       0.0      10.0     299.000000   \n",
       "\n",
       "             lidar_0        lidar_1        lidar_2        lidar_3  \\\n",
       "count  202569.000000  202569.000000  202569.000000  202569.000000   \n",
       "mean        4.115800       4.135718       4.152697       4.171695   \n",
       "std         6.490961       6.553439       6.610645       6.670345   \n",
       "min         0.292403       0.291040       0.289275       0.287048   \n",
       "25%         1.691495       1.684698       1.677570       1.671675   \n",
       "50%         2.879177       2.865790       2.851509       2.837667   \n",
       "75%         3.195433       3.179926       3.163331       3.149627   \n",
       "max        30.000000      30.000000      30.000000      30.000000   \n",
       "\n",
       "             lidar_4  ...      lidar_718      lidar_719          pos_x  \\\n",
       "count  202569.000000  ...  202569.000000  202569.000000  202569.000000   \n",
       "mean        4.190318  ...       4.341831       4.328646      -0.040379   \n",
       "std         6.728279  ...       7.042407       6.992671       0.530169   \n",
       "min         0.286279  ...       0.292182       0.293237      -1.714366   \n",
       "25%         1.666527  ...       1.601476       1.608613      -0.308475   \n",
       "50%         2.824436  ...       2.823026       2.836414      -0.006654   \n",
       "75%         3.134901  ...       3.162534       3.180164       0.208518   \n",
       "max        30.000000  ...      30.000000      30.000000       1.653924   \n",
       "\n",
       "               pos_y   pose_heading   twist_linear  twist_angular  \\\n",
       "count  202569.000000  202569.000000  202569.000000  202569.000000   \n",
       "mean        4.130155       1.548915       0.704698      -0.003710   \n",
       "std         2.789321       0.385390       0.211738       0.259670   \n",
       "min        -0.000258      -3.141397      -0.337823      -2.126267   \n",
       "25%         1.634119       1.465763       0.799501      -0.062289   \n",
       "50%         4.026890       1.578731       0.800233      -0.001211   \n",
       "75%         6.519710       1.678931       0.801077       0.044440   \n",
       "max         9.367064       3.140065       0.811978       2.186863   \n",
       "\n",
       "       cmd_vel_linear  cmd_vel_angular       timestep  \n",
       "count   202569.000000    202569.000000  202569.000000  \n",
       "mean         0.705616        -0.002722     343.772685  \n",
       "std          0.208302         0.233824     210.896994  \n",
       "min         -0.300000        -1.570796       0.000000  \n",
       "25%          0.800000        -0.067353     168.000000  \n",
       "50%          0.800000         0.000042     337.000000  \n",
       "75%          0.800000         0.052444     506.000000  \n",
       "max          0.800000         1.570796    1375.000000  \n",
       "\n",
       "[8 rows x 733 columns]"
      ]
     },
     "execution_count": 2,
     "metadata": {},
     "output_type": "execute_result"
    }
   ],
   "source": [
    "df.describe()"
   ]
  },
  {
   "cell_type": "code",
   "execution_count": 3,
   "metadata": {},
   "outputs": [],
   "source": [
    "# torch Dataset\n",
    "from torch.utils.data import Dataset\n",
    "import numpy as np\n",
    "from sklearn.preprocessing import MinMaxScaler\n",
    "\n",
    "class KULBarnDataset(Dataset):\n",
    "    def get_local_goal(self):\n",
    "        x = self.data['pos_x']\n",
    "        y = self.data['pos_y']\n",
    "        theta = self.data['pose_heading']\n",
    "        goal_x = self.data['goal_x']\n",
    "        goal_y = self.data['goal_y']\n",
    "        self.data['local_x'] = (goal_x - x) * np.cos(theta) + (goal_y - y) * np.sin(theta)\n",
    "        self.data['local_y'] = -(goal_x - x) * np.sin(theta) + (goal_y - y) * np.cos(theta)\n",
    "    \n",
    "    def __init__(self, df, scaler=None):\n",
    "        super().__init__()\n",
    "\n",
    "        self.data = df\n",
    "        self.get_local_goal()   \n",
    "        self.data = self.data.drop(columns=[\n",
    "            'world_idx', 'timestep', 'actual_time', 'optimal_time', \n",
    "            'pos_x', 'pos_y', 'pose_heading', 'goal_x', 'goal_y', 'success'\n",
    "        ])\n",
    "\n",
    "        # get all the column values that contain the word lidar\n",
    "        self.lidar_cols = [col for col in self.data.columns if 'lidar' in col]\n",
    "        # get actions columns\n",
    "        self.actions_cols = [col for col in self.data.columns if 'cmd' in col]\n",
    "        # get other columns\n",
    "        self.non_lidar_cols = [col for col in self.data.columns if col not in self.lidar_cols and col not in self.actions_cols]\n",
    "        print(\"Lidar Columns:\", self.lidar_cols)\n",
    "        print(\"Non Lidar Columns:\", self.non_lidar_cols)\n",
    "        print(\"Action Columns:\", self.actions_cols)\n",
    "\n",
    "        self.cols_order = self.lidar_cols + self.non_lidar_cols + self.actions_cols\n",
    "        self.data = self.data[self.cols_order]\n",
    "        print(self.data.head())\n",
    "        \n",
    "        if scaler is None:\n",
    "            self.scaler = MinMaxScaler()\n",
    "            self.scaler.fit(self.data)\n",
    "        else:\n",
    "            self.scaler = scaler\n",
    "        self.data = pd.DataFrame(self.scaler.transform(self.data), columns=self.data.columns)\n",
    "        \n",
    "        self.lidar_data = self.data[self.lidar_cols].values\n",
    "        self.non_lidar_data = self.data[self.non_lidar_cols].values\n",
    "        self.actions_data = self.data[self.actions_cols].values\n",
    "\n",
    "    def __len__(self):\n",
    "        return len(self.data)\n",
    "    \n",
    "    def __getitem__(self, idx):\n",
    "        lidar = self.lidar_data[idx]\n",
    "        non_lidar = self.non_lidar_data[idx]\n",
    "        actions = self.actions_data[idx]\n",
    "        return lidar, non_lidar, actions"
   ]
  },
  {
   "cell_type": "code",
   "execution_count": 4,
   "metadata": {},
   "outputs": [],
   "source": [
    "# split train and test\n",
    "import random\n",
    "# set random seed\n",
    "random.seed(42)\n",
    "\n",
    "NO_WORLDS = 300\n",
    "TRAIN_RATIO = 0.7\n",
    "VAL_RATIO = 0.1\n",
    "TEST_RATIO = 0.2\n",
    "\n",
    "world_ids = [i for i in range(NO_WORLDS)]\n",
    "test_ids = [id for id in range(0, NO_WORLDS, 5)]\n",
    "train_evals = [id for id in world_ids if id not in test_ids]\n",
    "train_ids = random.sample(train_evals, int(NO_WORLDS * TRAIN_RATIO))\n",
    "val_ids = [id for id in train_evals if id not in train_ids]\n",
    "\n",
    "train_df = df[df['world_idx'].isin(train_ids)]\n",
    "val_df = df[df['world_idx'].isin(val_ids)]"
   ]
  },
  {
   "cell_type": "code",
   "execution_count": 5,
   "metadata": {},
   "outputs": [
    {
     "name": "stdout",
     "output_type": "stream",
     "text": [
      "210\n",
      "30\n",
      "60\n"
     ]
    }
   ],
   "source": [
    "print(len(train_ids))\n",
    "print(len(val_ids))\n",
    "print(len(test_ids))"
   ]
  },
  {
   "cell_type": "code",
   "execution_count": 6,
   "metadata": {},
   "outputs": [
    {
     "name": "stdout",
     "output_type": "stream",
     "text": [
      "141967\n",
      "20248\n"
     ]
    }
   ],
   "source": [
    "print(len(train_df))\n",
    "print(len(val_df))"
   ]
  },
  {
   "cell_type": "code",
   "execution_count": 7,
   "metadata": {},
   "outputs": [
    {
     "name": "stdout",
     "output_type": "stream",
     "text": [
      "Lidar Columns: ['lidar_0', 'lidar_1', 'lidar_2', 'lidar_3', 'lidar_4', 'lidar_5', 'lidar_6', 'lidar_7', 'lidar_8', 'lidar_9', 'lidar_10', 'lidar_11', 'lidar_12', 'lidar_13', 'lidar_14', 'lidar_15', 'lidar_16', 'lidar_17', 'lidar_18', 'lidar_19', 'lidar_20', 'lidar_21', 'lidar_22', 'lidar_23', 'lidar_24', 'lidar_25', 'lidar_26', 'lidar_27', 'lidar_28', 'lidar_29', 'lidar_30', 'lidar_31', 'lidar_32', 'lidar_33', 'lidar_34', 'lidar_35', 'lidar_36', 'lidar_37', 'lidar_38', 'lidar_39', 'lidar_40', 'lidar_41', 'lidar_42', 'lidar_43', 'lidar_44', 'lidar_45', 'lidar_46', 'lidar_47', 'lidar_48', 'lidar_49', 'lidar_50', 'lidar_51', 'lidar_52', 'lidar_53', 'lidar_54', 'lidar_55', 'lidar_56', 'lidar_57', 'lidar_58', 'lidar_59', 'lidar_60', 'lidar_61', 'lidar_62', 'lidar_63', 'lidar_64', 'lidar_65', 'lidar_66', 'lidar_67', 'lidar_68', 'lidar_69', 'lidar_70', 'lidar_71', 'lidar_72', 'lidar_73', 'lidar_74', 'lidar_75', 'lidar_76', 'lidar_77', 'lidar_78', 'lidar_79', 'lidar_80', 'lidar_81', 'lidar_82', 'lidar_83', 'lidar_84', 'lidar_85', 'lidar_86', 'lidar_87', 'lidar_88', 'lidar_89', 'lidar_90', 'lidar_91', 'lidar_92', 'lidar_93', 'lidar_94', 'lidar_95', 'lidar_96', 'lidar_97', 'lidar_98', 'lidar_99', 'lidar_100', 'lidar_101', 'lidar_102', 'lidar_103', 'lidar_104', 'lidar_105', 'lidar_106', 'lidar_107', 'lidar_108', 'lidar_109', 'lidar_110', 'lidar_111', 'lidar_112', 'lidar_113', 'lidar_114', 'lidar_115', 'lidar_116', 'lidar_117', 'lidar_118', 'lidar_119', 'lidar_120', 'lidar_121', 'lidar_122', 'lidar_123', 'lidar_124', 'lidar_125', 'lidar_126', 'lidar_127', 'lidar_128', 'lidar_129', 'lidar_130', 'lidar_131', 'lidar_132', 'lidar_133', 'lidar_134', 'lidar_135', 'lidar_136', 'lidar_137', 'lidar_138', 'lidar_139', 'lidar_140', 'lidar_141', 'lidar_142', 'lidar_143', 'lidar_144', 'lidar_145', 'lidar_146', 'lidar_147', 'lidar_148', 'lidar_149', 'lidar_150', 'lidar_151', 'lidar_152', 'lidar_153', 'lidar_154', 'lidar_155', 'lidar_156', 'lidar_157', 'lidar_158', 'lidar_159', 'lidar_160', 'lidar_161', 'lidar_162', 'lidar_163', 'lidar_164', 'lidar_165', 'lidar_166', 'lidar_167', 'lidar_168', 'lidar_169', 'lidar_170', 'lidar_171', 'lidar_172', 'lidar_173', 'lidar_174', 'lidar_175', 'lidar_176', 'lidar_177', 'lidar_178', 'lidar_179', 'lidar_180', 'lidar_181', 'lidar_182', 'lidar_183', 'lidar_184', 'lidar_185', 'lidar_186', 'lidar_187', 'lidar_188', 'lidar_189', 'lidar_190', 'lidar_191', 'lidar_192', 'lidar_193', 'lidar_194', 'lidar_195', 'lidar_196', 'lidar_197', 'lidar_198', 'lidar_199', 'lidar_200', 'lidar_201', 'lidar_202', 'lidar_203', 'lidar_204', 'lidar_205', 'lidar_206', 'lidar_207', 'lidar_208', 'lidar_209', 'lidar_210', 'lidar_211', 'lidar_212', 'lidar_213', 'lidar_214', 'lidar_215', 'lidar_216', 'lidar_217', 'lidar_218', 'lidar_219', 'lidar_220', 'lidar_221', 'lidar_222', 'lidar_223', 'lidar_224', 'lidar_225', 'lidar_226', 'lidar_227', 'lidar_228', 'lidar_229', 'lidar_230', 'lidar_231', 'lidar_232', 'lidar_233', 'lidar_234', 'lidar_235', 'lidar_236', 'lidar_237', 'lidar_238', 'lidar_239', 'lidar_240', 'lidar_241', 'lidar_242', 'lidar_243', 'lidar_244', 'lidar_245', 'lidar_246', 'lidar_247', 'lidar_248', 'lidar_249', 'lidar_250', 'lidar_251', 'lidar_252', 'lidar_253', 'lidar_254', 'lidar_255', 'lidar_256', 'lidar_257', 'lidar_258', 'lidar_259', 'lidar_260', 'lidar_261', 'lidar_262', 'lidar_263', 'lidar_264', 'lidar_265', 'lidar_266', 'lidar_267', 'lidar_268', 'lidar_269', 'lidar_270', 'lidar_271', 'lidar_272', 'lidar_273', 'lidar_274', 'lidar_275', 'lidar_276', 'lidar_277', 'lidar_278', 'lidar_279', 'lidar_280', 'lidar_281', 'lidar_282', 'lidar_283', 'lidar_284', 'lidar_285', 'lidar_286', 'lidar_287', 'lidar_288', 'lidar_289', 'lidar_290', 'lidar_291', 'lidar_292', 'lidar_293', 'lidar_294', 'lidar_295', 'lidar_296', 'lidar_297', 'lidar_298', 'lidar_299', 'lidar_300', 'lidar_301', 'lidar_302', 'lidar_303', 'lidar_304', 'lidar_305', 'lidar_306', 'lidar_307', 'lidar_308', 'lidar_309', 'lidar_310', 'lidar_311', 'lidar_312', 'lidar_313', 'lidar_314', 'lidar_315', 'lidar_316', 'lidar_317', 'lidar_318', 'lidar_319', 'lidar_320', 'lidar_321', 'lidar_322', 'lidar_323', 'lidar_324', 'lidar_325', 'lidar_326', 'lidar_327', 'lidar_328', 'lidar_329', 'lidar_330', 'lidar_331', 'lidar_332', 'lidar_333', 'lidar_334', 'lidar_335', 'lidar_336', 'lidar_337', 'lidar_338', 'lidar_339', 'lidar_340', 'lidar_341', 'lidar_342', 'lidar_343', 'lidar_344', 'lidar_345', 'lidar_346', 'lidar_347', 'lidar_348', 'lidar_349', 'lidar_350', 'lidar_351', 'lidar_352', 'lidar_353', 'lidar_354', 'lidar_355', 'lidar_356', 'lidar_357', 'lidar_358', 'lidar_359', 'lidar_360', 'lidar_361', 'lidar_362', 'lidar_363', 'lidar_364', 'lidar_365', 'lidar_366', 'lidar_367', 'lidar_368', 'lidar_369', 'lidar_370', 'lidar_371', 'lidar_372', 'lidar_373', 'lidar_374', 'lidar_375', 'lidar_376', 'lidar_377', 'lidar_378', 'lidar_379', 'lidar_380', 'lidar_381', 'lidar_382', 'lidar_383', 'lidar_384', 'lidar_385', 'lidar_386', 'lidar_387', 'lidar_388', 'lidar_389', 'lidar_390', 'lidar_391', 'lidar_392', 'lidar_393', 'lidar_394', 'lidar_395', 'lidar_396', 'lidar_397', 'lidar_398', 'lidar_399', 'lidar_400', 'lidar_401', 'lidar_402', 'lidar_403', 'lidar_404', 'lidar_405', 'lidar_406', 'lidar_407', 'lidar_408', 'lidar_409', 'lidar_410', 'lidar_411', 'lidar_412', 'lidar_413', 'lidar_414', 'lidar_415', 'lidar_416', 'lidar_417', 'lidar_418', 'lidar_419', 'lidar_420', 'lidar_421', 'lidar_422', 'lidar_423', 'lidar_424', 'lidar_425', 'lidar_426', 'lidar_427', 'lidar_428', 'lidar_429', 'lidar_430', 'lidar_431', 'lidar_432', 'lidar_433', 'lidar_434', 'lidar_435', 'lidar_436', 'lidar_437', 'lidar_438', 'lidar_439', 'lidar_440', 'lidar_441', 'lidar_442', 'lidar_443', 'lidar_444', 'lidar_445', 'lidar_446', 'lidar_447', 'lidar_448', 'lidar_449', 'lidar_450', 'lidar_451', 'lidar_452', 'lidar_453', 'lidar_454', 'lidar_455', 'lidar_456', 'lidar_457', 'lidar_458', 'lidar_459', 'lidar_460', 'lidar_461', 'lidar_462', 'lidar_463', 'lidar_464', 'lidar_465', 'lidar_466', 'lidar_467', 'lidar_468', 'lidar_469', 'lidar_470', 'lidar_471', 'lidar_472', 'lidar_473', 'lidar_474', 'lidar_475', 'lidar_476', 'lidar_477', 'lidar_478', 'lidar_479', 'lidar_480', 'lidar_481', 'lidar_482', 'lidar_483', 'lidar_484', 'lidar_485', 'lidar_486', 'lidar_487', 'lidar_488', 'lidar_489', 'lidar_490', 'lidar_491', 'lidar_492', 'lidar_493', 'lidar_494', 'lidar_495', 'lidar_496', 'lidar_497', 'lidar_498', 'lidar_499', 'lidar_500', 'lidar_501', 'lidar_502', 'lidar_503', 'lidar_504', 'lidar_505', 'lidar_506', 'lidar_507', 'lidar_508', 'lidar_509', 'lidar_510', 'lidar_511', 'lidar_512', 'lidar_513', 'lidar_514', 'lidar_515', 'lidar_516', 'lidar_517', 'lidar_518', 'lidar_519', 'lidar_520', 'lidar_521', 'lidar_522', 'lidar_523', 'lidar_524', 'lidar_525', 'lidar_526', 'lidar_527', 'lidar_528', 'lidar_529', 'lidar_530', 'lidar_531', 'lidar_532', 'lidar_533', 'lidar_534', 'lidar_535', 'lidar_536', 'lidar_537', 'lidar_538', 'lidar_539', 'lidar_540', 'lidar_541', 'lidar_542', 'lidar_543', 'lidar_544', 'lidar_545', 'lidar_546', 'lidar_547', 'lidar_548', 'lidar_549', 'lidar_550', 'lidar_551', 'lidar_552', 'lidar_553', 'lidar_554', 'lidar_555', 'lidar_556', 'lidar_557', 'lidar_558', 'lidar_559', 'lidar_560', 'lidar_561', 'lidar_562', 'lidar_563', 'lidar_564', 'lidar_565', 'lidar_566', 'lidar_567', 'lidar_568', 'lidar_569', 'lidar_570', 'lidar_571', 'lidar_572', 'lidar_573', 'lidar_574', 'lidar_575', 'lidar_576', 'lidar_577', 'lidar_578', 'lidar_579', 'lidar_580', 'lidar_581', 'lidar_582', 'lidar_583', 'lidar_584', 'lidar_585', 'lidar_586', 'lidar_587', 'lidar_588', 'lidar_589', 'lidar_590', 'lidar_591', 'lidar_592', 'lidar_593', 'lidar_594', 'lidar_595', 'lidar_596', 'lidar_597', 'lidar_598', 'lidar_599', 'lidar_600', 'lidar_601', 'lidar_602', 'lidar_603', 'lidar_604', 'lidar_605', 'lidar_606', 'lidar_607', 'lidar_608', 'lidar_609', 'lidar_610', 'lidar_611', 'lidar_612', 'lidar_613', 'lidar_614', 'lidar_615', 'lidar_616', 'lidar_617', 'lidar_618', 'lidar_619', 'lidar_620', 'lidar_621', 'lidar_622', 'lidar_623', 'lidar_624', 'lidar_625', 'lidar_626', 'lidar_627', 'lidar_628', 'lidar_629', 'lidar_630', 'lidar_631', 'lidar_632', 'lidar_633', 'lidar_634', 'lidar_635', 'lidar_636', 'lidar_637', 'lidar_638', 'lidar_639', 'lidar_640', 'lidar_641', 'lidar_642', 'lidar_643', 'lidar_644', 'lidar_645', 'lidar_646', 'lidar_647', 'lidar_648', 'lidar_649', 'lidar_650', 'lidar_651', 'lidar_652', 'lidar_653', 'lidar_654', 'lidar_655', 'lidar_656', 'lidar_657', 'lidar_658', 'lidar_659', 'lidar_660', 'lidar_661', 'lidar_662', 'lidar_663', 'lidar_664', 'lidar_665', 'lidar_666', 'lidar_667', 'lidar_668', 'lidar_669', 'lidar_670', 'lidar_671', 'lidar_672', 'lidar_673', 'lidar_674', 'lidar_675', 'lidar_676', 'lidar_677', 'lidar_678', 'lidar_679', 'lidar_680', 'lidar_681', 'lidar_682', 'lidar_683', 'lidar_684', 'lidar_685', 'lidar_686', 'lidar_687', 'lidar_688', 'lidar_689', 'lidar_690', 'lidar_691', 'lidar_692', 'lidar_693', 'lidar_694', 'lidar_695', 'lidar_696', 'lidar_697', 'lidar_698', 'lidar_699', 'lidar_700', 'lidar_701', 'lidar_702', 'lidar_703', 'lidar_704', 'lidar_705', 'lidar_706', 'lidar_707', 'lidar_708', 'lidar_709', 'lidar_710', 'lidar_711', 'lidar_712', 'lidar_713', 'lidar_714', 'lidar_715', 'lidar_716', 'lidar_717', 'lidar_718', 'lidar_719']\n",
      "Non Lidar Columns: ['twist_linear', 'twist_angular', 'local_x', 'local_y']\n",
      "Action Columns: ['cmd_vel_linear', 'cmd_vel_angular']\n",
      "Lidar Columns: ['lidar_0', 'lidar_1', 'lidar_2', 'lidar_3', 'lidar_4', 'lidar_5', 'lidar_6', 'lidar_7', 'lidar_8', 'lidar_9', 'lidar_10', 'lidar_11', 'lidar_12', 'lidar_13', 'lidar_14', 'lidar_15', 'lidar_16', 'lidar_17', 'lidar_18', 'lidar_19', 'lidar_20', 'lidar_21', 'lidar_22', 'lidar_23', 'lidar_24', 'lidar_25', 'lidar_26', 'lidar_27', 'lidar_28', 'lidar_29', 'lidar_30', 'lidar_31', 'lidar_32', 'lidar_33', 'lidar_34', 'lidar_35', 'lidar_36', 'lidar_37', 'lidar_38', 'lidar_39', 'lidar_40', 'lidar_41', 'lidar_42', 'lidar_43', 'lidar_44', 'lidar_45', 'lidar_46', 'lidar_47', 'lidar_48', 'lidar_49', 'lidar_50', 'lidar_51', 'lidar_52', 'lidar_53', 'lidar_54', 'lidar_55', 'lidar_56', 'lidar_57', 'lidar_58', 'lidar_59', 'lidar_60', 'lidar_61', 'lidar_62', 'lidar_63', 'lidar_64', 'lidar_65', 'lidar_66', 'lidar_67', 'lidar_68', 'lidar_69', 'lidar_70', 'lidar_71', 'lidar_72', 'lidar_73', 'lidar_74', 'lidar_75', 'lidar_76', 'lidar_77', 'lidar_78', 'lidar_79', 'lidar_80', 'lidar_81', 'lidar_82', 'lidar_83', 'lidar_84', 'lidar_85', 'lidar_86', 'lidar_87', 'lidar_88', 'lidar_89', 'lidar_90', 'lidar_91', 'lidar_92', 'lidar_93', 'lidar_94', 'lidar_95', 'lidar_96', 'lidar_97', 'lidar_98', 'lidar_99', 'lidar_100', 'lidar_101', 'lidar_102', 'lidar_103', 'lidar_104', 'lidar_105', 'lidar_106', 'lidar_107', 'lidar_108', 'lidar_109', 'lidar_110', 'lidar_111', 'lidar_112', 'lidar_113', 'lidar_114', 'lidar_115', 'lidar_116', 'lidar_117', 'lidar_118', 'lidar_119', 'lidar_120', 'lidar_121', 'lidar_122', 'lidar_123', 'lidar_124', 'lidar_125', 'lidar_126', 'lidar_127', 'lidar_128', 'lidar_129', 'lidar_130', 'lidar_131', 'lidar_132', 'lidar_133', 'lidar_134', 'lidar_135', 'lidar_136', 'lidar_137', 'lidar_138', 'lidar_139', 'lidar_140', 'lidar_141', 'lidar_142', 'lidar_143', 'lidar_144', 'lidar_145', 'lidar_146', 'lidar_147', 'lidar_148', 'lidar_149', 'lidar_150', 'lidar_151', 'lidar_152', 'lidar_153', 'lidar_154', 'lidar_155', 'lidar_156', 'lidar_157', 'lidar_158', 'lidar_159', 'lidar_160', 'lidar_161', 'lidar_162', 'lidar_163', 'lidar_164', 'lidar_165', 'lidar_166', 'lidar_167', 'lidar_168', 'lidar_169', 'lidar_170', 'lidar_171', 'lidar_172', 'lidar_173', 'lidar_174', 'lidar_175', 'lidar_176', 'lidar_177', 'lidar_178', 'lidar_179', 'lidar_180', 'lidar_181', 'lidar_182', 'lidar_183', 'lidar_184', 'lidar_185', 'lidar_186', 'lidar_187', 'lidar_188', 'lidar_189', 'lidar_190', 'lidar_191', 'lidar_192', 'lidar_193', 'lidar_194', 'lidar_195', 'lidar_196', 'lidar_197', 'lidar_198', 'lidar_199', 'lidar_200', 'lidar_201', 'lidar_202', 'lidar_203', 'lidar_204', 'lidar_205', 'lidar_206', 'lidar_207', 'lidar_208', 'lidar_209', 'lidar_210', 'lidar_211', 'lidar_212', 'lidar_213', 'lidar_214', 'lidar_215', 'lidar_216', 'lidar_217', 'lidar_218', 'lidar_219', 'lidar_220', 'lidar_221', 'lidar_222', 'lidar_223', 'lidar_224', 'lidar_225', 'lidar_226', 'lidar_227', 'lidar_228', 'lidar_229', 'lidar_230', 'lidar_231', 'lidar_232', 'lidar_233', 'lidar_234', 'lidar_235', 'lidar_236', 'lidar_237', 'lidar_238', 'lidar_239', 'lidar_240', 'lidar_241', 'lidar_242', 'lidar_243', 'lidar_244', 'lidar_245', 'lidar_246', 'lidar_247', 'lidar_248', 'lidar_249', 'lidar_250', 'lidar_251', 'lidar_252', 'lidar_253', 'lidar_254', 'lidar_255', 'lidar_256', 'lidar_257', 'lidar_258', 'lidar_259', 'lidar_260', 'lidar_261', 'lidar_262', 'lidar_263', 'lidar_264', 'lidar_265', 'lidar_266', 'lidar_267', 'lidar_268', 'lidar_269', 'lidar_270', 'lidar_271', 'lidar_272', 'lidar_273', 'lidar_274', 'lidar_275', 'lidar_276', 'lidar_277', 'lidar_278', 'lidar_279', 'lidar_280', 'lidar_281', 'lidar_282', 'lidar_283', 'lidar_284', 'lidar_285', 'lidar_286', 'lidar_287', 'lidar_288', 'lidar_289', 'lidar_290', 'lidar_291', 'lidar_292', 'lidar_293', 'lidar_294', 'lidar_295', 'lidar_296', 'lidar_297', 'lidar_298', 'lidar_299', 'lidar_300', 'lidar_301', 'lidar_302', 'lidar_303', 'lidar_304', 'lidar_305', 'lidar_306', 'lidar_307', 'lidar_308', 'lidar_309', 'lidar_310', 'lidar_311', 'lidar_312', 'lidar_313', 'lidar_314', 'lidar_315', 'lidar_316', 'lidar_317', 'lidar_318', 'lidar_319', 'lidar_320', 'lidar_321', 'lidar_322', 'lidar_323', 'lidar_324', 'lidar_325', 'lidar_326', 'lidar_327', 'lidar_328', 'lidar_329', 'lidar_330', 'lidar_331', 'lidar_332', 'lidar_333', 'lidar_334', 'lidar_335', 'lidar_336', 'lidar_337', 'lidar_338', 'lidar_339', 'lidar_340', 'lidar_341', 'lidar_342', 'lidar_343', 'lidar_344', 'lidar_345', 'lidar_346', 'lidar_347', 'lidar_348', 'lidar_349', 'lidar_350', 'lidar_351', 'lidar_352', 'lidar_353', 'lidar_354', 'lidar_355', 'lidar_356', 'lidar_357', 'lidar_358', 'lidar_359', 'lidar_360', 'lidar_361', 'lidar_362', 'lidar_363', 'lidar_364', 'lidar_365', 'lidar_366', 'lidar_367', 'lidar_368', 'lidar_369', 'lidar_370', 'lidar_371', 'lidar_372', 'lidar_373', 'lidar_374', 'lidar_375', 'lidar_376', 'lidar_377', 'lidar_378', 'lidar_379', 'lidar_380', 'lidar_381', 'lidar_382', 'lidar_383', 'lidar_384', 'lidar_385', 'lidar_386', 'lidar_387', 'lidar_388', 'lidar_389', 'lidar_390', 'lidar_391', 'lidar_392', 'lidar_393', 'lidar_394', 'lidar_395', 'lidar_396', 'lidar_397', 'lidar_398', 'lidar_399', 'lidar_400', 'lidar_401', 'lidar_402', 'lidar_403', 'lidar_404', 'lidar_405', 'lidar_406', 'lidar_407', 'lidar_408', 'lidar_409', 'lidar_410', 'lidar_411', 'lidar_412', 'lidar_413', 'lidar_414', 'lidar_415', 'lidar_416', 'lidar_417', 'lidar_418', 'lidar_419', 'lidar_420', 'lidar_421', 'lidar_422', 'lidar_423', 'lidar_424', 'lidar_425', 'lidar_426', 'lidar_427', 'lidar_428', 'lidar_429', 'lidar_430', 'lidar_431', 'lidar_432', 'lidar_433', 'lidar_434', 'lidar_435', 'lidar_436', 'lidar_437', 'lidar_438', 'lidar_439', 'lidar_440', 'lidar_441', 'lidar_442', 'lidar_443', 'lidar_444', 'lidar_445', 'lidar_446', 'lidar_447', 'lidar_448', 'lidar_449', 'lidar_450', 'lidar_451', 'lidar_452', 'lidar_453', 'lidar_454', 'lidar_455', 'lidar_456', 'lidar_457', 'lidar_458', 'lidar_459', 'lidar_460', 'lidar_461', 'lidar_462', 'lidar_463', 'lidar_464', 'lidar_465', 'lidar_466', 'lidar_467', 'lidar_468', 'lidar_469', 'lidar_470', 'lidar_471', 'lidar_472', 'lidar_473', 'lidar_474', 'lidar_475', 'lidar_476', 'lidar_477', 'lidar_478', 'lidar_479', 'lidar_480', 'lidar_481', 'lidar_482', 'lidar_483', 'lidar_484', 'lidar_485', 'lidar_486', 'lidar_487', 'lidar_488', 'lidar_489', 'lidar_490', 'lidar_491', 'lidar_492', 'lidar_493', 'lidar_494', 'lidar_495', 'lidar_496', 'lidar_497', 'lidar_498', 'lidar_499', 'lidar_500', 'lidar_501', 'lidar_502', 'lidar_503', 'lidar_504', 'lidar_505', 'lidar_506', 'lidar_507', 'lidar_508', 'lidar_509', 'lidar_510', 'lidar_511', 'lidar_512', 'lidar_513', 'lidar_514', 'lidar_515', 'lidar_516', 'lidar_517', 'lidar_518', 'lidar_519', 'lidar_520', 'lidar_521', 'lidar_522', 'lidar_523', 'lidar_524', 'lidar_525', 'lidar_526', 'lidar_527', 'lidar_528', 'lidar_529', 'lidar_530', 'lidar_531', 'lidar_532', 'lidar_533', 'lidar_534', 'lidar_535', 'lidar_536', 'lidar_537', 'lidar_538', 'lidar_539', 'lidar_540', 'lidar_541', 'lidar_542', 'lidar_543', 'lidar_544', 'lidar_545', 'lidar_546', 'lidar_547', 'lidar_548', 'lidar_549', 'lidar_550', 'lidar_551', 'lidar_552', 'lidar_553', 'lidar_554', 'lidar_555', 'lidar_556', 'lidar_557', 'lidar_558', 'lidar_559', 'lidar_560', 'lidar_561', 'lidar_562', 'lidar_563', 'lidar_564', 'lidar_565', 'lidar_566', 'lidar_567', 'lidar_568', 'lidar_569', 'lidar_570', 'lidar_571', 'lidar_572', 'lidar_573', 'lidar_574', 'lidar_575', 'lidar_576', 'lidar_577', 'lidar_578', 'lidar_579', 'lidar_580', 'lidar_581', 'lidar_582', 'lidar_583', 'lidar_584', 'lidar_585', 'lidar_586', 'lidar_587', 'lidar_588', 'lidar_589', 'lidar_590', 'lidar_591', 'lidar_592', 'lidar_593', 'lidar_594', 'lidar_595', 'lidar_596', 'lidar_597', 'lidar_598', 'lidar_599', 'lidar_600', 'lidar_601', 'lidar_602', 'lidar_603', 'lidar_604', 'lidar_605', 'lidar_606', 'lidar_607', 'lidar_608', 'lidar_609', 'lidar_610', 'lidar_611', 'lidar_612', 'lidar_613', 'lidar_614', 'lidar_615', 'lidar_616', 'lidar_617', 'lidar_618', 'lidar_619', 'lidar_620', 'lidar_621', 'lidar_622', 'lidar_623', 'lidar_624', 'lidar_625', 'lidar_626', 'lidar_627', 'lidar_628', 'lidar_629', 'lidar_630', 'lidar_631', 'lidar_632', 'lidar_633', 'lidar_634', 'lidar_635', 'lidar_636', 'lidar_637', 'lidar_638', 'lidar_639', 'lidar_640', 'lidar_641', 'lidar_642', 'lidar_643', 'lidar_644', 'lidar_645', 'lidar_646', 'lidar_647', 'lidar_648', 'lidar_649', 'lidar_650', 'lidar_651', 'lidar_652', 'lidar_653', 'lidar_654', 'lidar_655', 'lidar_656', 'lidar_657', 'lidar_658', 'lidar_659', 'lidar_660', 'lidar_661', 'lidar_662', 'lidar_663', 'lidar_664', 'lidar_665', 'lidar_666', 'lidar_667', 'lidar_668', 'lidar_669', 'lidar_670', 'lidar_671', 'lidar_672', 'lidar_673', 'lidar_674', 'lidar_675', 'lidar_676', 'lidar_677', 'lidar_678', 'lidar_679', 'lidar_680', 'lidar_681', 'lidar_682', 'lidar_683', 'lidar_684', 'lidar_685', 'lidar_686', 'lidar_687', 'lidar_688', 'lidar_689', 'lidar_690', 'lidar_691', 'lidar_692', 'lidar_693', 'lidar_694', 'lidar_695', 'lidar_696', 'lidar_697', 'lidar_698', 'lidar_699', 'lidar_700', 'lidar_701', 'lidar_702', 'lidar_703', 'lidar_704', 'lidar_705', 'lidar_706', 'lidar_707', 'lidar_708', 'lidar_709', 'lidar_710', 'lidar_711', 'lidar_712', 'lidar_713', 'lidar_714', 'lidar_715', 'lidar_716', 'lidar_717', 'lidar_718', 'lidar_719']\n",
      "Non Lidar Columns: ['twist_linear', 'twist_angular', 'local_x', 'local_y']\n",
      "Action Columns: ['cmd_vel_linear', 'cmd_vel_angular']\n"
     ]
    }
   ],
   "source": [
    "train_dataset = KULBarnDataset(train_df)\n",
    "scaler = train_dataset.scaler\n",
    "val_dataset = KULBarnDataset(val_df, scaler)"
   ]
  },
  {
   "cell_type": "code",
   "execution_count": 8,
   "metadata": {},
   "outputs": [
    {
     "name": "stdout",
     "output_type": "stream",
     "text": [
      "Scaler saved to scaler.pkl\n"
     ]
    }
   ],
   "source": [
    "import pickle\n",
    "\n",
    "# Save the scaler to a file\n",
    "scaler_path = 'model/scaler.pkl'\n",
    "with open(scaler_path, 'wb') as f:\n",
    "    pickle.dump(scaler, f)\n",
    "\n",
    "print(f\"Scaler saved to {scaler_path}\")"
   ]
  },
  {
   "cell_type": "code",
   "execution_count": 8,
   "metadata": {},
   "outputs": [
    {
     "name": "stdout",
     "output_type": "stream",
     "text": [
      "Train Dataset Length: 141967\n",
      "Val Dataset Length: 20248\n"
     ]
    }
   ],
   "source": [
    "print(\"Train Dataset Length:\", len(train_dataset))\n",
    "print(\"Val Dataset Length:\", len(val_dataset))"
   ]
  },
  {
   "cell_type": "code",
   "execution_count": 9,
   "metadata": {},
   "outputs": [
    {
     "name": "stdout",
     "output_type": "stream",
     "text": [
      "Non lidar shape: torch.Size([64, 4])\n",
      "Lidar shape: torch.Size([64, 720])\n",
      "Train loader size: 2219\n",
      "Val loader size: 317\n",
      "tensor([[0.0758, 0.0755, 0.0741,  ..., 0.1305, 0.1334, 0.1340],\n",
      "        [0.1382, 0.1406, 0.1396,  ..., 0.0721, 0.0718, 0.0718],\n",
      "        [0.0745, 0.0742, 0.0742,  ..., 0.1258, 0.1257, 0.1258],\n",
      "        ...,\n",
      "        [0.0926, 0.0928, 0.0930,  ..., 0.0886, 0.0885, 0.0886],\n",
      "        [0.0999, 0.0993, 0.0991,  ..., 0.0799, 0.0799, 0.0801],\n",
      "        [0.1445, 0.1458, 0.1579,  ..., 1.0000, 1.0000, 1.0000]],\n",
      "       dtype=torch.float64) tensor([[0.9951, 0.5561, 0.8954, 0.3516],\n",
      "        [0.3367, 0.4099, 0.8572, 0.7762],\n",
      "        [0.9942, 0.5300, 0.8239, 0.1891],\n",
      "        [0.9948, 0.4840, 0.8966, 0.4781],\n",
      "        [0.9895, 0.4831, 0.4893, 0.5174],\n",
      "        [0.9932, 0.4757, 0.8911, 0.4495],\n",
      "        [0.3565, 0.4818, 0.9993, 0.5126],\n",
      "        [0.6107, 0.5083, 0.9780, 0.6082],\n",
      "        [0.9895, 0.5116, 0.6117, 0.5085],\n",
      "        [0.9894, 0.4909, 0.5080, 0.5051],\n",
      "        [0.9923, 0.5012, 0.8529, 0.5036],\n",
      "        [0.9917, 0.4825, 0.8568, 0.4537],\n",
      "        [0.8682, 0.4689, 0.9513, 0.5754],\n",
      "        [0.9901, 0.5720, 0.6211, 0.5628],\n",
      "        [0.9949, 0.4744, 0.9037, 0.5007],\n",
      "        [0.9889, 0.4839, 0.4848, 0.5024],\n",
      "        [0.9899, 0.4921, 0.4455, 0.5143],\n",
      "        [0.9899, 0.4775, 0.5471, 0.5099],\n",
      "        [0.5724, 0.4818, 0.9892, 0.5126],\n",
      "        [0.9899, 0.4959, 0.6887, 0.4461],\n",
      "        [0.9926, 0.5326, 0.8638, 0.3154],\n",
      "        [0.9895, 0.5056, 0.4408, 0.5148],\n",
      "        [0.9910, 0.4822, 0.8385, 0.4582],\n",
      "        [0.9893, 0.4845, 0.5378, 0.4960],\n",
      "        [0.3399, 0.4802, 0.7859, 0.4234],\n",
      "        [0.9895, 0.4814, 0.6184, 0.5200],\n",
      "        [0.9905, 0.5671, 0.7342, 0.4069],\n",
      "        [0.9898, 0.4800, 0.5543, 0.5033],\n",
      "        [0.9940, 0.4358, 0.7773, 0.8572],\n",
      "        [0.9906, 0.4672, 0.5143, 0.4979],\n",
      "        [0.8666, 0.4885, 0.9548, 0.4950],\n",
      "        [0.9895, 0.4784, 0.5718, 0.4920],\n",
      "        [0.9951, 0.7182, 0.4423, 0.8929],\n",
      "        [0.4269, 0.5174, 0.9971, 0.4955],\n",
      "        [0.9898, 0.4784, 0.5593, 0.4950],\n",
      "        [0.4336, 0.4886, 0.9971, 0.5114],\n",
      "        [0.3756, 0.4840, 0.9989, 0.5132],\n",
      "        [0.9898, 0.4855, 0.6437, 0.5184],\n",
      "        [0.9896, 0.4772, 0.7674, 0.6281],\n",
      "        [0.9897, 0.4759, 0.7037, 0.4877],\n",
      "        [0.9900, 0.3206, 0.7179, 0.6281],\n",
      "        [0.9915, 0.4819, 0.8491, 0.4532],\n",
      "        [0.4319, 0.2625, 0.2005, 0.7986],\n",
      "        [0.9898, 0.4851, 0.5816, 0.5022],\n",
      "        [0.9903, 0.5096, 0.6720, 0.5930],\n",
      "        [0.9895, 0.4681, 0.4559, 0.5078],\n",
      "        [0.9900, 0.5063, 0.6593, 0.3630],\n",
      "        [0.9894, 0.4833, 0.5303, 0.5156],\n",
      "        [0.5837, 0.4853, 0.9882, 0.5050],\n",
      "        [0.6469, 0.4843, 0.9826, 0.5125],\n",
      "        [0.9905, 0.5121, 0.7638, 0.4618],\n",
      "        [0.9936, 0.4802, 0.8957, 0.4491],\n",
      "        [0.9891, 0.4863, 0.5715, 0.5185],\n",
      "        [0.6438, 0.2788, 0.7345, 0.4597],\n",
      "        [0.9894, 0.4886, 0.5611, 0.5249],\n",
      "        [0.9907, 0.4731, 0.8151, 0.5515],\n",
      "        [0.4355, 0.4867, 0.9971, 0.5115],\n",
      "        [0.9898, 0.5043, 0.4366, 0.5146],\n",
      "        [0.9903, 0.5643, 0.6550, 0.8104],\n",
      "        [0.9899, 0.4831, 0.6697, 0.4163],\n",
      "        [0.9899, 0.4816, 0.5552, 0.4941],\n",
      "        [0.9903, 0.4796, 0.7918, 0.4977],\n",
      "        [0.9913, 0.4268, 0.8319, 0.4893],\n",
      "        [0.9896, 0.4693, 0.5142, 0.4993]], dtype=torch.float64) tensor([[1.0000, 0.5717],\n",
      "        [0.3345, 0.6527],\n",
      "        [1.0000, 0.5427],\n",
      "        [1.0000, 0.4977],\n",
      "        [1.0000, 0.5066],\n",
      "        [1.0000, 0.4931],\n",
      "        [0.3491, 0.5000],\n",
      "        [0.6055, 0.6522],\n",
      "        [1.0000, 0.5272],\n",
      "        [1.0000, 0.5079],\n",
      "        [1.0000, 0.5158],\n",
      "        [1.0000, 0.4952],\n",
      "        [0.8782, 0.4830],\n",
      "        [1.0000, 0.5853],\n",
      "        [1.0000, 0.4873],\n",
      "        [1.0000, 0.4778],\n",
      "        [1.0000, 0.5094],\n",
      "        [1.0000, 0.4935],\n",
      "        [0.5727, 0.5000],\n",
      "        [1.0000, 0.5158],\n",
      "        [1.0000, 0.5480],\n",
      "        [1.0000, 0.5217],\n",
      "        [1.0000, 0.4864],\n",
      "        [1.0000, 0.4965],\n",
      "        [0.3345, 0.3737],\n",
      "        [1.0000, 0.4785],\n",
      "        [1.0000, 0.5911],\n",
      "        [1.0000, 0.4942],\n",
      "        [1.0000, 0.4582],\n",
      "        [1.0000, 0.4848],\n",
      "        [0.8782, 0.5047],\n",
      "        [1.0000, 0.4934],\n",
      "        [1.0000, 0.7471],\n",
      "        [0.4255, 0.5317],\n",
      "        [1.0000, 0.4934],\n",
      "        [0.4309, 0.5064],\n",
      "        [0.3709, 0.4982],\n",
      "        [1.0000, 0.5072],\n",
      "        [1.0000, 0.4462],\n",
      "        [1.0000, 0.4932],\n",
      "        [1.0000, 0.3430],\n",
      "        [1.0000, 0.4920],\n",
      "        [0.3182, 0.4321],\n",
      "        [1.0000, 0.4975],\n",
      "        [1.0000, 0.5533],\n",
      "        [1.0000, 0.4840],\n",
      "        [1.0000, 0.5192],\n",
      "        [1.0000, 0.4950],\n",
      "        [0.5836, 0.5081],\n",
      "        [0.6491, 0.5000],\n",
      "        [1.0000, 0.5346],\n",
      "        [1.0000, 0.4961],\n",
      "        [1.0000, 0.5022],\n",
      "        [0.6076, 0.0000],\n",
      "        [1.0000, 0.5055],\n",
      "        [1.0000, 0.5109],\n",
      "        [0.4309, 0.5066],\n",
      "        [1.0000, 0.5213],\n",
      "        [1.0000, 0.7671],\n",
      "        [1.0000, 0.4911],\n",
      "        [1.0000, 0.4788],\n",
      "        [1.0000, 0.4939],\n",
      "        [1.0000, 0.4444],\n",
      "        [1.0000, 0.4842]], dtype=torch.float64)\n"
     ]
    }
   ],
   "source": [
    "# dataloader\n",
    "from torch.utils.data import DataLoader\n",
    "\n",
    "train_loader = DataLoader(train_dataset, batch_size=64, shuffle=True)\n",
    "val_loader = DataLoader(val_dataset, batch_size=64, shuffle=False)\n",
    "# test dataloader\n",
    "lidar, non_lidar, actions = next(iter(train_loader))\n",
    "print(f\"Non lidar shape: {non_lidar.shape}\")\n",
    "print(f\"Lidar shape: {lidar.shape}\")\n",
    "# print size dataloader\n",
    "print(f\"Train loader size: {len(train_loader)}\")\n",
    "print(f\"Val loader size: {len(val_loader)}\")\n",
    "print(lidar, non_lidar, actions)"
   ]
  },
  {
   "cell_type": "code",
   "execution_count": 10,
   "metadata": {},
   "outputs": [],
   "source": [
    "import torch\n",
    "import torch.nn as nn\n",
    "import torch.optim as optim\n",
    "import torch.nn.functional as F\n",
    "\n",
    "class CNNModel(nn.Module):\n",
    "    def __init__(self, num_lidar_features, num_non_lidar_features, num_actions, nframes=1):\n",
    "        super(CNNModel, self).__init__()\n",
    "        self.act_fea_cv1 = nn.Conv1d(\n",
    "            in_channels=nframes, out_channels=32, kernel_size=5, stride=2, padding=6, padding_mode='circular'\n",
    "        )\n",
    "        self.act_fea_cv2 = nn.Conv1d(\n",
    "            in_channels=32, out_channels=32, kernel_size=3, stride=2, padding=1\n",
    "        )\n",
    "\n",
    "        conv_output_size = (num_lidar_features - 5 + 2*6) // 2 + 1  # Output size after self.act_fea_cv1\n",
    "        conv_output_size = (conv_output_size - 3 + 2*1) // 2 + 1  # Output size after self.act_fea_cv2\n",
    "        conv_output_size *= 32  # Multiply by the number of output channels\n",
    "\n",
    "        # Calculate the output size of the CNN\n",
    "        self.fc1 = nn.Linear(conv_output_size, 32)\n",
    "        self.fc2 = nn.Linear(32 + num_non_lidar_features, num_actions)\n",
    "\n",
    "        torch.nn.init.xavier_uniform_(self.fc1.weight)\n",
    "        torch.nn.init.xavier_uniform_(self.fc2.weight)\n",
    "\n",
    "    def forward(self, lidar, non_lidar):\n",
    "        lidar = lidar.unsqueeze(1)  # Add channel dimension\n",
    "        feat = F.relu(self.act_fea_cv1(lidar))\n",
    "        feat = F.relu(self.act_fea_cv2(feat))\n",
    "        feat = feat.view(feat.shape[0], -1)\n",
    "        feat = F.relu(self.fc1(feat))\n",
    "        feat = torch.cat((feat, non_lidar), dim=-1)\n",
    "        feat = F.relu(self.fc2(feat))\n",
    "        return feat"
   ]
  },
  {
   "cell_type": "code",
   "execution_count": 11,
   "metadata": {},
   "outputs": [
    {
     "name": "stdout",
     "output_type": "stream",
     "text": [
      "cuda\n"
     ]
    }
   ],
   "source": [
    "# Initialize the model\n",
    "num_lidar_features = len(train_dataset.lidar_cols)\n",
    "num_non_lidar_features = len(train_dataset.non_lidar_cols)\n",
    "num_actions = len(train_dataset.actions_cols)\n",
    "model = CNNModel(num_lidar_features, num_non_lidar_features, num_actions)\n",
    "\n",
    "# Define the loss function and optimizer\n",
    "loss_fn = nn.MSELoss()\n",
    "optimizer = optim.Adam(model.parameters(), lr=5e-5)\n",
    "\n",
    "# Move the model and loss function to the GPU if available\n",
    "device = torch.device('cuda' if torch.cuda.is_available() else 'cpu')\n",
    "model = model.to(device)\n",
    "loss_fn = loss_fn.to(device)\n",
    "print(device)"
   ]
  },
  {
   "cell_type": "code",
   "execution_count": 12,
   "metadata": {},
   "outputs": [],
   "source": [
    "from tqdm import tqdm\n",
    "\n",
    "def train_model(model, train_loader, loss_fn, optimizer):\n",
    "    model.train()\n",
    "\n",
    "    losses = []\n",
    "    for lidar, non_lidar, actions in tqdm(train_loader):\n",
    "\n",
    "        # Move the data to the device that is used\n",
    "        lidar = lidar.to(device)\n",
    "        non_lidar = non_lidar.to(device)\n",
    "        actions = actions.to(device)\n",
    "\n",
    "        # Forward pass\n",
    "        actions_pred = model(lidar.float(), non_lidar.float())\n",
    "        loss = loss_fn(actions_pred, actions.float())\n",
    "\n",
    "        # Backward pass\n",
    "        optimizer.zero_grad()\n",
    "        loss.backward()\n",
    "        optimizer.step()\n",
    "\n",
    "        # Save the loss\n",
    "        losses.append(loss.item())\n",
    "\n",
    "    # return the average loss for this epoch\n",
    "    return sum(losses)/len(losses)"
   ]
  },
  {
   "cell_type": "code",
   "execution_count": 13,
   "metadata": {},
   "outputs": [],
   "source": [
    "def test_model(model, test_loader, loss_fn):\n",
    "    model.eval()\n",
    "\n",
    "    losses = []\n",
    "    for lidar, non_lidar, actions in tqdm(test_loader):\n",
    "        # Move the data to the device that is used\n",
    "        lidar = lidar.to(device)\n",
    "        non_lidar = non_lidar.to(device)\n",
    "        actions = actions.to(device)\n",
    "\n",
    "        # Forward pass\n",
    "        actions_pred = model(lidar.float(), non_lidar.float())\n",
    "        loss = loss_fn(actions_pred, actions.float())\n",
    "\n",
    "        # Save the loss\n",
    "        losses.append(loss.item())\n",
    "\n",
    "    # return the average loss for this epoch\n",
    "    return sum(losses)/len(losses)"
   ]
  },
  {
   "cell_type": "code",
   "execution_count": 14,
   "metadata": {},
   "outputs": [
    {
     "name": "stderr",
     "output_type": "stream",
     "text": [
      "100%|██████████| 317/317 [00:03<00:00, 94.61it/s] "
     ]
    },
    {
     "name": "stdout",
     "output_type": "stream",
     "text": [
      "Random val loss: 0.5639771847083741\n"
     ]
    },
    {
     "name": "stderr",
     "output_type": "stream",
     "text": [
      "\n",
      "100%|██████████| 2219/2219 [00:07<00:00, 283.64it/s]\n",
      "100%|██████████| 317/317 [00:00<00:00, 720.55it/s]"
     ]
    },
    {
     "name": "stdout",
     "output_type": "stream",
     "text": [
      "Epoch 1/5 | Train Loss: 0.0262248184149577 | Val Loss: 0.01389470227845476\n"
     ]
    },
    {
     "name": "stderr",
     "output_type": "stream",
     "text": [
      "\n",
      "100%|██████████| 2219/2219 [00:06<00:00, 352.74it/s]\n",
      "100%|██████████| 317/317 [00:00<00:00, 861.52it/s]"
     ]
    },
    {
     "name": "stdout",
     "output_type": "stream",
     "text": [
      "Epoch 2/5 | Train Loss: 0.013439047578516584 | Val Loss: 0.012053156589504095\n"
     ]
    },
    {
     "name": "stderr",
     "output_type": "stream",
     "text": [
      "\n",
      "100%|██████████| 2219/2219 [00:06<00:00, 355.90it/s]\n",
      "100%|██████████| 317/317 [00:00<00:00, 827.98it/s]"
     ]
    },
    {
     "name": "stdout",
     "output_type": "stream",
     "text": [
      "Epoch 3/5 | Train Loss: 0.010635137646645811 | Val Loss: 0.009937038048106608\n"
     ]
    },
    {
     "name": "stderr",
     "output_type": "stream",
     "text": [
      "\n",
      "100%|██████████| 2219/2219 [00:06<00:00, 359.54it/s]\n",
      "100%|██████████| 317/317 [00:00<00:00, 818.40it/s]"
     ]
    },
    {
     "name": "stdout",
     "output_type": "stream",
     "text": [
      "Epoch 4/5 | Train Loss: 0.00855991780986013 | Val Loss: 0.008691339359151593\n"
     ]
    },
    {
     "name": "stderr",
     "output_type": "stream",
     "text": [
      "\n",
      "100%|██████████| 2219/2219 [00:06<00:00, 360.15it/s]\n",
      "100%|██████████| 317/317 [00:00<00:00, 820.08it/s]"
     ]
    },
    {
     "name": "stdout",
     "output_type": "stream",
     "text": [
      "Epoch 5/5 | Train Loss: 0.007024553547816459 | Val Loss: 0.0077132053016090016\n"
     ]
    },
    {
     "name": "stderr",
     "output_type": "stream",
     "text": [
      "\n"
     ]
    }
   ],
   "source": [
    "import sys\n",
    "NUM_EPOCHS = 0\n",
    "\n",
    "random_val_loss = test_model(model, val_loader, loss_fn)\n",
    "print(\"Random val loss:\", random_val_loss)\n",
    "sys.stdout.flush()\n",
    "\n",
    "cnn_train_losses = []\n",
    "cnn_val_losses = []\n",
    "for epoch in range(NUM_EPOCHS):\n",
    "    train_loss = train_model(model, train_loader, loss_fn, optimizer)\n",
    "    test_loss = test_model(model, val_loader, loss_fn)\n",
    "    cnn_train_losses.append(train_loss)\n",
    "    cnn_val_losses.append(test_loss)\n",
    "    print(f\"Epoch {epoch+1}/{NUM_EPOCHS} | Train Loss: {train_loss} | Val Loss: {test_loss}\")\n",
    "    sys.stdout.flush()"
   ]
  },
  {
   "cell_type": "code",
   "execution_count": 15,
   "metadata": {},
   "outputs": [
    {
     "data": {
      "image/png": "[encoded data removed]",
      "text/plain": [
       "<Figure size 640x480 with 1 Axes>"
      ]
     },
     "metadata": {},
     "output_type": "display_data"
    }
   ],
   "source": [
    "# plot the loss\n",
    "import matplotlib.pyplot as plt\n",
    "\n",
    "plt.plot(cnn_train_losses, label='Train Loss')\n",
    "plt.plot(cnn_val_losses, label='Val Loss')\n",
    "plt.xlabel('Epoch')\n",
    "plt.ylabel('Loss')\n",
    "plt.legend()\n",
    "plt.show();"
   ]
  },
  {
   "cell_type": "code",
   "execution_count": 16,
   "metadata": {},
   "outputs": [],
   "source": [
    "# save the model\n",
    "torch.save(model.state_dict(), './model/cnn_model.pth')"
   ]
  },
  {
   "cell_type": "code",
   "execution_count": 17,
   "metadata": {},
   "outputs": [],
   "source": [
    "import torch\n",
    "import torch.nn as nn\n",
    "from torch.utils.data import DataLoader\n",
    "\n",
    "class TransformerModel(nn.Module):\n",
    "    def __init__(self, num_lidar_features, num_non_lidar_features, num_actions, d_model=64, nhead=8, num_encoder_layers=3, num_decoder_layers=3):\n",
    "        super(TransformerModel, self).__init__()\n",
    "\n",
    "        self.d_model = d_model\n",
    "        self.num_patches = 20  # Number of patches\n",
    "        self.patch_size = num_lidar_features // self.num_patches\n",
    "\n",
    "        # Positional Encoding for the Encoder\n",
    "        self.positional_encoding = nn.Parameter(torch.zeros(self.num_patches, d_model))\n",
    "\n",
    "        # Input Embedding for Encoder (LiDAR data)\n",
    "        self.lidar_embedding = nn.Linear(self.patch_size, d_model)\n",
    "\n",
    "        # Transformer Encoder\n",
    "        encoder_layer = nn.TransformerEncoderLayer(d_model=d_model, nhead=nhead)\n",
    "        self.transformer_encoder = nn.TransformerEncoder(encoder_layer, num_layers=num_encoder_layers)\n",
    "\n",
    "        # Input Embedding for Decoder (Non-LiDAR data)\n",
    "        self.non_lidar_embedding = nn.Linear(num_non_lidar_features, d_model)\n",
    "\n",
    "        # Transformer Decoder\n",
    "        decoder_layer = nn.TransformerDecoderLayer(d_model=d_model, nhead=nhead)\n",
    "        self.transformer_decoder = nn.TransformerDecoder(decoder_layer, num_layers=num_decoder_layers)\n",
    "\n",
    "        # Linear layer to map the transformer output to actions\n",
    "        self.fc_out = nn.Linear(d_model, num_actions)\n",
    "\n",
    "    def forward(self, lidar, non_lidar):\n",
    "        batch_size = lidar.size(0)\n",
    "        \n",
    "        # Divide LiDAR input into patches\n",
    "        lidar_patches = lidar.view(batch_size, self.num_patches, self.patch_size)\n",
    "\n",
    "        # Embed each patch and add positional encoding\n",
    "        lidar_embed = self.lidar_embedding(lidar_patches) + self.positional_encoding.unsqueeze(0)\n",
    "        lidar_embed = lidar_embed.permute(1, 0, 2)  # Convert to (seq_len, batch_size, d_model)\n",
    "\n",
    "        # Process through the transformer encoder\n",
    "        memory = self.transformer_encoder(lidar_embed)\n",
    "\n",
    "        # Process non-lidar data through input embedding\n",
    "        non_lidar_embed = self.non_lidar_embedding(non_lidar).unsqueeze(0)  # Convert to (1, batch_size, d_model)\n",
    "\n",
    "        # Process through the transformer decoder\n",
    "        output = self.transformer_decoder(non_lidar_embed, memory)\n",
    "\n",
    "        # Final linear layer to get the actions\n",
    "        actions = self.fc_out(output.squeeze(0))\n",
    "        return actions"
   ]
  },
  {
   "cell_type": "code",
   "execution_count": 18,
   "metadata": {},
   "outputs": [
    {
     "name": "stdout",
     "output_type": "stream",
     "text": [
      "cuda\n"
     ]
    }
   ],
   "source": [
    "# Initialize the model\n",
    "num_lidar_features = len(train_dataset.lidar_cols)\n",
    "num_non_lidar_features = len(train_dataset.non_lidar_cols)\n",
    "num_actions = len(train_dataset.actions_cols)\n",
    "model = TransformerModel(num_lidar_features, num_non_lidar_features, num_actions)\n",
    "\n",
    "# Define the loss function and optimizer\n",
    "loss_fn = nn.MSELoss()\n",
    "optimizer = optim.Adam(model.parameters(), lr=5e-5)\n",
    "\n",
    "# Move the model and loss function to the GPU if available\n",
    "device = torch.device('cuda' if torch.cuda.is_available() else 'cpu')\n",
    "model = model.to(device)\n",
    "loss_fn = loss_fn.to(device)\n",
    "print(device)"
   ]
  },
  {
   "cell_type": "code",
   "execution_count": 19,
   "metadata": {},
   "outputs": [
    {
     "name": "stderr",
     "output_type": "stream",
     "text": [
      "100%|██████████| 317/317 [00:01<00:00, 220.56it/s]\n"
     ]
    },
    {
     "name": "stdout",
     "output_type": "stream",
     "text": [
      "Random val loss: 0.23099632454266308\n"
     ]
    },
    {
     "name": "stderr",
     "output_type": "stream",
     "text": [
      "100%|██████████| 2219/2219 [00:42<00:00, 52.44it/s]\n",
      "100%|██████████| 317/317 [00:01<00:00, 225.00it/s]"
     ]
    },
    {
     "name": "stdout",
     "output_type": "stream",
     "text": [
      "Epoch 1/5 | Train Loss: 0.00463109133180559 | Val Loss: 0.0077132053016090016\n"
     ]
    },
    {
     "name": "stderr",
     "output_type": "stream",
     "text": [
      "\n",
      "100%|██████████| 2219/2219 [00:42<00:00, 52.31it/s]\n",
      "100%|██████████| 317/317 [00:01<00:00, 224.30it/s]"
     ]
    },
    {
     "name": "stdout",
     "output_type": "stream",
     "text": [
      "Epoch 2/5 | Train Loss: 0.0015717923007111194 | Val Loss: 0.0077132053016090016\n"
     ]
    },
    {
     "name": "stderr",
     "output_type": "stream",
     "text": [
      "\n",
      "100%|██████████| 2219/2219 [00:42<00:00, 52.30it/s]\n",
      "100%|██████████| 317/317 [00:01<00:00, 224.42it/s]"
     ]
    },
    {
     "name": "stdout",
     "output_type": "stream",
     "text": [
      "Epoch 3/5 | Train Loss: 0.0012741511510154162 | Val Loss: 0.0077132053016090016\n"
     ]
    },
    {
     "name": "stderr",
     "output_type": "stream",
     "text": [
      "\n",
      "100%|██████████| 2219/2219 [00:42<00:00, 51.92it/s]\n",
      "100%|██████████| 317/317 [00:01<00:00, 220.83it/s]"
     ]
    },
    {
     "name": "stdout",
     "output_type": "stream",
     "text": [
      "Epoch 4/5 | Train Loss: 0.0011282917552669803 | Val Loss: 0.0077132053016090016\n"
     ]
    },
    {
     "name": "stderr",
     "output_type": "stream",
     "text": [
      "\n",
      "100%|██████████| 2219/2219 [00:42<00:00, 52.52it/s]\n",
      "100%|██████████| 317/317 [00:01<00:00, 223.90it/s]"
     ]
    },
    {
     "name": "stdout",
     "output_type": "stream",
     "text": [
      "Epoch 5/5 | Train Loss: 0.0010399389255444282 | Val Loss: 0.0077132053016090016\n"
     ]
    },
    {
     "name": "stderr",
     "output_type": "stream",
     "text": [
      "\n"
     ]
    }
   ],
   "source": [
    "import sys\n",
    "NUM_EPOCHS = 0\n",
    "\n",
    "random_val_loss = test_model(model, val_loader, loss_fn)\n",
    "print(\"Random val loss:\", random_val_loss)\n",
    "\n",
    "transformer_train_losses = []\n",
    "transformer_val_losses = []\n",
    "for epoch in range(NUM_EPOCHS):\n",
    "    train_loss = train_model(model, train_loader, loss_fn, optimizer)\n",
    "    val_loss = test_model(model, val_loader, loss_fn)\n",
    "    transformer_train_losses.append(train_loss)\n",
    "    transformer_val_losses.append(val_loss)\n",
    "    print(f\"Epoch {epoch+1}/{NUM_EPOCHS} | Train Loss: {train_loss} | Val Loss: {test_loss}\")\n",
    "    sys.stdout.flush()"
   ]
  },
  {
   "cell_type": "code",
   "execution_count": 20,
   "metadata": {},
   "outputs": [
    {
     "data": {
      "image/png": "[encoded data removed]",
      "text/plain": [
       "<Figure size 640x480 with 1 Axes>"
      ]
     },
     "metadata": {},
     "output_type": "display_data"
    }
   ],
   "source": [
    "# plot the loss\n",
    "import matplotlib.pyplot as plt\n",
    "\n",
    "plt.plot(transformer_train_losses, label='Transformer Train Loss')\n",
    "plt.plot(transformer_val_losses, label='Transformer Val Loss')\n",
    "plt.xlabel('Epoch')\n",
    "plt.ylabel('Loss')\n",
    "plt.legend()\n",
    "plt.show();"
   ]
  },
  {
   "cell_type": "code",
   "execution_count": 21,
   "metadata": {},
   "outputs": [],
   "source": [
    "# save the model\n",
    "torch.save(model.state_dict(), 'model/transformer_model.pth')"
   ]
  },
  {
   "cell_type": "code",
   "execution_count": 22,
   "metadata": {},
   "outputs": [],
   "source": [
    "import os\n",
    "import hydra\n",
    "import torch\n",
    "from omegaconf import OmegaConf\n",
    "import pathlib\n",
    "from torch.utils.data import DataLoader\n",
    "import copy\n",
    "import numpy as np\n",
    "import random\n",
    "import wandb\n",
    "import tqdm\n",
    "import shutil\n",
    "from diffusion_policy.policy.diffusion_unet_lowdim_policy import DiffusionUnetLowdimPolicy\n",
    "from diffusion_policy.workspace.train_diffusion_unet_lowdim_workspace import TrainDiffusionUnetLowdimWorkspace\n",
    "import os"
   ]
  },
  {
   "cell_type": "code",
   "execution_count": 23,
   "metadata": {},
   "outputs": [],
   "source": [
    "from diffusion_policy.dataset.base_dataset import BaseLowdimDataset\n",
    "from typing import Dict\n",
    "import torch\n",
    "import numpy as np\n",
    "import copy\n",
    "from diffusion_policy.common.pytorch_util import dict_apply\n",
    "from diffusion_policy.common.replay_buffer import ReplayBuffer\n",
    "from diffusion_policy.common.sampler import (\n",
    "    SequenceSampler, get_val_mask, downsample_mask)\n",
    "from diffusion_policy.model.common.normalizer import LinearNormalizer\n",
    "from diffusion_policy.dataset.base_dataset import BaseLowdimDataset\n",
    "\n",
    "\n",
    "class KULBarnDiffusionDataset(BaseLowdimDataset):\n",
    "    def __init__(self, df, horizon=4):\n",
    "        super().__init__()\n",
    "        \n",
    "        self.data = df\n",
    "        self.get_local_goal()\n",
    "\n",
    "        self.data = self.data.drop(columns=[\n",
    "            'timestep', 'actual_time', 'optimal_time', \n",
    "            'pos_x', 'pos_y', 'pose_heading', 'goal_x', 'goal_y', 'success'\n",
    "        ])\n",
    "        \n",
    "        self.data = pd.DataFrame(self.data, columns=self.data.columns)\n",
    "        self.horizon = horizon\n",
    "\n",
    "        # Process data columns\n",
    "        self.lidar_cols = [col for col in self.data.columns if 'lidar' in col]\n",
    "        self.actions_cols = [col for col in self.data.columns if 'cmd' in col]\n",
    "        self.non_lidar_cols = [col for col in self.data.columns if col not in self.lidar_cols and col not in self.actions_cols and col != 'world_idx']\n",
    "\n",
    "        self.lidar_data = self.data[self.lidar_cols].values\n",
    "        self.non_lidar_data = self.data[self.non_lidar_cols].values\n",
    "        self.actions_data = self.data[self.actions_cols].values\n",
    "\n",
    "        print(\"Lidar Columns:\", self.lidar_cols)\n",
    "        print(\"Non Lidar Columns:\", self.non_lidar_cols)\n",
    "        print(\"Action Columns:\", self.actions_cols)     \n",
    "\n",
    "        self.grouped_data = self.data.groupby(self.data['world_idx'])\n",
    "        self.horizon = horizon\n",
    "        path_lengths = [len(group) for name, group in self.grouped_data]\n",
    "        self.indices = self.make_indices(path_lengths, horizon)\n",
    "\n",
    "    def get_local_goal(self):\n",
    "        x = self.data['pos_x']\n",
    "        y = self.data['pos_y']\n",
    "        theta = self.data['pose_heading']\n",
    "        goal_x = self.data['goal_x']\n",
    "        goal_y = self.data['goal_y']\n",
    "        self.data['local_x'] = (goal_x - x) * np.cos(theta) + (goal_y - y) * np.sin(theta)\n",
    "        self.data['local_y'] = -(goal_x - x) * np.sin(theta) + (goal_y - y) * np.cos(theta)\n",
    "\n",
    "    def make_indices(self, path_lengths, horizon):\n",
    "        indices = []\n",
    "        for i, path_length in enumerate(path_lengths):\n",
    "            max_start = path_length - horizon\n",
    "            for start in range(max_start):\n",
    "                end = start + horizon\n",
    "                indices.append((i, start, end))\n",
    "        indices = np.array(indices)\n",
    "        return indices\n",
    "    \n",
    "    def __len__(self):\n",
    "        return len(self.indices)\n",
    "    \n",
    "    def __getitem__(self, idx: int) -> Dict[str, torch.Tensor]:\n",
    "        idx = self.indices[idx]\n",
    "        start = idx[1]\n",
    "        end = idx[2]\n",
    "\n",
    "        data = {\n",
    "            'obs': self.lidar_data[start:end],\n",
    "            'cond': self.non_lidar_data[start:end],\n",
    "            'action': self.actions_data[start:end],\n",
    "        }\n",
    "        torch_data = dict_apply(data, torch.from_numpy)\n",
    "        return torch_data\n",
    "\n",
    "    def get_normalizer(self, mode='limits', **kwargs):\n",
    "        normalizer = LinearNormalizer()\n",
    "        # train it in using self.data as a dictionary\n",
    "        data_dict = {\n",
    "            'obs': self.lidar_data,\n",
    "            'cond': self.non_lidar_data,\n",
    "            'action': self.actions_data\n",
    "        }\n",
    "        normalizer.fit(data=data_dict, mode=mode, **kwargs)\n",
    "        return normalizer\n",
    "\n",
    "    def get_all_actions(self) -> torch.Tensor:\n",
    "        return torch.from_numpy(self.actions_data)"
   ]
  },
  {
   "cell_type": "code",
   "execution_count": 24,
   "metadata": {},
   "outputs": [
    {
     "name": "stdout",
     "output_type": "stream",
     "text": [
      "Lidar Columns: ['lidar_0', 'lidar_1', 'lidar_2', 'lidar_3', 'lidar_4', 'lidar_5', 'lidar_6', 'lidar_7', 'lidar_8', 'lidar_9', 'lidar_10', 'lidar_11', 'lidar_12', 'lidar_13', 'lidar_14', 'lidar_15', 'lidar_16', 'lidar_17', 'lidar_18', 'lidar_19', 'lidar_20', 'lidar_21', 'lidar_22', 'lidar_23', 'lidar_24', 'lidar_25', 'lidar_26', 'lidar_27', 'lidar_28', 'lidar_29', 'lidar_30', 'lidar_31', 'lidar_32', 'lidar_33', 'lidar_34', 'lidar_35', 'lidar_36', 'lidar_37', 'lidar_38', 'lidar_39', 'lidar_40', 'lidar_41', 'lidar_42', 'lidar_43', 'lidar_44', 'lidar_45', 'lidar_46', 'lidar_47', 'lidar_48', 'lidar_49', 'lidar_50', 'lidar_51', 'lidar_52', 'lidar_53', 'lidar_54', 'lidar_55', 'lidar_56', 'lidar_57', 'lidar_58', 'lidar_59', 'lidar_60', 'lidar_61', 'lidar_62', 'lidar_63', 'lidar_64', 'lidar_65', 'lidar_66', 'lidar_67', 'lidar_68', 'lidar_69', 'lidar_70', 'lidar_71', 'lidar_72', 'lidar_73', 'lidar_74', 'lidar_75', 'lidar_76', 'lidar_77', 'lidar_78', 'lidar_79', 'lidar_80', 'lidar_81', 'lidar_82', 'lidar_83', 'lidar_84', 'lidar_85', 'lidar_86', 'lidar_87', 'lidar_88', 'lidar_89', 'lidar_90', 'lidar_91', 'lidar_92', 'lidar_93', 'lidar_94', 'lidar_95', 'lidar_96', 'lidar_97', 'lidar_98', 'lidar_99', 'lidar_100', 'lidar_101', 'lidar_102', 'lidar_103', 'lidar_104', 'lidar_105', 'lidar_106', 'lidar_107', 'lidar_108', 'lidar_109', 'lidar_110', 'lidar_111', 'lidar_112', 'lidar_113', 'lidar_114', 'lidar_115', 'lidar_116', 'lidar_117', 'lidar_118', 'lidar_119', 'lidar_120', 'lidar_121', 'lidar_122', 'lidar_123', 'lidar_124', 'lidar_125', 'lidar_126', 'lidar_127', 'lidar_128', 'lidar_129', 'lidar_130', 'lidar_131', 'lidar_132', 'lidar_133', 'lidar_134', 'lidar_135', 'lidar_136', 'lidar_137', 'lidar_138', 'lidar_139', 'lidar_140', 'lidar_141', 'lidar_142', 'lidar_143', 'lidar_144', 'lidar_145', 'lidar_146', 'lidar_147', 'lidar_148', 'lidar_149', 'lidar_150', 'lidar_151', 'lidar_152', 'lidar_153', 'lidar_154', 'lidar_155', 'lidar_156', 'lidar_157', 'lidar_158', 'lidar_159', 'lidar_160', 'lidar_161', 'lidar_162', 'lidar_163', 'lidar_164', 'lidar_165', 'lidar_166', 'lidar_167', 'lidar_168', 'lidar_169', 'lidar_170', 'lidar_171', 'lidar_172', 'lidar_173', 'lidar_174', 'lidar_175', 'lidar_176', 'lidar_177', 'lidar_178', 'lidar_179', 'lidar_180', 'lidar_181', 'lidar_182', 'lidar_183', 'lidar_184', 'lidar_185', 'lidar_186', 'lidar_187', 'lidar_188', 'lidar_189', 'lidar_190', 'lidar_191', 'lidar_192', 'lidar_193', 'lidar_194', 'lidar_195', 'lidar_196', 'lidar_197', 'lidar_198', 'lidar_199', 'lidar_200', 'lidar_201', 'lidar_202', 'lidar_203', 'lidar_204', 'lidar_205', 'lidar_206', 'lidar_207', 'lidar_208', 'lidar_209', 'lidar_210', 'lidar_211', 'lidar_212', 'lidar_213', 'lidar_214', 'lidar_215', 'lidar_216', 'lidar_217', 'lidar_218', 'lidar_219', 'lidar_220', 'lidar_221', 'lidar_222', 'lidar_223', 'lidar_224', 'lidar_225', 'lidar_226', 'lidar_227', 'lidar_228', 'lidar_229', 'lidar_230', 'lidar_231', 'lidar_232', 'lidar_233', 'lidar_234', 'lidar_235', 'lidar_236', 'lidar_237', 'lidar_238', 'lidar_239', 'lidar_240', 'lidar_241', 'lidar_242', 'lidar_243', 'lidar_244', 'lidar_245', 'lidar_246', 'lidar_247', 'lidar_248', 'lidar_249', 'lidar_250', 'lidar_251', 'lidar_252', 'lidar_253', 'lidar_254', 'lidar_255', 'lidar_256', 'lidar_257', 'lidar_258', 'lidar_259', 'lidar_260', 'lidar_261', 'lidar_262', 'lidar_263', 'lidar_264', 'lidar_265', 'lidar_266', 'lidar_267', 'lidar_268', 'lidar_269', 'lidar_270', 'lidar_271', 'lidar_272', 'lidar_273', 'lidar_274', 'lidar_275', 'lidar_276', 'lidar_277', 'lidar_278', 'lidar_279', 'lidar_280', 'lidar_281', 'lidar_282', 'lidar_283', 'lidar_284', 'lidar_285', 'lidar_286', 'lidar_287', 'lidar_288', 'lidar_289', 'lidar_290', 'lidar_291', 'lidar_292', 'lidar_293', 'lidar_294', 'lidar_295', 'lidar_296', 'lidar_297', 'lidar_298', 'lidar_299', 'lidar_300', 'lidar_301', 'lidar_302', 'lidar_303', 'lidar_304', 'lidar_305', 'lidar_306', 'lidar_307', 'lidar_308', 'lidar_309', 'lidar_310', 'lidar_311', 'lidar_312', 'lidar_313', 'lidar_314', 'lidar_315', 'lidar_316', 'lidar_317', 'lidar_318', 'lidar_319', 'lidar_320', 'lidar_321', 'lidar_322', 'lidar_323', 'lidar_324', 'lidar_325', 'lidar_326', 'lidar_327', 'lidar_328', 'lidar_329', 'lidar_330', 'lidar_331', 'lidar_332', 'lidar_333', 'lidar_334', 'lidar_335', 'lidar_336', 'lidar_337', 'lidar_338', 'lidar_339', 'lidar_340', 'lidar_341', 'lidar_342', 'lidar_343', 'lidar_344', 'lidar_345', 'lidar_346', 'lidar_347', 'lidar_348', 'lidar_349', 'lidar_350', 'lidar_351', 'lidar_352', 'lidar_353', 'lidar_354', 'lidar_355', 'lidar_356', 'lidar_357', 'lidar_358', 'lidar_359', 'lidar_360', 'lidar_361', 'lidar_362', 'lidar_363', 'lidar_364', 'lidar_365', 'lidar_366', 'lidar_367', 'lidar_368', 'lidar_369', 'lidar_370', 'lidar_371', 'lidar_372', 'lidar_373', 'lidar_374', 'lidar_375', 'lidar_376', 'lidar_377', 'lidar_378', 'lidar_379', 'lidar_380', 'lidar_381', 'lidar_382', 'lidar_383', 'lidar_384', 'lidar_385', 'lidar_386', 'lidar_387', 'lidar_388', 'lidar_389', 'lidar_390', 'lidar_391', 'lidar_392', 'lidar_393', 'lidar_394', 'lidar_395', 'lidar_396', 'lidar_397', 'lidar_398', 'lidar_399', 'lidar_400', 'lidar_401', 'lidar_402', 'lidar_403', 'lidar_404', 'lidar_405', 'lidar_406', 'lidar_407', 'lidar_408', 'lidar_409', 'lidar_410', 'lidar_411', 'lidar_412', 'lidar_413', 'lidar_414', 'lidar_415', 'lidar_416', 'lidar_417', 'lidar_418', 'lidar_419', 'lidar_420', 'lidar_421', 'lidar_422', 'lidar_423', 'lidar_424', 'lidar_425', 'lidar_426', 'lidar_427', 'lidar_428', 'lidar_429', 'lidar_430', 'lidar_431', 'lidar_432', 'lidar_433', 'lidar_434', 'lidar_435', 'lidar_436', 'lidar_437', 'lidar_438', 'lidar_439', 'lidar_440', 'lidar_441', 'lidar_442', 'lidar_443', 'lidar_444', 'lidar_445', 'lidar_446', 'lidar_447', 'lidar_448', 'lidar_449', 'lidar_450', 'lidar_451', 'lidar_452', 'lidar_453', 'lidar_454', 'lidar_455', 'lidar_456', 'lidar_457', 'lidar_458', 'lidar_459', 'lidar_460', 'lidar_461', 'lidar_462', 'lidar_463', 'lidar_464', 'lidar_465', 'lidar_466', 'lidar_467', 'lidar_468', 'lidar_469', 'lidar_470', 'lidar_471', 'lidar_472', 'lidar_473', 'lidar_474', 'lidar_475', 'lidar_476', 'lidar_477', 'lidar_478', 'lidar_479', 'lidar_480', 'lidar_481', 'lidar_482', 'lidar_483', 'lidar_484', 'lidar_485', 'lidar_486', 'lidar_487', 'lidar_488', 'lidar_489', 'lidar_490', 'lidar_491', 'lidar_492', 'lidar_493', 'lidar_494', 'lidar_495', 'lidar_496', 'lidar_497', 'lidar_498', 'lidar_499', 'lidar_500', 'lidar_501', 'lidar_502', 'lidar_503', 'lidar_504', 'lidar_505', 'lidar_506', 'lidar_507', 'lidar_508', 'lidar_509', 'lidar_510', 'lidar_511', 'lidar_512', 'lidar_513', 'lidar_514', 'lidar_515', 'lidar_516', 'lidar_517', 'lidar_518', 'lidar_519', 'lidar_520', 'lidar_521', 'lidar_522', 'lidar_523', 'lidar_524', 'lidar_525', 'lidar_526', 'lidar_527', 'lidar_528', 'lidar_529', 'lidar_530', 'lidar_531', 'lidar_532', 'lidar_533', 'lidar_534', 'lidar_535', 'lidar_536', 'lidar_537', 'lidar_538', 'lidar_539', 'lidar_540', 'lidar_541', 'lidar_542', 'lidar_543', 'lidar_544', 'lidar_545', 'lidar_546', 'lidar_547', 'lidar_548', 'lidar_549', 'lidar_550', 'lidar_551', 'lidar_552', 'lidar_553', 'lidar_554', 'lidar_555', 'lidar_556', 'lidar_557', 'lidar_558', 'lidar_559', 'lidar_560', 'lidar_561', 'lidar_562', 'lidar_563', 'lidar_564', 'lidar_565', 'lidar_566', 'lidar_567', 'lidar_568', 'lidar_569', 'lidar_570', 'lidar_571', 'lidar_572', 'lidar_573', 'lidar_574', 'lidar_575', 'lidar_576', 'lidar_577', 'lidar_578', 'lidar_579', 'lidar_580', 'lidar_581', 'lidar_582', 'lidar_583', 'lidar_584', 'lidar_585', 'lidar_586', 'lidar_587', 'lidar_588', 'lidar_589', 'lidar_590', 'lidar_591', 'lidar_592', 'lidar_593', 'lidar_594', 'lidar_595', 'lidar_596', 'lidar_597', 'lidar_598', 'lidar_599', 'lidar_600', 'lidar_601', 'lidar_602', 'lidar_603', 'lidar_604', 'lidar_605', 'lidar_606', 'lidar_607', 'lidar_608', 'lidar_609', 'lidar_610', 'lidar_611', 'lidar_612', 'lidar_613', 'lidar_614', 'lidar_615', 'lidar_616', 'lidar_617', 'lidar_618', 'lidar_619', 'lidar_620', 'lidar_621', 'lidar_622', 'lidar_623', 'lidar_624', 'lidar_625', 'lidar_626', 'lidar_627', 'lidar_628', 'lidar_629', 'lidar_630', 'lidar_631', 'lidar_632', 'lidar_633', 'lidar_634', 'lidar_635', 'lidar_636', 'lidar_637', 'lidar_638', 'lidar_639', 'lidar_640', 'lidar_641', 'lidar_642', 'lidar_643', 'lidar_644', 'lidar_645', 'lidar_646', 'lidar_647', 'lidar_648', 'lidar_649', 'lidar_650', 'lidar_651', 'lidar_652', 'lidar_653', 'lidar_654', 'lidar_655', 'lidar_656', 'lidar_657', 'lidar_658', 'lidar_659', 'lidar_660', 'lidar_661', 'lidar_662', 'lidar_663', 'lidar_664', 'lidar_665', 'lidar_666', 'lidar_667', 'lidar_668', 'lidar_669', 'lidar_670', 'lidar_671', 'lidar_672', 'lidar_673', 'lidar_674', 'lidar_675', 'lidar_676', 'lidar_677', 'lidar_678', 'lidar_679', 'lidar_680', 'lidar_681', 'lidar_682', 'lidar_683', 'lidar_684', 'lidar_685', 'lidar_686', 'lidar_687', 'lidar_688', 'lidar_689', 'lidar_690', 'lidar_691', 'lidar_692', 'lidar_693', 'lidar_694', 'lidar_695', 'lidar_696', 'lidar_697', 'lidar_698', 'lidar_699', 'lidar_700', 'lidar_701', 'lidar_702', 'lidar_703', 'lidar_704', 'lidar_705', 'lidar_706', 'lidar_707', 'lidar_708', 'lidar_709', 'lidar_710', 'lidar_711', 'lidar_712', 'lidar_713', 'lidar_714', 'lidar_715', 'lidar_716', 'lidar_717', 'lidar_718', 'lidar_719']\n",
      "Non Lidar Columns: ['twist_linear', 'twist_angular', 'local_x', 'local_y']\n",
      "Action Columns: ['cmd_vel_linear', 'cmd_vel_angular']\n",
      "141127\n"
     ]
    }
   ],
   "source": [
    "train_dataset = KULBarnDiffusionDataset(train_df)\n",
    "train_dataloader = DataLoader(train_dataset)\n",
    "normalizer = train_dataset.get_normalizer()\n",
    "print(len(train_dataloader))"
   ]
  },
  {
   "cell_type": "code",
   "execution_count": 25,
   "metadata": {},
   "outputs": [
    {
     "name": "stdout",
     "output_type": "stream",
     "text": [
      "torch.Size([1, 4, 720])\n",
      "torch.Size([1, 4, 4])\n",
      "torch.Size([1, 4, 2])\n"
     ]
    }
   ],
   "source": [
    "for batch in train_dataloader:\n",
    "    # print(batch)\n",
    "    print(batch['obs'].shape)\n",
    "    print(batch['cond'].shape)\n",
    "    print(batch['action'].shape)\n",
    "    break"
   ]
  },
  {
   "cell_type": "code",
   "execution_count": 27,
   "metadata": {},
   "outputs": [],
   "source": [
    "from diffusion_policy.policy.diffusion_unet_lidar_policy import DiffusionUnetLidarPolicy\n",
    "from diffusion_policy.model.diffusion.conditional_unet1d import ConditionalUnet1D\n",
    "from diffusers.schedulers.scheduling_ddpm import DDPMScheduler\n",
    "\n",
    "obs_dim = batch['obs'].shape[-1]\n",
    "action_dim = batch['action'].shape[-1]\n",
    "input_dim = obs_dim + action_dim\n",
    "model = ConditionalUnet1D(input_dim=input_dim)\n",
    "noise_scheduler = DDPMScheduler(num_train_timesteps=1000, beta_schedule='linear')\n",
    "horizon = 4\n",
    "policy = DiffusionUnetLidarPolicy(\n",
    "    model=model, \n",
    "    noise_scheduler=noise_scheduler, \n",
    "    horizon=horizon, \n",
    "    obs_dim=obs_dim, \n",
    "    action_dim=action_dim, \n",
    "    n_obs_steps=4,\n",
    "    n_action_steps=4,\n",
    "    pred_action_steps_only=False,\n",
    ")"
   ]
  },
  {
   "cell_type": "code",
   "execution_count": 28,
   "metadata": {},
   "outputs": [],
   "source": [
    "policy.set_normalizer(normalizer)"
   ]
  },
  {
   "cell_type": "code",
   "execution_count": 29,
   "metadata": {},
   "outputs": [
    {
     "name": "stderr",
     "output_type": "stream",
     "text": [
      "  0%|          | 0/141127 [00:00<?, ?it/s]\n"
     ]
    },
    {
     "ename": "RuntimeError",
     "evalue": "Tensors must have same number of dimensions: got 2 and 3",
     "output_type": "error",
     "traceback": [
      "\u001b[0;31m---------------------------------------------------------------------------\u001b[0m",
      "\u001b[0;31mRuntimeError\u001b[0m                              Traceback (most recent call last)",
      "Cell \u001b[0;32mIn[29], line 13\u001b[0m\n\u001b[1;32m     11\u001b[0m \u001b[38;5;28;01mfor\u001b[39;00m epoch \u001b[38;5;129;01min\u001b[39;00m \u001b[38;5;28mrange\u001b[39m(NUM_EPOCHS):\n\u001b[1;32m     12\u001b[0m     \u001b[38;5;28;01mfor\u001b[39;00m batch \u001b[38;5;129;01min\u001b[39;00m tqdm(train_dataloader):\n\u001b[0;32m---> 13\u001b[0m         loss \u001b[38;5;241m=\u001b[39m \u001b[43mpolicy\u001b[49m\u001b[38;5;241;43m.\u001b[39;49m\u001b[43mcompute_loss\u001b[49m\u001b[43m(\u001b[49m\u001b[43mbatch\u001b[49m\u001b[43m)\u001b[49m\n\u001b[1;32m     14\u001b[0m         optimizer\u001b[38;5;241m.\u001b[39mzero_grad()\n\u001b[1;32m     15\u001b[0m         loss\u001b[38;5;241m.\u001b[39mbackward()\n",
      "File \u001b[0;32m/raid/joshua/codes/mlda-barn-2024/train_imitation/diffusion_policy/diffusion_policy/policy/diffusion_unet_lidar_policy.py:242\u001b[0m, in \u001b[0;36mDiffusionUnetLidarPolicy.compute_loss\u001b[0;34m(self, batch)\u001b[0m\n\u001b[1;32m    239\u001b[0m noisy_trajectory[condition_mask] \u001b[38;5;241m=\u001b[39m trajectory[condition_mask]\n\u001b[1;32m    241\u001b[0m \u001b[38;5;66;03m# Predict the noise residual, passing 'cond' as an additional conditioning input\u001b[39;00m\n\u001b[0;32m--> 242\u001b[0m pred \u001b[38;5;241m=\u001b[39m \u001b[38;5;28;43mself\u001b[39;49m\u001b[38;5;241;43m.\u001b[39;49m\u001b[43mmodel\u001b[49m\u001b[43m(\u001b[49m\u001b[43mnoisy_trajectory\u001b[49m\u001b[43m,\u001b[49m\u001b[43m \u001b[49m\u001b[43mtimesteps\u001b[49m\u001b[43m,\u001b[49m\n\u001b[1;32m    243\u001b[0m \u001b[43m                \u001b[49m\u001b[43mlocal_cond\u001b[49m\u001b[38;5;241;43m=\u001b[39;49m\u001b[43mlocal_cond\u001b[49m\u001b[43m,\u001b[49m\u001b[43m \u001b[49m\u001b[43mglobal_cond\u001b[49m\u001b[38;5;241;43m=\u001b[39;49m\u001b[43mglobal_cond\u001b[49m\u001b[43m)\u001b[49m\n\u001b[1;32m    245\u001b[0m pred_type \u001b[38;5;241m=\u001b[39m \u001b[38;5;28mself\u001b[39m\u001b[38;5;241m.\u001b[39mnoise_scheduler\u001b[38;5;241m.\u001b[39mconfig\u001b[38;5;241m.\u001b[39mprediction_type\n\u001b[1;32m    246\u001b[0m \u001b[38;5;28;01mif\u001b[39;00m pred_type \u001b[38;5;241m==\u001b[39m \u001b[38;5;124m'\u001b[39m\u001b[38;5;124mepsilon\u001b[39m\u001b[38;5;124m'\u001b[39m:\n",
      "File \u001b[0;32m~/anaconda3/envs/robodiff/lib/python3.9/site-packages/torch/nn/modules/module.py:1130\u001b[0m, in \u001b[0;36mModule._call_impl\u001b[0;34m(self, *input, **kwargs)\u001b[0m\n\u001b[1;32m   1126\u001b[0m \u001b[38;5;66;03m# If we don't have any hooks, we want to skip the rest of the logic in\u001b[39;00m\n\u001b[1;32m   1127\u001b[0m \u001b[38;5;66;03m# this function, and just call forward.\u001b[39;00m\n\u001b[1;32m   1128\u001b[0m \u001b[38;5;28;01mif\u001b[39;00m \u001b[38;5;129;01mnot\u001b[39;00m (\u001b[38;5;28mself\u001b[39m\u001b[38;5;241m.\u001b[39m_backward_hooks \u001b[38;5;129;01mor\u001b[39;00m \u001b[38;5;28mself\u001b[39m\u001b[38;5;241m.\u001b[39m_forward_hooks \u001b[38;5;129;01mor\u001b[39;00m \u001b[38;5;28mself\u001b[39m\u001b[38;5;241m.\u001b[39m_forward_pre_hooks \u001b[38;5;129;01mor\u001b[39;00m _global_backward_hooks\n\u001b[1;32m   1129\u001b[0m         \u001b[38;5;129;01mor\u001b[39;00m _global_forward_hooks \u001b[38;5;129;01mor\u001b[39;00m _global_forward_pre_hooks):\n\u001b[0;32m-> 1130\u001b[0m     \u001b[38;5;28;01mreturn\u001b[39;00m \u001b[43mforward_call\u001b[49m\u001b[43m(\u001b[49m\u001b[38;5;241;43m*\u001b[39;49m\u001b[38;5;28;43minput\u001b[39;49m\u001b[43m,\u001b[49m\u001b[43m \u001b[49m\u001b[38;5;241;43m*\u001b[39;49m\u001b[38;5;241;43m*\u001b[39;49m\u001b[43mkwargs\u001b[49m\u001b[43m)\u001b[49m\n\u001b[1;32m   1131\u001b[0m \u001b[38;5;66;03m# Do not call functions when jit is used\u001b[39;00m\n\u001b[1;32m   1132\u001b[0m full_backward_hooks, non_full_backward_hooks \u001b[38;5;241m=\u001b[39m [], []\n",
      "File \u001b[0;32m/raid/joshua/codes/mlda-barn-2024/train_imitation/diffusion_policy/diffusion_policy/model/diffusion/conditional_unet1d.py:199\u001b[0m, in \u001b[0;36mConditionalUnet1D.forward\u001b[0;34m(self, sample, timestep, local_cond, global_cond, **kwargs)\u001b[0m\n\u001b[1;32m    196\u001b[0m global_feature \u001b[38;5;241m=\u001b[39m \u001b[38;5;28mself\u001b[39m\u001b[38;5;241m.\u001b[39mdiffusion_step_encoder(timesteps)\n\u001b[1;32m    198\u001b[0m \u001b[38;5;28;01mif\u001b[39;00m global_cond \u001b[38;5;129;01mis\u001b[39;00m \u001b[38;5;129;01mnot\u001b[39;00m \u001b[38;5;28;01mNone\u001b[39;00m:\n\u001b[0;32m--> 199\u001b[0m     global_feature \u001b[38;5;241m=\u001b[39m \u001b[43mtorch\u001b[49m\u001b[38;5;241;43m.\u001b[39;49m\u001b[43mcat\u001b[49m\u001b[43m(\u001b[49m\u001b[43m[\u001b[49m\n\u001b[1;32m    200\u001b[0m \u001b[43m        \u001b[49m\u001b[43mglobal_feature\u001b[49m\u001b[43m,\u001b[49m\u001b[43m \u001b[49m\u001b[43mglobal_cond\u001b[49m\n\u001b[1;32m    201\u001b[0m \u001b[43m    \u001b[49m\u001b[43m]\u001b[49m\u001b[43m,\u001b[49m\u001b[43m \u001b[49m\u001b[43maxis\u001b[49m\u001b[38;5;241;43m=\u001b[39;49m\u001b[38;5;241;43m-\u001b[39;49m\u001b[38;5;241;43m1\u001b[39;49m\u001b[43m)\u001b[49m\n\u001b[1;32m    203\u001b[0m \u001b[38;5;66;03m# encode local features\u001b[39;00m\n\u001b[1;32m    204\u001b[0m h_local \u001b[38;5;241m=\u001b[39m \u001b[38;5;28mlist\u001b[39m()\n",
      "\u001b[0;31mRuntimeError\u001b[0m: Tensors must have same number of dimensions: got 2 and 3"
     ]
    }
   ],
   "source": [
    "from tqdm import tqdm\n",
    "\n",
    "NUM_EPOCHS = 10\n",
    "losses = []\n",
    "save_loss_every = 1000\n",
    "total_loss = 0\n",
    "count = 0\n",
    "\n",
    "optimizer = optim.Adam(policy.model.parameters(), lr=5e-5)\n",
    "policy.model.train()\n",
    "for epoch in range(NUM_EPOCHS):\n",
    "    for batch in tqdm(train_dataloader):\n",
    "        loss = policy.compute_loss(batch)\n",
    "        optimizer.zero_grad()\n",
    "        loss.backward()\n",
    "        optimizer.step()\n",
    "\n",
    "        total_loss += loss.item()\n",
    "\n",
    "        count += 1\n",
    "        if count >= save_loss_every:\n",
    "            curr_loss = total_loss / save_loss_every\n",
    "            print(\"Loss:\", curr_loss)\n",
    "            losses.append(curr_loss)\n",
    "            total_loss = 0\n",
    "            count = 0"
   ]
  },
  {
   "cell_type": "code",
   "execution_count": null,
   "metadata": {},
   "outputs": [
    {
     "data": {
      "image/png": "[encoded data removed]",
      "text/plain": [
       "<Figure size 640x480 with 1 Axes>"
      ]
     },
     "metadata": {},
     "output_type": "display_data"
    }
   ],
   "source": [
    "# plot loss\n",
    "import matplotlib.pyplot as plt\n",
    "\n",
    "plt.plot(losses)\n",
    "plt.xlabel('Epoch')\n",
    "plt.ylabel('Loss')\n",
    "plt.show();"
   ]
  },
  {
   "cell_type": "code",
   "execution_count": null,
   "metadata": {},
   "outputs": [],
   "source": []
  }
 ],
 "metadata": {
  "kernelspec": {
   "display_name": "base",
   "language": "python",
   "name": "python3"
  },
  "language_info": {
   "codemirror_mode": {
    "name": "ipython",
    "version": 3
   },
   "file_extension": ".py",
   "mimetype": "text/x-python",
   "name": "python",
   "nbconvert_exporter": "python",
   "pygments_lexer": "ipython3",
   "version": "3.6.0"
  }
 },
 "nbformat": 4,
 "nbformat_minor": 2
}
