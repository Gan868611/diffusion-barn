{
 "cells": [
  {
   "cell_type": "code",
   "execution_count": 1,
   "metadata": {},
   "outputs": [
    {
     "data": {
      "text/html": [
       "<div>\n",
       "<style scoped>\n",
       "    .dataframe tbody tr th:only-of-type {\n",
       "        vertical-align: middle;\n",
       "    }\n",
       "\n",
       "    .dataframe tbody tr th {\n",
       "        vertical-align: top;\n",
       "    }\n",
       "\n",
       "    .dataframe thead th {\n",
       "        text-align: right;\n",
       "    }\n",
       "</style>\n",
       "<table border=\"1\" class=\"dataframe\">\n",
       "  <thead>\n",
       "    <tr style=\"text-align: right;\">\n",
       "      <th></th>\n",
       "      <th>world_idx</th>\n",
       "      <th>lidar_0</th>\n",
       "      <th>lidar_1</th>\n",
       "      <th>lidar_2</th>\n",
       "      <th>lidar_3</th>\n",
       "      <th>lidar_4</th>\n",
       "      <th>lidar_5</th>\n",
       "      <th>lidar_6</th>\n",
       "      <th>lidar_7</th>\n",
       "      <th>lidar_8</th>\n",
       "      <th>...</th>\n",
       "      <th>lidar_717</th>\n",
       "      <th>lidar_718</th>\n",
       "      <th>lidar_719</th>\n",
       "      <th>pos_x</th>\n",
       "      <th>pos_y</th>\n",
       "      <th>pose_heading</th>\n",
       "      <th>twist_linear</th>\n",
       "      <th>twist_angular</th>\n",
       "      <th>cmd_vel_linear</th>\n",
       "      <th>cmd_vel_angular</th>\n",
       "    </tr>\n",
       "  </thead>\n",
       "  <tbody>\n",
       "    <tr>\n",
       "      <th>0</th>\n",
       "      <td>0</td>\n",
       "      <td>2.975122</td>\n",
       "      <td>2.950590</td>\n",
       "      <td>2.941146</td>\n",
       "      <td>2.934822</td>\n",
       "      <td>2.936081</td>\n",
       "      <td>2.940697</td>\n",
       "      <td>2.860065</td>\n",
       "      <td>2.844344</td>\n",
       "      <td>2.836783</td>\n",
       "      <td>...</td>\n",
       "      <td>2.939921</td>\n",
       "      <td>2.951161</td>\n",
       "      <td>2.975515</td>\n",
       "      <td>0.000410</td>\n",
       "      <td>0.000910</td>\n",
       "      <td>1.570855</td>\n",
       "      <td>0.009598</td>\n",
       "      <td>-0.002631</td>\n",
       "      <td>0.024</td>\n",
       "      <td>0.000042</td>\n",
       "    </tr>\n",
       "    <tr>\n",
       "      <th>1</th>\n",
       "      <td>0</td>\n",
       "      <td>2.972430</td>\n",
       "      <td>2.951944</td>\n",
       "      <td>2.938526</td>\n",
       "      <td>2.935578</td>\n",
       "      <td>2.935396</td>\n",
       "      <td>2.942980</td>\n",
       "      <td>2.860921</td>\n",
       "      <td>2.845748</td>\n",
       "      <td>2.834089</td>\n",
       "      <td>...</td>\n",
       "      <td>2.938502</td>\n",
       "      <td>2.952610</td>\n",
       "      <td>2.974882</td>\n",
       "      <td>0.000410</td>\n",
       "      <td>0.001337</td>\n",
       "      <td>1.570951</td>\n",
       "      <td>0.015093</td>\n",
       "      <td>0.003377</td>\n",
       "      <td>0.030</td>\n",
       "      <td>0.000042</td>\n",
       "    </tr>\n",
       "    <tr>\n",
       "      <th>2</th>\n",
       "      <td>0</td>\n",
       "      <td>2.972708</td>\n",
       "      <td>2.952116</td>\n",
       "      <td>2.939384</td>\n",
       "      <td>2.935842</td>\n",
       "      <td>2.935209</td>\n",
       "      <td>2.943959</td>\n",
       "      <td>2.859934</td>\n",
       "      <td>2.845049</td>\n",
       "      <td>2.835726</td>\n",
       "      <td>...</td>\n",
       "      <td>2.940752</td>\n",
       "      <td>2.950961</td>\n",
       "      <td>2.974894</td>\n",
       "      <td>0.000410</td>\n",
       "      <td>0.001885</td>\n",
       "      <td>1.570989</td>\n",
       "      <td>0.020909</td>\n",
       "      <td>0.005771</td>\n",
       "      <td>0.036</td>\n",
       "      <td>0.000088</td>\n",
       "    </tr>\n",
       "    <tr>\n",
       "      <th>3</th>\n",
       "      <td>0</td>\n",
       "      <td>2.971898</td>\n",
       "      <td>2.951548</td>\n",
       "      <td>2.941052</td>\n",
       "      <td>2.937054</td>\n",
       "      <td>2.937652</td>\n",
       "      <td>2.945617</td>\n",
       "      <td>2.860368</td>\n",
       "      <td>2.844340</td>\n",
       "      <td>2.837155</td>\n",
       "      <td>...</td>\n",
       "      <td>2.940525</td>\n",
       "      <td>2.952479</td>\n",
       "      <td>2.977302</td>\n",
       "      <td>0.000410</td>\n",
       "      <td>0.002582</td>\n",
       "      <td>1.571108</td>\n",
       "      <td>0.026900</td>\n",
       "      <td>0.012403</td>\n",
       "      <td>0.042</td>\n",
       "      <td>0.000088</td>\n",
       "    </tr>\n",
       "    <tr>\n",
       "      <th>4</th>\n",
       "      <td>0</td>\n",
       "      <td>2.973597</td>\n",
       "      <td>2.952102</td>\n",
       "      <td>2.938964</td>\n",
       "      <td>2.936647</td>\n",
       "      <td>2.938474</td>\n",
       "      <td>2.946904</td>\n",
       "      <td>2.860490</td>\n",
       "      <td>2.843487</td>\n",
       "      <td>2.837442</td>\n",
       "      <td>...</td>\n",
       "      <td>2.942413</td>\n",
       "      <td>2.950405</td>\n",
       "      <td>2.971989</td>\n",
       "      <td>0.000409</td>\n",
       "      <td>0.003343</td>\n",
       "      <td>1.571095</td>\n",
       "      <td>0.032934</td>\n",
       "      <td>0.012326</td>\n",
       "      <td>0.048</td>\n",
       "      <td>0.000088</td>\n",
       "    </tr>\n",
       "  </tbody>\n",
       "</table>\n",
       "<p>5 rows × 728 columns</p>\n",
       "</div>"
      ],
      "text/plain": [
       "   world_idx   lidar_0   lidar_1   lidar_2   lidar_3   lidar_4   lidar_5  \\\n",
       "0          0  2.975122  2.950590  2.941146  2.934822  2.936081  2.940697   \n",
       "1          0  2.972430  2.951944  2.938526  2.935578  2.935396  2.942980   \n",
       "2          0  2.972708  2.952116  2.939384  2.935842  2.935209  2.943959   \n",
       "3          0  2.971898  2.951548  2.941052  2.937054  2.937652  2.945617   \n",
       "4          0  2.973597  2.952102  2.938964  2.936647  2.938474  2.946904   \n",
       "\n",
       "    lidar_6   lidar_7   lidar_8  ...  lidar_717  lidar_718  lidar_719  \\\n",
       "0  2.860065  2.844344  2.836783  ...   2.939921   2.951161   2.975515   \n",
       "1  2.860921  2.845748  2.834089  ...   2.938502   2.952610   2.974882   \n",
       "2  2.859934  2.845049  2.835726  ...   2.940752   2.950961   2.974894   \n",
       "3  2.860368  2.844340  2.837155  ...   2.940525   2.952479   2.977302   \n",
       "4  2.860490  2.843487  2.837442  ...   2.942413   2.950405   2.971989   \n",
       "\n",
       "      pos_x     pos_y  pose_heading  twist_linear  twist_angular  \\\n",
       "0  0.000410  0.000910      1.570855      0.009598      -0.002631   \n",
       "1  0.000410  0.001337      1.570951      0.015093       0.003377   \n",
       "2  0.000410  0.001885      1.570989      0.020909       0.005771   \n",
       "3  0.000410  0.002582      1.571108      0.026900       0.012403   \n",
       "4  0.000409  0.003343      1.571095      0.032934       0.012326   \n",
       "\n",
       "   cmd_vel_linear  cmd_vel_angular  \n",
       "0           0.024         0.000042  \n",
       "1           0.030         0.000042  \n",
       "2           0.036         0.000088  \n",
       "3           0.042         0.000088  \n",
       "4           0.048         0.000088  \n",
       "\n",
       "[5 rows x 728 columns]"
      ]
     },
     "execution_count": 1,
     "metadata": {},
     "output_type": "execute_result"
    }
   ],
   "source": [
    "import pandas as pd\n",
    "\n",
    "df = pd.read_csv('data.csv')\n",
    "df.head()"
   ]
  },
  {
   "cell_type": "code",
   "execution_count": 2,
   "metadata": {},
   "outputs": [
    {
     "data": {
      "text/html": [
       "<div>\n",
       "<style scoped>\n",
       "    .dataframe tbody tr th:only-of-type {\n",
       "        vertical-align: middle;\n",
       "    }\n",
       "\n",
       "    .dataframe tbody tr th {\n",
       "        vertical-align: top;\n",
       "    }\n",
       "\n",
       "    .dataframe thead th {\n",
       "        text-align: right;\n",
       "    }\n",
       "</style>\n",
       "<table border=\"1\" class=\"dataframe\">\n",
       "  <thead>\n",
       "    <tr style=\"text-align: right;\">\n",
       "      <th></th>\n",
       "      <th>world_idx</th>\n",
       "      <th>lidar_0</th>\n",
       "      <th>lidar_1</th>\n",
       "      <th>lidar_2</th>\n",
       "      <th>lidar_3</th>\n",
       "      <th>lidar_4</th>\n",
       "      <th>lidar_5</th>\n",
       "      <th>lidar_6</th>\n",
       "      <th>lidar_7</th>\n",
       "      <th>lidar_8</th>\n",
       "      <th>...</th>\n",
       "      <th>lidar_717</th>\n",
       "      <th>lidar_718</th>\n",
       "      <th>lidar_719</th>\n",
       "      <th>pos_x</th>\n",
       "      <th>pos_y</th>\n",
       "      <th>pose_heading</th>\n",
       "      <th>twist_linear</th>\n",
       "      <th>twist_angular</th>\n",
       "      <th>cmd_vel_linear</th>\n",
       "      <th>cmd_vel_angular</th>\n",
       "    </tr>\n",
       "  </thead>\n",
       "  <tbody>\n",
       "    <tr>\n",
       "      <th>count</th>\n",
       "      <td>197874.000000</td>\n",
       "      <td>197874.000000</td>\n",
       "      <td>197874.000000</td>\n",
       "      <td>197874.000000</td>\n",
       "      <td>197874.000000</td>\n",
       "      <td>197874.000000</td>\n",
       "      <td>197874.000000</td>\n",
       "      <td>197874.000000</td>\n",
       "      <td>197874.000000</td>\n",
       "      <td>197874.000000</td>\n",
       "      <td>...</td>\n",
       "      <td>197874.000000</td>\n",
       "      <td>197874.000000</td>\n",
       "      <td>197874.000000</td>\n",
       "      <td>197874.000000</td>\n",
       "      <td>197874.000000</td>\n",
       "      <td>197874.000000</td>\n",
       "      <td>197874.000000</td>\n",
       "      <td>197874.000000</td>\n",
       "      <td>197874.000000</td>\n",
       "      <td>197874.000000</td>\n",
       "    </tr>\n",
       "    <tr>\n",
       "      <th>mean</th>\n",
       "      <td>151.360037</td>\n",
       "      <td>4.078458</td>\n",
       "      <td>4.095890</td>\n",
       "      <td>4.116250</td>\n",
       "      <td>4.135100</td>\n",
       "      <td>4.152535</td>\n",
       "      <td>4.171141</td>\n",
       "      <td>4.187046</td>\n",
       "      <td>4.207134</td>\n",
       "      <td>4.228729</td>\n",
       "      <td>...</td>\n",
       "      <td>4.331385</td>\n",
       "      <td>4.313234</td>\n",
       "      <td>4.298415</td>\n",
       "      <td>-0.044590</td>\n",
       "      <td>4.085588</td>\n",
       "      <td>1.561297</td>\n",
       "      <td>0.704256</td>\n",
       "      <td>-0.001236</td>\n",
       "      <td>0.705201</td>\n",
       "      <td>-0.000337</td>\n",
       "    </tr>\n",
       "    <tr>\n",
       "      <th>std</th>\n",
       "      <td>86.694318</td>\n",
       "      <td>6.409648</td>\n",
       "      <td>6.468628</td>\n",
       "      <td>6.532197</td>\n",
       "      <td>6.592483</td>\n",
       "      <td>6.650592</td>\n",
       "      <td>6.708358</td>\n",
       "      <td>6.763005</td>\n",
       "      <td>6.821829</td>\n",
       "      <td>6.882105</td>\n",
       "      <td>...</td>\n",
       "      <td>7.022881</td>\n",
       "      <td>6.966949</td>\n",
       "      <td>6.914068</td>\n",
       "      <td>0.523861</td>\n",
       "      <td>2.800747</td>\n",
       "      <td>0.342559</td>\n",
       "      <td>0.211833</td>\n",
       "      <td>0.254823</td>\n",
       "      <td>0.208394</td>\n",
       "      <td>0.229899</td>\n",
       "    </tr>\n",
       "    <tr>\n",
       "      <th>min</th>\n",
       "      <td>0.000000</td>\n",
       "      <td>0.292501</td>\n",
       "      <td>0.290324</td>\n",
       "      <td>0.288359</td>\n",
       "      <td>0.288144</td>\n",
       "      <td>0.286397</td>\n",
       "      <td>0.283413</td>\n",
       "      <td>0.283495</td>\n",
       "      <td>0.281896</td>\n",
       "      <td>0.280428</td>\n",
       "      <td>...</td>\n",
       "      <td>0.289595</td>\n",
       "      <td>0.290922</td>\n",
       "      <td>0.219878</td>\n",
       "      <td>-1.706671</td>\n",
       "      <td>-0.000264</td>\n",
       "      <td>-3.141425</td>\n",
       "      <td>-0.314146</td>\n",
       "      <td>-2.183365</td>\n",
       "      <td>-0.300000</td>\n",
       "      <td>-1.570796</td>\n",
       "    </tr>\n",
       "    <tr>\n",
       "      <th>25%</th>\n",
       "      <td>77.000000</td>\n",
       "      <td>1.719141</td>\n",
       "      <td>1.713263</td>\n",
       "      <td>1.707765</td>\n",
       "      <td>1.701611</td>\n",
       "      <td>1.695104</td>\n",
       "      <td>1.691961</td>\n",
       "      <td>1.685540</td>\n",
       "      <td>1.679638</td>\n",
       "      <td>1.674704</td>\n",
       "      <td>...</td>\n",
       "      <td>1.623969</td>\n",
       "      <td>1.630992</td>\n",
       "      <td>1.637606</td>\n",
       "      <td>-0.304091</td>\n",
       "      <td>1.571724</td>\n",
       "      <td>1.471075</td>\n",
       "      <td>0.799498</td>\n",
       "      <td>-0.061546</td>\n",
       "      <td>0.800000</td>\n",
       "      <td>-0.066984</td>\n",
       "    </tr>\n",
       "    <tr>\n",
       "      <th>50%</th>\n",
       "      <td>153.000000</td>\n",
       "      <td>2.883244</td>\n",
       "      <td>2.869646</td>\n",
       "      <td>2.856122</td>\n",
       "      <td>2.842418</td>\n",
       "      <td>2.829051</td>\n",
       "      <td>2.815888</td>\n",
       "      <td>2.801626</td>\n",
       "      <td>2.787498</td>\n",
       "      <td>2.773753</td>\n",
       "      <td>...</td>\n",
       "      <td>2.822952</td>\n",
       "      <td>2.836291</td>\n",
       "      <td>2.850397</td>\n",
       "      <td>-0.006076</td>\n",
       "      <td>3.932725</td>\n",
       "      <td>1.580098</td>\n",
       "      <td>0.800230</td>\n",
       "      <td>-0.001608</td>\n",
       "      <td>0.800000</td>\n",
       "      <td>-0.000040</td>\n",
       "    </tr>\n",
       "    <tr>\n",
       "      <th>75%</th>\n",
       "      <td>227.000000</td>\n",
       "      <td>3.185827</td>\n",
       "      <td>3.170585</td>\n",
       "      <td>3.156329</td>\n",
       "      <td>3.141299</td>\n",
       "      <td>3.125171</td>\n",
       "      <td>3.110740</td>\n",
       "      <td>3.097386</td>\n",
       "      <td>3.083128</td>\n",
       "      <td>3.068944</td>\n",
       "      <td>...</td>\n",
       "      <td>3.142002</td>\n",
       "      <td>3.160312</td>\n",
       "      <td>3.177978</td>\n",
       "      <td>0.195552</td>\n",
       "      <td>6.489830</td>\n",
       "      <td>1.679653</td>\n",
       "      <td>0.801045</td>\n",
       "      <td>0.042874</td>\n",
       "      <td>0.800000</td>\n",
       "      <td>0.051272</td>\n",
       "    </tr>\n",
       "    <tr>\n",
       "      <th>max</th>\n",
       "      <td>299.000000</td>\n",
       "      <td>30.000000</td>\n",
       "      <td>30.000000</td>\n",
       "      <td>30.000000</td>\n",
       "      <td>30.000000</td>\n",
       "      <td>30.000000</td>\n",
       "      <td>30.000000</td>\n",
       "      <td>30.000000</td>\n",
       "      <td>30.000000</td>\n",
       "      <td>30.000000</td>\n",
       "      <td>...</td>\n",
       "      <td>30.000000</td>\n",
       "      <td>30.000000</td>\n",
       "      <td>30.000000</td>\n",
       "      <td>1.679888</td>\n",
       "      <td>9.359002</td>\n",
       "      <td>3.141587</td>\n",
       "      <td>0.811659</td>\n",
       "      <td>2.163897</td>\n",
       "      <td>0.800000</td>\n",
       "      <td>1.570796</td>\n",
       "    </tr>\n",
       "  </tbody>\n",
       "</table>\n",
       "<p>8 rows × 728 columns</p>\n",
       "</div>"
      ],
      "text/plain": [
       "           world_idx        lidar_0        lidar_1        lidar_2  \\\n",
       "count  197874.000000  197874.000000  197874.000000  197874.000000   \n",
       "mean      151.360037       4.078458       4.095890       4.116250   \n",
       "std        86.694318       6.409648       6.468628       6.532197   \n",
       "min         0.000000       0.292501       0.290324       0.288359   \n",
       "25%        77.000000       1.719141       1.713263       1.707765   \n",
       "50%       153.000000       2.883244       2.869646       2.856122   \n",
       "75%       227.000000       3.185827       3.170585       3.156329   \n",
       "max       299.000000      30.000000      30.000000      30.000000   \n",
       "\n",
       "             lidar_3        lidar_4        lidar_5        lidar_6  \\\n",
       "count  197874.000000  197874.000000  197874.000000  197874.000000   \n",
       "mean        4.135100       4.152535       4.171141       4.187046   \n",
       "std         6.592483       6.650592       6.708358       6.763005   \n",
       "min         0.288144       0.286397       0.283413       0.283495   \n",
       "25%         1.701611       1.695104       1.691961       1.685540   \n",
       "50%         2.842418       2.829051       2.815888       2.801626   \n",
       "75%         3.141299       3.125171       3.110740       3.097386   \n",
       "max        30.000000      30.000000      30.000000      30.000000   \n",
       "\n",
       "             lidar_7        lidar_8  ...      lidar_717      lidar_718  \\\n",
       "count  197874.000000  197874.000000  ...  197874.000000  197874.000000   \n",
       "mean        4.207134       4.228729  ...       4.331385       4.313234   \n",
       "std         6.821829       6.882105  ...       7.022881       6.966949   \n",
       "min         0.281896       0.280428  ...       0.289595       0.290922   \n",
       "25%         1.679638       1.674704  ...       1.623969       1.630992   \n",
       "50%         2.787498       2.773753  ...       2.822952       2.836291   \n",
       "75%         3.083128       3.068944  ...       3.142002       3.160312   \n",
       "max        30.000000      30.000000  ...      30.000000      30.000000   \n",
       "\n",
       "           lidar_719          pos_x          pos_y   pose_heading  \\\n",
       "count  197874.000000  197874.000000  197874.000000  197874.000000   \n",
       "mean        4.298415      -0.044590       4.085588       1.561297   \n",
       "std         6.914068       0.523861       2.800747       0.342559   \n",
       "min         0.219878      -1.706671      -0.000264      -3.141425   \n",
       "25%         1.637606      -0.304091       1.571724       1.471075   \n",
       "50%         2.850397      -0.006076       3.932725       1.580098   \n",
       "75%         3.177978       0.195552       6.489830       1.679653   \n",
       "max        30.000000       1.679888       9.359002       3.141587   \n",
       "\n",
       "        twist_linear  twist_angular  cmd_vel_linear  cmd_vel_angular  \n",
       "count  197874.000000  197874.000000   197874.000000    197874.000000  \n",
       "mean        0.704256      -0.001236        0.705201        -0.000337  \n",
       "std         0.211833       0.254823        0.208394         0.229899  \n",
       "min        -0.314146      -2.183365       -0.300000        -1.570796  \n",
       "25%         0.799498      -0.061546        0.800000        -0.066984  \n",
       "50%         0.800230      -0.001608        0.800000        -0.000040  \n",
       "75%         0.801045       0.042874        0.800000         0.051272  \n",
       "max         0.811659       2.163897        0.800000         1.570796  \n",
       "\n",
       "[8 rows x 728 columns]"
      ]
     },
     "execution_count": 2,
     "metadata": {},
     "output_type": "execute_result"
    }
   ],
   "source": [
    "df.describe()"
   ]
  },
  {
   "cell_type": "code",
   "execution_count": 3,
   "metadata": {},
   "outputs": [
    {
     "name": "stderr",
     "output_type": "stream",
     "text": [
      "/home/jvthunder/anaconda/envs/mimic_data_extraction/lib/python3.6/site-packages/sklearn/preprocessing/data.py:334: DataConversionWarning: Data with input dtype int64, float64 were all converted to float64 by MinMaxScaler.\n",
      "  return self.partial_fit(X, y)\n"
     ]
    },
    {
     "data": {
      "text/html": [
       "<div>\n",
       "<style scoped>\n",
       "    .dataframe tbody tr th:only-of-type {\n",
       "        vertical-align: middle;\n",
       "    }\n",
       "\n",
       "    .dataframe tbody tr th {\n",
       "        vertical-align: top;\n",
       "    }\n",
       "\n",
       "    .dataframe thead th {\n",
       "        text-align: right;\n",
       "    }\n",
       "</style>\n",
       "<table border=\"1\" class=\"dataframe\">\n",
       "  <thead>\n",
       "    <tr style=\"text-align: right;\">\n",
       "      <th></th>\n",
       "      <th>world_idx</th>\n",
       "      <th>lidar_0</th>\n",
       "      <th>lidar_1</th>\n",
       "      <th>lidar_2</th>\n",
       "      <th>lidar_3</th>\n",
       "      <th>lidar_4</th>\n",
       "      <th>lidar_5</th>\n",
       "      <th>lidar_6</th>\n",
       "      <th>lidar_7</th>\n",
       "      <th>lidar_8</th>\n",
       "      <th>...</th>\n",
       "      <th>lidar_717</th>\n",
       "      <th>lidar_718</th>\n",
       "      <th>lidar_719</th>\n",
       "      <th>pos_x</th>\n",
       "      <th>pos_y</th>\n",
       "      <th>pose_heading</th>\n",
       "      <th>twist_linear</th>\n",
       "      <th>twist_angular</th>\n",
       "      <th>cmd_vel_linear</th>\n",
       "      <th>cmd_vel_angular</th>\n",
       "    </tr>\n",
       "  </thead>\n",
       "  <tbody>\n",
       "    <tr>\n",
       "      <th>0</th>\n",
       "      <td>0.0</td>\n",
       "      <td>0.090301</td>\n",
       "      <td>0.089542</td>\n",
       "      <td>0.089284</td>\n",
       "      <td>0.089078</td>\n",
       "      <td>0.089174</td>\n",
       "      <td>0.089421</td>\n",
       "      <td>0.086705</td>\n",
       "      <td>0.086225</td>\n",
       "      <td>0.086016</td>\n",
       "      <td>...</td>\n",
       "      <td>0.089205</td>\n",
       "      <td>0.089543</td>\n",
       "      <td>0.092533</td>\n",
       "      <td>0.504076</td>\n",
       "      <td>0.000125</td>\n",
       "      <td>0.750003</td>\n",
       "      <td>0.287566</td>\n",
       "      <td>0.501634</td>\n",
       "      <td>0.294545</td>\n",
       "      <td>0.500013</td>\n",
       "    </tr>\n",
       "    <tr>\n",
       "      <th>1</th>\n",
       "      <td>0.0</td>\n",
       "      <td>0.090211</td>\n",
       "      <td>0.089588</td>\n",
       "      <td>0.089196</td>\n",
       "      <td>0.089104</td>\n",
       "      <td>0.089151</td>\n",
       "      <td>0.089498</td>\n",
       "      <td>0.086734</td>\n",
       "      <td>0.086272</td>\n",
       "      <td>0.085925</td>\n",
       "      <td>...</td>\n",
       "      <td>0.089158</td>\n",
       "      <td>0.089592</td>\n",
       "      <td>0.092511</td>\n",
       "      <td>0.504076</td>\n",
       "      <td>0.000171</td>\n",
       "      <td>0.750019</td>\n",
       "      <td>0.292447</td>\n",
       "      <td>0.503016</td>\n",
       "      <td>0.300000</td>\n",
       "      <td>0.500013</td>\n",
       "    </tr>\n",
       "    <tr>\n",
       "      <th>2</th>\n",
       "      <td>0.0</td>\n",
       "      <td>0.090220</td>\n",
       "      <td>0.089593</td>\n",
       "      <td>0.089225</td>\n",
       "      <td>0.089113</td>\n",
       "      <td>0.089145</td>\n",
       "      <td>0.089531</td>\n",
       "      <td>0.086701</td>\n",
       "      <td>0.086249</td>\n",
       "      <td>0.085980</td>\n",
       "      <td>...</td>\n",
       "      <td>0.089233</td>\n",
       "      <td>0.089536</td>\n",
       "      <td>0.092512</td>\n",
       "      <td>0.504075</td>\n",
       "      <td>0.000230</td>\n",
       "      <td>0.750025</td>\n",
       "      <td>0.297614</td>\n",
       "      <td>0.503567</td>\n",
       "      <td>0.305455</td>\n",
       "      <td>0.500028</td>\n",
       "    </tr>\n",
       "    <tr>\n",
       "      <th>3</th>\n",
       "      <td>0.0</td>\n",
       "      <td>0.090193</td>\n",
       "      <td>0.089574</td>\n",
       "      <td>0.089281</td>\n",
       "      <td>0.089153</td>\n",
       "      <td>0.089227</td>\n",
       "      <td>0.089586</td>\n",
       "      <td>0.086715</td>\n",
       "      <td>0.086225</td>\n",
       "      <td>0.086028</td>\n",
       "      <td>...</td>\n",
       "      <td>0.089226</td>\n",
       "      <td>0.089587</td>\n",
       "      <td>0.092593</td>\n",
       "      <td>0.504075</td>\n",
       "      <td>0.000304</td>\n",
       "      <td>0.750044</td>\n",
       "      <td>0.302935</td>\n",
       "      <td>0.505092</td>\n",
       "      <td>0.310909</td>\n",
       "      <td>0.500028</td>\n",
       "    </tr>\n",
       "    <tr>\n",
       "      <th>4</th>\n",
       "      <td>0.0</td>\n",
       "      <td>0.090250</td>\n",
       "      <td>0.089593</td>\n",
       "      <td>0.089211</td>\n",
       "      <td>0.089140</td>\n",
       "      <td>0.089255</td>\n",
       "      <td>0.089630</td>\n",
       "      <td>0.086719</td>\n",
       "      <td>0.086196</td>\n",
       "      <td>0.086038</td>\n",
       "      <td>...</td>\n",
       "      <td>0.089289</td>\n",
       "      <td>0.089518</td>\n",
       "      <td>0.092414</td>\n",
       "      <td>0.504075</td>\n",
       "      <td>0.000385</td>\n",
       "      <td>0.750042</td>\n",
       "      <td>0.308295</td>\n",
       "      <td>0.505074</td>\n",
       "      <td>0.316364</td>\n",
       "      <td>0.500028</td>\n",
       "    </tr>\n",
       "  </tbody>\n",
       "</table>\n",
       "<p>5 rows × 728 columns</p>\n",
       "</div>"
      ],
      "text/plain": [
       "   world_idx   lidar_0   lidar_1   lidar_2   lidar_3   lidar_4   lidar_5  \\\n",
       "0        0.0  0.090301  0.089542  0.089284  0.089078  0.089174  0.089421   \n",
       "1        0.0  0.090211  0.089588  0.089196  0.089104  0.089151  0.089498   \n",
       "2        0.0  0.090220  0.089593  0.089225  0.089113  0.089145  0.089531   \n",
       "3        0.0  0.090193  0.089574  0.089281  0.089153  0.089227  0.089586   \n",
       "4        0.0  0.090250  0.089593  0.089211  0.089140  0.089255  0.089630   \n",
       "\n",
       "    lidar_6   lidar_7   lidar_8  ...  lidar_717  lidar_718  lidar_719  \\\n",
       "0  0.086705  0.086225  0.086016  ...   0.089205   0.089543   0.092533   \n",
       "1  0.086734  0.086272  0.085925  ...   0.089158   0.089592   0.092511   \n",
       "2  0.086701  0.086249  0.085980  ...   0.089233   0.089536   0.092512   \n",
       "3  0.086715  0.086225  0.086028  ...   0.089226   0.089587   0.092593   \n",
       "4  0.086719  0.086196  0.086038  ...   0.089289   0.089518   0.092414   \n",
       "\n",
       "      pos_x     pos_y  pose_heading  twist_linear  twist_angular  \\\n",
       "0  0.504076  0.000125      0.750003      0.287566       0.501634   \n",
       "1  0.504076  0.000171      0.750019      0.292447       0.503016   \n",
       "2  0.504075  0.000230      0.750025      0.297614       0.503567   \n",
       "3  0.504075  0.000304      0.750044      0.302935       0.505092   \n",
       "4  0.504075  0.000385      0.750042      0.308295       0.505074   \n",
       "\n",
       "   cmd_vel_linear  cmd_vel_angular  \n",
       "0        0.294545         0.500013  \n",
       "1        0.300000         0.500013  \n",
       "2        0.305455         0.500028  \n",
       "3        0.310909         0.500028  \n",
       "4        0.316364         0.500028  \n",
       "\n",
       "[5 rows x 728 columns]"
      ]
     },
     "execution_count": 3,
     "metadata": {},
     "output_type": "execute_result"
    }
   ],
   "source": [
    "# scale the data\n",
    "from sklearn.preprocessing import MinMaxScaler\n",
    "\n",
    "scaler = MinMaxScaler()\n",
    "columns = df.columns\n",
    "df = scaler.fit_transform(df)\n",
    "df = pd.DataFrame(df, columns=columns)\n",
    "df.head()"
   ]
  },
  {
   "cell_type": "code",
   "execution_count": 4,
   "metadata": {},
   "outputs": [],
   "source": [
    "# torch Dataset\n",
    "import torch\n",
    "from torch.utils.data import Dataset\n",
    "\n",
    "class KULBarnDataset(Dataset):\n",
    "    def __init__(self, df):\n",
    "        super().__init__()\n",
    "        self.data = df\n",
    "        self.data = self.data.drop(columns=['world_idx'])\n",
    "        \n",
    "        # get all the column values that contain the word lidar\n",
    "        self.lidar_cols = [col for col in df.columns if 'lidar' in col]\n",
    "        # get actions columns\n",
    "        self.actions_cols = [col for col in df.columns if 'cmd' in col]\n",
    "        # get other columns\n",
    "        self.non_lidar_cols = [col for col in df.columns if col not in self.lidar_cols and col not in self.actions_cols]\n",
    "        \n",
    "        self.lidar_data = df[self.lidar_cols].values\n",
    "        self.non_lidar_data = df[self.non_lidar_cols].values\n",
    "        self.actions_data = df[self.actions_cols].values\n",
    "\n",
    "    def __len__(self):\n",
    "        return len(self.data)\n",
    "    \n",
    "    def __getitem__(self, idx):\n",
    "        lidar = self.lidar_data[idx]\n",
    "        non_lidar = self.non_lidar_data[idx]\n",
    "        actions = self.actions_data[idx]\n",
    "        return lidar, non_lidar, actions"
   ]
  },
  {
   "cell_type": "code",
   "execution_count": 5,
   "metadata": {},
   "outputs": [
    {
     "name": "stdout",
     "output_type": "stream",
     "text": [
      "Train dataset size: 322\n",
      "Test dataset size: 659\n"
     ]
    }
   ],
   "source": [
    "# split train and test\n",
    "from sklearn.model_selection import train_test_split\n",
    "import random\n",
    "\n",
    "world_ids = [i for i in range(300)]\n",
    "# select 0.8 of the world_ids as train_ids randomized\n",
    "train_ids = random.sample(world_ids, 240)\n",
    "test_ids = [id for id in world_ids if id not in train_ids]\n",
    "\n",
    "train_df = df[df['world_idx'].isin(train_ids)]\n",
    "test_df = df[df['world_idx'].isin(test_ids)]\n",
    "\n",
    "train_dataset = KULBarnDataset(train_df)\n",
    "test_dataset = KULBarnDataset(test_df)\n",
    "\n",
    "print(f\"Train dataset size: {len(train_dataset)}\")\n",
    "print(f\"Test dataset size: {len(test_dataset)}\")"
   ]
  },
  {
   "cell_type": "code",
   "execution_count": 6,
   "metadata": {},
   "outputs": [
    {
     "name": "stdout",
     "output_type": "stream",
     "text": [
      "Lidar shape: torch.Size([32, 720])\n",
      "Train loader size: 11\n",
      "Test loader size: 21\n"
     ]
    }
   ],
   "source": [
    "# dataloader\n",
    "from torch.utils.data import DataLoader\n",
    "\n",
    "train_loader = DataLoader(train_dataset, batch_size=32, shuffle=True)\n",
    "test_loader = DataLoader(test_dataset, batch_size=32, shuffle=False)\n",
    "\n",
    "# test dataloader\n",
    "lidar, non_lidar, actions = next(iter(train_loader))\n",
    "print(f\"Lidar shape: {lidar.shape}\")\n",
    "# print size dataloader\n",
    "print(f\"Train loader size: {len(train_loader)}\")\n",
    "print(f\"Test loader size: {len(test_loader)}\")"
   ]
  },
  {
   "cell_type": "code",
   "execution_count": 7,
   "metadata": {},
   "outputs": [],
   "source": [
    "import torch\n",
    "import torch.nn as nn\n",
    "import torch.optim as optim\n",
    "from torch.utils.data import DataLoader\n",
    "\n",
    "class CNNModel(nn.Module):\n",
    "    def __init__(self, num_lidar_features, num_non_lidar_features, num_actions):\n",
    "        super(CNNModel, self).__init__()\n",
    "        # Define the CNN for lidar data\n",
    "        self.cnn = nn.Sequential(\n",
    "            nn.Conv1d(in_channels=1, out_channels=16, kernel_size=3, stride=1, padding=1),\n",
    "            nn.ReLU(),\n",
    "            nn.MaxPool1d(kernel_size=2, stride=2),\n",
    "            nn.Conv1d(in_channels=16, out_channels=32, kernel_size=3, stride=1, padding=1),\n",
    "            nn.ReLU(),\n",
    "            nn.MaxPool1d(kernel_size=2, stride=2),\n",
    "            nn.Flatten()\n",
    "        )\n",
    "        \n",
    "        # Calculate the output size of the CNN\n",
    "        cnn_output_size = self._get_cnn_output_size(num_lidar_features)\n",
    "        \n",
    "        # Define the fully connected layers for combined data\n",
    "        self.fc = nn.Sequential(\n",
    "            nn.Linear(cnn_output_size + num_non_lidar_features, 128),\n",
    "            nn.ReLU(),\n",
    "            nn.Linear(128, num_actions)\n",
    "        )\n",
    "        \n",
    "    def _get_cnn_output_size(self, num_lidar_features):\n",
    "        # Dummy input to calculate the output size of the CNN\n",
    "        x = torch.zeros(1, 1, num_lidar_features)\n",
    "        x = self.cnn(x)\n",
    "        return x.size(1)\n",
    "\n",
    "    def forward(self, lidar, non_lidar):\n",
    "        lidar = lidar.unsqueeze(1)  # Add channel dimension\n",
    "        lidar_features = self.cnn(lidar)\n",
    "        combined_features = torch.cat((lidar_features, non_lidar), dim=1)\n",
    "        actions = self.fc(combined_features)\n",
    "        return actions"
   ]
  },
  {
   "cell_type": "code",
   "execution_count": 8,
   "metadata": {},
   "outputs": [
    {
     "name": "stdout",
     "output_type": "stream",
     "text": [
      "cpu\n"
     ]
    }
   ],
   "source": [
    "# Initialize the model\n",
    "num_lidar_features = train_dataset.lidar_data.shape[1]\n",
    "num_non_lidar_features = train_dataset.non_lidar_data.shape[1]\n",
    "num_actions = train_dataset.actions_data.shape[1]\n",
    "model = CNNModel(num_lidar_features, num_non_lidar_features, num_actions)\n",
    "\n",
    "# Define the loss function and optimizer\n",
    "loss_fn = nn.MSELoss()\n",
    "optimizer = optim.Adam(model.parameters(), lr=1e-4)\n",
    "\n",
    "# Move the model and loss function to the GPU if available\n",
    "device = torch.device('cuda' if torch.cuda.is_available() else 'cpu')\n",
    "model = model.to(device)\n",
    "loss_fn = loss_fn.to(device)\n",
    "print(device)"
   ]
  },
  {
   "cell_type": "code",
   "execution_count": 9,
   "metadata": {},
   "outputs": [],
   "source": [
    "from tqdm import tqdm\n",
    "\n",
    "def train_model(model, train_loader, loss_fn, optimizer):\n",
    "    model.train()\n",
    "\n",
    "    losses = []\n",
    "    for lidar, non_lidar, actions in tqdm(train_loader):\n",
    "\n",
    "        # Move the data to the device that is used\n",
    "        lidar = lidar.to(device)\n",
    "        non_lidar = non_lidar.to(device)\n",
    "        actions = actions.to(device)\n",
    "\n",
    "        # Forward pass\n",
    "        actions_pred = model(lidar.float(), non_lidar.float())\n",
    "        loss = loss_fn(actions_pred, actions.float())\n",
    "\n",
    "        # Backward pass\n",
    "        optimizer.zero_grad()\n",
    "        loss.backward()\n",
    "        optimizer.step()\n",
    "\n",
    "        # Save the loss\n",
    "        losses.append(loss.item())\n",
    "\n",
    "    # return the average loss for this epoch\n",
    "    return sum(losses)/len(losses)"
   ]
  },
  {
   "cell_type": "code",
   "execution_count": 10,
   "metadata": {},
   "outputs": [],
   "source": [
    "def test_model(model, test_loader, loss_fn):\n",
    "    model.eval()\n",
    "\n",
    "    losses = []\n",
    "    for lidar, non_lidar, actions in tqdm(test_loader):\n",
    "        # Move the data to the device that is used\n",
    "        lidar = lidar.to(device)\n",
    "        non_lidar = non_lidar.to(device)\n",
    "        actions = actions.to(device)\n",
    "\n",
    "        # Forward pass\n",
    "        actions_pred = model(lidar.float(), non_lidar.float())\n",
    "        loss = loss_fn(actions_pred, actions.float())\n",
    "\n",
    "        # Save the loss\n",
    "        losses.append(loss.item())\n",
    "\n",
    "    # return the average loss for this epoch\n",
    "    return sum(losses)/len(losses)"
   ]
  },
  {
   "cell_type": "code",
   "execution_count": 11,
   "metadata": {},
   "outputs": [
    {
     "name": "stderr",
     "output_type": "stream",
     "text": [
      "100%|██████████| 11/11 [00:00<00:00, 78.87it/s]\n",
      "100%|██████████| 21/21 [00:00<00:00, 433.24it/s]"
     ]
    },
    {
     "name": "stdout",
     "output_type": "stream",
     "text": [
      "Epoch 1/30 | Train Loss: 0.2947640933773734 | Test Loss: 0.10188476262348038\n"
     ]
    },
    {
     "name": "stderr",
     "output_type": "stream",
     "text": [
      "\n",
      "100%|██████████| 11/11 [00:00<00:00, 142.85it/s]\n",
      "100%|██████████| 21/21 [00:00<00:00, 505.86it/s]"
     ]
    },
    {
     "name": "stdout",
     "output_type": "stream",
     "text": [
      "Epoch 2/30 | Train Loss: 0.07099218903617426 | Test Loss: 0.05222517994809009\n"
     ]
    },
    {
     "name": "stderr",
     "output_type": "stream",
     "text": [
      "\n",
      "100%|██████████| 11/11 [00:00<00:00, 180.50it/s]\n",
      "100%|██████████| 21/21 [00:00<00:00, 432.28it/s]"
     ]
    },
    {
     "name": "stdout",
     "output_type": "stream",
     "text": [
      "Epoch 3/30 | Train Loss: 0.05103132738308473 | Test Loss: 0.08117215651907914\n"
     ]
    },
    {
     "name": "stderr",
     "output_type": "stream",
     "text": [
      "\n",
      "100%|██████████| 11/11 [00:00<00:00, 172.68it/s]\n",
      "100%|██████████| 21/21 [00:00<00:00, 514.31it/s]"
     ]
    },
    {
     "name": "stdout",
     "output_type": "stream",
     "text": [
      "Epoch 4/30 | Train Loss: 0.04357777332717722 | Test Loss: 0.040097417598146765\n"
     ]
    },
    {
     "name": "stderr",
     "output_type": "stream",
     "text": [
      "\n",
      "100%|██████████| 11/11 [00:00<00:00, 170.97it/s]\n",
      "100%|██████████| 21/21 [00:00<00:00, 454.42it/s]"
     ]
    },
    {
     "name": "stdout",
     "output_type": "stream",
     "text": [
      "Epoch 5/30 | Train Loss: 0.043866420672698456 | Test Loss: 0.03691883024848288\n"
     ]
    },
    {
     "name": "stderr",
     "output_type": "stream",
     "text": [
      "\n",
      "100%|██████████| 11/11 [00:00<00:00, 93.84it/s]\n",
      "100%|██████████| 21/21 [00:00<00:00, 501.74it/s]"
     ]
    },
    {
     "name": "stdout",
     "output_type": "stream",
     "text": [
      "Epoch 6/30 | Train Loss: 0.037499883296814834 | Test Loss: 0.051027111819989625\n"
     ]
    },
    {
     "name": "stderr",
     "output_type": "stream",
     "text": [
      "\n",
      "100%|██████████| 11/11 [00:00<00:00, 126.61it/s]\n",
      "100%|██████████| 21/21 [00:00<00:00, 453.62it/s]"
     ]
    },
    {
     "name": "stdout",
     "output_type": "stream",
     "text": [
      "Epoch 7/30 | Train Loss: 0.035096879794516346 | Test Loss: 0.06590550953877114\n"
     ]
    },
    {
     "name": "stderr",
     "output_type": "stream",
     "text": [
      "\n",
      "100%|██████████| 11/11 [00:00<00:00, 171.59it/s]\n",
      "100%|██████████| 21/21 [00:00<00:00, 450.83it/s]"
     ]
    },
    {
     "name": "stdout",
     "output_type": "stream",
     "text": [
      "Epoch 8/30 | Train Loss: 0.03771314397454262 | Test Loss: 0.07384676193552357\n"
     ]
    },
    {
     "name": "stderr",
     "output_type": "stream",
     "text": [
      "\n",
      "100%|██████████| 11/11 [00:00<00:00, 87.42it/s]\n",
      "100%|██████████| 21/21 [00:00<00:00, 384.16it/s]"
     ]
    },
    {
     "name": "stdout",
     "output_type": "stream",
     "text": [
      "Epoch 9/30 | Train Loss: 0.03343801691450856 | Test Loss: 0.0862244127118694\n"
     ]
    },
    {
     "name": "stderr",
     "output_type": "stream",
     "text": [
      "\n",
      "100%|██████████| 11/11 [00:00<00:00, 116.06it/s]\n",
      "100%|██████████| 21/21 [00:00<00:00, 358.24it/s]"
     ]
    },
    {
     "name": "stdout",
     "output_type": "stream",
     "text": [
      "Epoch 10/30 | Train Loss: 0.03001061708412387 | Test Loss: 0.12252126974497168\n"
     ]
    },
    {
     "name": "stderr",
     "output_type": "stream",
     "text": [
      "\n",
      "100%|██████████| 11/11 [00:00<00:00, 127.82it/s]\n",
      "100%|██████████| 21/21 [00:00<00:00, 326.88it/s]"
     ]
    },
    {
     "name": "stdout",
     "output_type": "stream",
     "text": [
      "Epoch 11/30 | Train Loss: 0.030665039338848808 | Test Loss: 0.1497777592213381\n"
     ]
    },
    {
     "name": "stderr",
     "output_type": "stream",
     "text": [
      "\n",
      "100%|██████████| 11/11 [00:00<00:00, 171.16it/s]\n",
      "100%|██████████| 21/21 [00:00<00:00, 505.90it/s]"
     ]
    },
    {
     "name": "stdout",
     "output_type": "stream",
     "text": [
      "Epoch 12/30 | Train Loss: 0.02465054282749241 | Test Loss: 0.2239645147873532\n"
     ]
    },
    {
     "name": "stderr",
     "output_type": "stream",
     "text": [
      "\n",
      "100%|██████████| 11/11 [00:00<00:00, 159.10it/s]\n",
      "100%|██████████| 21/21 [00:00<00:00, 506.05it/s]"
     ]
    },
    {
     "name": "stdout",
     "output_type": "stream",
     "text": [
      "Epoch 13/30 | Train Loss: 0.022688190706751564 | Test Loss: 0.3121820909991151\n"
     ]
    },
    {
     "name": "stderr",
     "output_type": "stream",
     "text": [
      "\n",
      "100%|██████████| 11/11 [00:00<00:00, 150.68it/s]\n",
      "100%|██████████| 21/21 [00:00<00:00, 334.76it/s]"
     ]
    },
    {
     "name": "stdout",
     "output_type": "stream",
     "text": [
      "Epoch 14/30 | Train Loss: 0.021127682433209637 | Test Loss: 0.3708502246244323\n"
     ]
    },
    {
     "name": "stderr",
     "output_type": "stream",
     "text": [
      "\n",
      "100%|██████████| 11/11 [00:00<00:00, 128.98it/s]\n",
      "100%|██████████| 21/21 [00:00<00:00, 470.15it/s]"
     ]
    },
    {
     "name": "stdout",
     "output_type": "stream",
     "text": [
      "Epoch 15/30 | Train Loss: 0.01788475108332932 | Test Loss: 0.45567064619223985\n"
     ]
    },
    {
     "name": "stderr",
     "output_type": "stream",
     "text": [
      "\n",
      "100%|██████████| 11/11 [00:00<00:00, 154.74it/s]\n",
      "100%|██████████| 21/21 [00:00<00:00, 430.27it/s]"
     ]
    },
    {
     "name": "stdout",
     "output_type": "stream",
     "text": [
      "Epoch 16/30 | Train Loss: 0.018789169886572796 | Test Loss: 0.5657719829607577\n"
     ]
    },
    {
     "name": "stderr",
     "output_type": "stream",
     "text": [
      "\n",
      "100%|██████████| 11/11 [00:00<00:00, 211.05it/s]\n",
      "100%|██████████| 21/21 [00:00<00:00, 498.65it/s]"
     ]
    },
    {
     "name": "stdout",
     "output_type": "stream",
     "text": [
      "Epoch 17/30 | Train Loss: 0.015144221526993946 | Test Loss: 0.7291372438360538\n"
     ]
    },
    {
     "name": "stderr",
     "output_type": "stream",
     "text": [
      "\n",
      "100%|██████████| 11/11 [00:00<00:00, 185.19it/s]\n",
      "100%|██████████| 21/21 [00:00<00:00, 497.78it/s]"
     ]
    },
    {
     "name": "stdout",
     "output_type": "stream",
     "text": [
      "Epoch 18/30 | Train Loss: 0.013719148193062707 | Test Loss: 0.8158500318282417\n"
     ]
    },
    {
     "name": "stderr",
     "output_type": "stream",
     "text": [
      "\n",
      "100%|██████████| 11/11 [00:00<00:00, 129.90it/s]\n",
      "100%|██████████| 21/21 [00:00<00:00, 301.70it/s]"
     ]
    },
    {
     "name": "stdout",
     "output_type": "stream",
     "text": [
      "Epoch 19/30 | Train Loss: 0.015271043997596611 | Test Loss: 0.9264696193415494\n"
     ]
    },
    {
     "name": "stderr",
     "output_type": "stream",
     "text": [
      "\n",
      "100%|██████████| 11/11 [00:00<00:00, 112.31it/s]\n",
      "100%|██████████| 21/21 [00:00<00:00, 314.87it/s]"
     ]
    },
    {
     "name": "stdout",
     "output_type": "stream",
     "text": [
      "Epoch 20/30 | Train Loss: 0.011790468188172037 | Test Loss: 1.0757692259337222\n"
     ]
    },
    {
     "name": "stderr",
     "output_type": "stream",
     "text": [
      "\n",
      "100%|██████████| 11/11 [00:00<00:00, 109.28it/s]\n",
      "100%|██████████| 21/21 [00:00<00:00, 291.40it/s]"
     ]
    },
    {
     "name": "stdout",
     "output_type": "stream",
     "text": [
      "Epoch 21/30 | Train Loss: 0.011023204011673277 | Test Loss: 1.1106774634016412\n"
     ]
    },
    {
     "name": "stderr",
     "output_type": "stream",
     "text": [
      "\n",
      "100%|██████████| 11/11 [00:00<00:00, 88.47it/s]\n",
      "100%|██████████| 21/21 [00:00<00:00, 284.03it/s]"
     ]
    },
    {
     "name": "stdout",
     "output_type": "stream",
     "text": [
      "Epoch 22/30 | Train Loss: 0.010027289369397542 | Test Loss: 1.202932574741897\n"
     ]
    },
    {
     "name": "stderr",
     "output_type": "stream",
     "text": [
      "\n",
      "100%|██████████| 11/11 [00:00<00:00, 93.22it/s]\n",
      "100%|██████████| 21/21 [00:00<00:00, 421.59it/s]"
     ]
    },
    {
     "name": "stdout",
     "output_type": "stream",
     "text": [
      "Epoch 23/30 | Train Loss: 0.009536802430044521 | Test Loss: 1.2337902607839732\n"
     ]
    },
    {
     "name": "stderr",
     "output_type": "stream",
     "text": [
      "\n",
      "100%|██████████| 11/11 [00:00<00:00, 107.44it/s]\n",
      "100%|██████████| 21/21 [00:00<00:00, 447.39it/s]"
     ]
    },
    {
     "name": "stdout",
     "output_type": "stream",
     "text": [
      "Epoch 24/30 | Train Loss: 0.00954465407200835 | Test Loss: 1.342801306219328\n"
     ]
    },
    {
     "name": "stderr",
     "output_type": "stream",
     "text": [
      "\n",
      "100%|██████████| 11/11 [00:00<00:00, 121.25it/s]\n",
      "100%|██████████| 21/21 [00:00<00:00, 370.35it/s]"
     ]
    },
    {
     "name": "stdout",
     "output_type": "stream",
     "text": [
      "Epoch 25/30 | Train Loss: 0.00836703312498602 | Test Loss: 1.3816887299042373\n"
     ]
    },
    {
     "name": "stderr",
     "output_type": "stream",
     "text": [
      "\n",
      "100%|██████████| 11/11 [00:00<00:00, 153.81it/s]\n",
      "100%|██████████| 21/21 [00:00<00:00, 538.49it/s]"
     ]
    },
    {
     "name": "stdout",
     "output_type": "stream",
     "text": [
      "Epoch 26/30 | Train Loss: 0.008143521295013752 | Test Loss: 1.384901576631126\n"
     ]
    },
    {
     "name": "stderr",
     "output_type": "stream",
     "text": [
      "\n",
      "100%|██████████| 11/11 [00:00<00:00, 180.37it/s]\n",
      "100%|██████████| 21/21 [00:00<00:00, 426.54it/s]"
     ]
    },
    {
     "name": "stdout",
     "output_type": "stream",
     "text": [
      "Epoch 27/30 | Train Loss: 0.007540492848916488 | Test Loss: 1.5481595707436402\n"
     ]
    },
    {
     "name": "stderr",
     "output_type": "stream",
     "text": [
      "\n",
      "100%|██████████| 11/11 [00:00<00:00, 136.84it/s]\n",
      "100%|██████████| 21/21 [00:00<00:00, 453.30it/s]"
     ]
    },
    {
     "name": "stdout",
     "output_type": "stream",
     "text": [
      "Epoch 28/30 | Train Loss: 0.007215199505232952 | Test Loss: 1.5192512664056959\n"
     ]
    },
    {
     "name": "stderr",
     "output_type": "stream",
     "text": [
      "\n",
      "100%|██████████| 11/11 [00:00<00:00, 128.03it/s]\n",
      "100%|██████████| 21/21 [00:00<00:00, 226.93it/s]"
     ]
    },
    {
     "name": "stdout",
     "output_type": "stream",
     "text": [
      "Epoch 29/30 | Train Loss: 0.0073873558589680624 | Test Loss: 1.548159060556264\n"
     ]
    },
    {
     "name": "stderr",
     "output_type": "stream",
     "text": [
      "\n",
      "100%|██████████| 11/11 [00:00<00:00, 68.12it/s]\n",
      "100%|██████████| 21/21 [00:00<00:00, 204.21it/s]"
     ]
    },
    {
     "name": "stdout",
     "output_type": "stream",
     "text": [
      "Epoch 30/30 | Train Loss: 0.008940455376763235 | Test Loss: 1.6550090660651524\n"
     ]
    },
    {
     "name": "stderr",
     "output_type": "stream",
     "text": [
      "\n"
     ]
    }
   ],
   "source": [
    "import sys\n",
    "NUM_EPOCHS = 30\n",
    "\n",
    "cnn_train_losses = []\n",
    "cnn_test_losses = []\n",
    "for epoch in range(NUM_EPOCHS):\n",
    "    train_loss = train_model(model, train_loader, loss_fn, optimizer)\n",
    "    test_loss = test_model(model, test_loader, loss_fn)\n",
    "    cnn_train_losses.append(train_loss)\n",
    "    cnn_test_losses.append(test_loss)\n",
    "    print(f\"Epoch {epoch+1}/{NUM_EPOCHS} | Train Loss: {train_loss} | Test Loss: {test_loss}\")\n",
    "    sys.stdout.flush()"
   ]
  },
  {
   "cell_type": "code",
   "execution_count": 12,
   "metadata": {},
   "outputs": [
    {
     "data": {
      "text/plain": [
       "<Figure size 640x480 with 1 Axes>"
      ]
     },
     "metadata": {},
     "output_type": "display_data"
    }
   ],
   "source": [
    "# plot the loss\n",
    "import matplotlib.pyplot as plt\n",
    "\n",
    "plt.plot(cnn_train_losses, label='Train Loss')\n",
    "plt.plot(cnn_test_losses, label='Test Loss')\n",
    "plt.xlabel('Epoch')\n",
    "plt.ylabel('Loss')\n",
    "plt.legend()\n",
    "plt.show();"
   ]
  },
  {
   "cell_type": "code",
   "execution_count": 13,
   "metadata": {},
   "outputs": [],
   "source": [
    "# save the model\n",
    "torch.save(model.state_dict(), 'cnn_model.pth')"
   ]
  },
  {
   "cell_type": "code",
   "execution_count": 14,
   "metadata": {},
   "outputs": [],
   "source": [
    "import torch\n",
    "import torch.nn as nn\n",
    "from torch.utils.data import DataLoader\n",
    "\n",
    "class TransformerModel(nn.Module):\n",
    "    def __init__(self, num_lidar_features, num_non_lidar_features, num_actions, d_model=64, nhead=8, num_encoder_layers=3, num_decoder_layers=3):\n",
    "        super(TransformerModel, self).__init__()\n",
    "\n",
    "        self.d_model = d_model\n",
    "        self.num_patches = 20  # Number of patches\n",
    "        self.patch_size = num_lidar_features // self.num_patches\n",
    "\n",
    "        # Positional Encoding for the Encoder\n",
    "        self.positional_encoding = nn.Parameter(torch.zeros(self.num_patches, d_model))\n",
    "\n",
    "        # Input Embedding for Encoder (LiDAR data)\n",
    "        self.lidar_embedding = nn.Linear(self.patch_size, d_model)\n",
    "\n",
    "        # Transformer Encoder\n",
    "        encoder_layer = nn.TransformerEncoderLayer(d_model=d_model, nhead=nhead)\n",
    "        self.transformer_encoder = nn.TransformerEncoder(encoder_layer, num_layers=num_encoder_layers)\n",
    "\n",
    "        # Input Embedding for Decoder (Non-LiDAR data)\n",
    "        self.non_lidar_embedding = nn.Linear(num_non_lidar_features, d_model)\n",
    "\n",
    "        # Transformer Decoder\n",
    "        decoder_layer = nn.TransformerDecoderLayer(d_model=d_model, nhead=nhead)\n",
    "        self.transformer_decoder = nn.TransformerDecoder(decoder_layer, num_layers=num_decoder_layers)\n",
    "\n",
    "        # Linear layer to map the transformer output to actions\n",
    "        self.fc_out = nn.Linear(d_model, num_actions)\n",
    "\n",
    "    def forward(self, lidar, non_lidar):\n",
    "        batch_size = lidar.size(0)\n",
    "        \n",
    "        # Divide LiDAR input into patches\n",
    "        lidar_patches = lidar.view(batch_size, self.num_patches, self.patch_size)\n",
    "\n",
    "        # Embed each patch and add positional encoding\n",
    "        lidar_embed = self.lidar_embedding(lidar_patches) + self.positional_encoding.unsqueeze(0)\n",
    "        lidar_embed = lidar_embed.permute(1, 0, 2)  # Convert to (seq_len, batch_size, d_model)\n",
    "\n",
    "        # Process through the transformer encoder\n",
    "        memory = self.transformer_encoder(lidar_embed)\n",
    "\n",
    "        # Process non-lidar data through input embedding\n",
    "        non_lidar_embed = self.non_lidar_embedding(non_lidar).unsqueeze(0)  # Convert to (1, batch_size, d_model)\n",
    "\n",
    "        # Process through the transformer decoder\n",
    "        output = self.transformer_decoder(non_lidar_embed, memory)\n",
    "\n",
    "        # Final linear layer to get the actions\n",
    "        actions = self.fc_out(output.squeeze(0))\n",
    "        return actions"
   ]
  },
  {
   "cell_type": "code",
   "execution_count": 15,
   "metadata": {},
   "outputs": [
    {
     "name": "stdout",
     "output_type": "stream",
     "text": [
      "cpu\n"
     ]
    }
   ],
   "source": [
    "# Initialize the model\n",
    "num_lidar_features = train_dataset.lidar_data.shape[1]\n",
    "num_non_lidar_features = train_dataset.non_lidar_data.shape[1]\n",
    "num_actions = train_dataset.actions_data.shape[1]\n",
    "model = TransformerModel(num_lidar_features, num_non_lidar_features, num_actions)\n",
    "\n",
    "# Define the loss function and optimizer\n",
    "loss_fn = nn.MSELoss()\n",
    "optimizer = optim.Adam(model.parameters(), lr=1e-4)\n",
    "\n",
    "# Move the model and loss function to the GPU if available\n",
    "device = torch.device('cuda' if torch.cuda.is_available() else 'cpu')\n",
    "model = model.to(device)\n",
    "loss_fn = loss_fn.to(device)\n",
    "print(device)"
   ]
  },
  {
   "cell_type": "code",
   "execution_count": 16,
   "metadata": {},
   "outputs": [
    {
     "name": "stderr",
     "output_type": "stream",
     "text": [
      "100%|██████████| 11/11 [00:00<00:00, 17.82it/s]\n",
      "100%|██████████| 21/21 [00:00<00:00, 103.15it/s]"
     ]
    },
    {
     "name": "stdout",
     "output_type": "stream",
     "text": [
      "Epoch 1/30 | Train Loss: 0.4105431613597003 | Test Loss: 0.03191988170146942\n"
     ]
    },
    {
     "name": "stderr",
     "output_type": "stream",
     "text": [
      "\n",
      "100%|██████████| 11/11 [00:00<00:00, 15.36it/s]\n",
      "100%|██████████| 21/21 [00:00<00:00, 77.58it/s]"
     ]
    },
    {
     "name": "stdout",
     "output_type": "stream",
     "text": [
      "Epoch 2/30 | Train Loss: 0.09570641747929833 | Test Loss: 0.0373991612522375\n"
     ]
    },
    {
     "name": "stderr",
     "output_type": "stream",
     "text": [
      "\n",
      "100%|██████████| 11/11 [00:00<00:00, 26.71it/s]\n",
      "100%|██████████| 21/21 [00:00<00:00, 101.22it/s]"
     ]
    },
    {
     "name": "stdout",
     "output_type": "stream",
     "text": [
      "Epoch 3/30 | Train Loss: 0.06136417930776423 | Test Loss: 0.01526665253221013\n"
     ]
    },
    {
     "name": "stderr",
     "output_type": "stream",
     "text": [
      "\n",
      "100%|██████████| 11/11 [00:00<00:00, 27.41it/s]\n",
      "100%|██████████| 21/21 [00:00<00:00, 100.92it/s]"
     ]
    },
    {
     "name": "stdout",
     "output_type": "stream",
     "text": [
      "Epoch 4/30 | Train Loss: 0.051497817378152504 | Test Loss: 0.027957573643929902\n"
     ]
    },
    {
     "name": "stderr",
     "output_type": "stream",
     "text": [
      "\n",
      "100%|██████████| 11/11 [00:00<00:00, 26.09it/s]\n",
      "100%|██████████| 21/21 [00:00<00:00, 101.41it/s]"
     ]
    },
    {
     "name": "stdout",
     "output_type": "stream",
     "text": [
      "Epoch 5/30 | Train Loss: 0.05313330177556385 | Test Loss: 0.01614648725704423\n"
     ]
    },
    {
     "name": "stderr",
     "output_type": "stream",
     "text": [
      "\n",
      "100%|██████████| 11/11 [00:00<00:00, 26.00it/s]\n",
      "100%|██████████| 21/21 [00:00<00:00, 100.26it/s]"
     ]
    },
    {
     "name": "stdout",
     "output_type": "stream",
     "text": [
      "Epoch 6/30 | Train Loss: 0.05038977211171931 | Test Loss: 0.026840641163289547\n"
     ]
    },
    {
     "name": "stderr",
     "output_type": "stream",
     "text": [
      "\n",
      "100%|██████████| 11/11 [00:00<00:00, 27.19it/s]\n",
      "100%|██████████| 21/21 [00:00<00:00, 101.32it/s]"
     ]
    },
    {
     "name": "stdout",
     "output_type": "stream",
     "text": [
      "Epoch 7/30 | Train Loss: 0.05250313200733878 | Test Loss: 0.018213467788882554\n"
     ]
    },
    {
     "name": "stderr",
     "output_type": "stream",
     "text": [
      "\n",
      "100%|██████████| 11/11 [00:00<00:00, 26.10it/s]\n",
      "100%|██████████| 21/21 [00:00<00:00, 109.77it/s]"
     ]
    },
    {
     "name": "stdout",
     "output_type": "stream",
     "text": [
      "Epoch 8/30 | Train Loss: 0.044820570132949135 | Test Loss: 0.020925568084099462\n"
     ]
    },
    {
     "name": "stderr",
     "output_type": "stream",
     "text": [
      "\n",
      "100%|██████████| 11/11 [00:00<00:00, 26.33it/s]\n",
      "100%|██████████| 21/21 [00:00<00:00, 103.93it/s]"
     ]
    },
    {
     "name": "stdout",
     "output_type": "stream",
     "text": [
      "Epoch 9/30 | Train Loss: 0.042586587708104744 | Test Loss: 0.03154175246267447\n"
     ]
    },
    {
     "name": "stderr",
     "output_type": "stream",
     "text": [
      "\n",
      "100%|██████████| 11/11 [00:00<00:00, 26.07it/s]\n",
      "100%|██████████| 21/21 [00:00<00:00, 104.41it/s]"
     ]
    },
    {
     "name": "stdout",
     "output_type": "stream",
     "text": [
      "Epoch 10/30 | Train Loss: 0.04354833388193087 | Test Loss: 0.030297277827880213\n"
     ]
    },
    {
     "name": "stderr",
     "output_type": "stream",
     "text": [
      "\n",
      "100%|██████████| 11/11 [00:00<00:00, 26.25it/s]\n",
      "100%|██████████| 21/21 [00:00<00:00, 109.42it/s]"
     ]
    },
    {
     "name": "stdout",
     "output_type": "stream",
     "text": [
      "Epoch 11/30 | Train Loss: 0.038432441651821136 | Test Loss: 0.020731469621837494\n"
     ]
    },
    {
     "name": "stderr",
     "output_type": "stream",
     "text": [
      "\n",
      "100%|██████████| 11/11 [00:00<00:00, 26.35it/s]\n",
      "100%|██████████| 21/21 [00:00<00:00, 100.69it/s]"
     ]
    },
    {
     "name": "stdout",
     "output_type": "stream",
     "text": [
      "Epoch 12/30 | Train Loss: 0.027527313594791023 | Test Loss: 0.040094316560065464\n"
     ]
    },
    {
     "name": "stderr",
     "output_type": "stream",
     "text": [
      "\n",
      "100%|██████████| 11/11 [00:00<00:00, 27.43it/s]\n",
      "100%|██████████| 21/21 [00:00<00:00, 101.37it/s]"
     ]
    },
    {
     "name": "stdout",
     "output_type": "stream",
     "text": [
      "Epoch 13/30 | Train Loss: 0.02859997224401344 | Test Loss: 0.032210911540979784\n"
     ]
    },
    {
     "name": "stderr",
     "output_type": "stream",
     "text": [
      "\n",
      "100%|██████████| 11/11 [00:00<00:00, 23.21it/s]\n",
      "100%|██████████| 21/21 [00:00<00:00, 103.01it/s]"
     ]
    },
    {
     "name": "stdout",
     "output_type": "stream",
     "text": [
      "Epoch 14/30 | Train Loss: 0.02656585215167566 | Test Loss: 0.07166731428532373\n"
     ]
    },
    {
     "name": "stderr",
     "output_type": "stream",
     "text": [
      "\n",
      "100%|██████████| 11/11 [00:00<00:00, 26.28it/s]\n",
      "100%|██████████| 21/21 [00:00<00:00, 96.80it/s] "
     ]
    },
    {
     "name": "stdout",
     "output_type": "stream",
     "text": [
      "Epoch 15/30 | Train Loss: 0.022140538827939468 | Test Loss: 0.07831655813026286\n"
     ]
    },
    {
     "name": "stderr",
     "output_type": "stream",
     "text": [
      "\n",
      "100%|██████████| 11/11 [00:00<00:00, 26.54it/s]\n",
      "100%|██████████| 21/21 [00:00<00:00, 105.97it/s]"
     ]
    },
    {
     "name": "stdout",
     "output_type": "stream",
     "text": [
      "Epoch 16/30 | Train Loss: 0.02418196015059948 | Test Loss: 0.06605017726265248\n"
     ]
    },
    {
     "name": "stderr",
     "output_type": "stream",
     "text": [
      "\n",
      "100%|██████████| 11/11 [00:00<00:00, 29.48it/s]\n",
      "100%|██████████| 21/21 [00:00<00:00, 108.13it/s]"
     ]
    },
    {
     "name": "stdout",
     "output_type": "stream",
     "text": [
      "Epoch 17/30 | Train Loss: 0.018540841273286125 | Test Loss: 0.0628840691531964\n"
     ]
    },
    {
     "name": "stderr",
     "output_type": "stream",
     "text": [
      "\n",
      "100%|██████████| 11/11 [00:00<00:00, 28.54it/s]\n",
      "100%|██████████| 21/21 [00:00<00:00, 105.92it/s]"
     ]
    },
    {
     "name": "stdout",
     "output_type": "stream",
     "text": [
      "Epoch 18/30 | Train Loss: 0.019307792271402748 | Test Loss: 0.06744930732418739\n"
     ]
    },
    {
     "name": "stderr",
     "output_type": "stream",
     "text": [
      "\n",
      "100%|██████████| 11/11 [00:00<00:00, 28.10it/s]\n",
      "100%|██████████| 21/21 [00:00<00:00, 110.06it/s]"
     ]
    },
    {
     "name": "stdout",
     "output_type": "stream",
     "text": [
      "Epoch 19/30 | Train Loss: 0.018630870363929054 | Test Loss: 0.050876345862412735\n"
     ]
    },
    {
     "name": "stderr",
     "output_type": "stream",
     "text": [
      "\n",
      "100%|██████████| 11/11 [00:00<00:00, 28.09it/s]\n",
      "100%|██████████| 21/21 [00:00<00:00, 105.18it/s]"
     ]
    },
    {
     "name": "stdout",
     "output_type": "stream",
     "text": [
      "Epoch 20/30 | Train Loss: 0.01783821077763357 | Test Loss: 0.047806817949527784\n"
     ]
    },
    {
     "name": "stderr",
     "output_type": "stream",
     "text": [
      "\n",
      "100%|██████████| 11/11 [00:00<00:00, 29.79it/s]\n",
      "100%|██████████| 21/21 [00:00<00:00, 105.55it/s]"
     ]
    },
    {
     "name": "stdout",
     "output_type": "stream",
     "text": [
      "Epoch 21/30 | Train Loss: 0.018812558275054802 | Test Loss: 0.05210507621190378\n"
     ]
    },
    {
     "name": "stderr",
     "output_type": "stream",
     "text": [
      "\n",
      "100%|██████████| 11/11 [00:00<00:00, 28.21it/s]\n",
      "100%|██████████| 21/21 [00:00<00:00, 107.25it/s]"
     ]
    },
    {
     "name": "stdout",
     "output_type": "stream",
     "text": [
      "Epoch 22/30 | Train Loss: 0.019221695224669846 | Test Loss: 0.05367432307684794\n"
     ]
    },
    {
     "name": "stderr",
     "output_type": "stream",
     "text": [
      "\n",
      "100%|██████████| 11/11 [00:00<00:00, 27.78it/s]\n",
      "100%|██████████| 21/21 [00:00<00:00, 103.24it/s]"
     ]
    },
    {
     "name": "stdout",
     "output_type": "stream",
     "text": [
      "Epoch 23/30 | Train Loss: 0.01606017080220309 | Test Loss: 0.0736311063547397\n"
     ]
    },
    {
     "name": "stderr",
     "output_type": "stream",
     "text": [
      "\n",
      "100%|██████████| 11/11 [00:00<00:00, 27.79it/s]\n",
      "100%|██████████| 21/21 [00:00<00:00, 105.88it/s]"
     ]
    },
    {
     "name": "stdout",
     "output_type": "stream",
     "text": [
      "Epoch 24/30 | Train Loss: 0.01557735400274396 | Test Loss: 0.08941901855481167\n"
     ]
    },
    {
     "name": "stderr",
     "output_type": "stream",
     "text": [
      "\n",
      "100%|██████████| 11/11 [00:00<00:00, 27.01it/s]\n",
      "100%|██████████| 21/21 [00:00<00:00, 107.61it/s]"
     ]
    },
    {
     "name": "stdout",
     "output_type": "stream",
     "text": [
      "Epoch 25/30 | Train Loss: 0.01645723544061184 | Test Loss: 0.09440728066311706\n"
     ]
    },
    {
     "name": "stderr",
     "output_type": "stream",
     "text": [
      "\n",
      "100%|██████████| 11/11 [00:00<00:00, 28.58it/s]\n",
      "100%|██████████| 21/21 [00:00<00:00, 117.21it/s]"
     ]
    },
    {
     "name": "stdout",
     "output_type": "stream",
     "text": [
      "Epoch 26/30 | Train Loss: 0.01502262432636185 | Test Loss: 0.047578471357978526\n"
     ]
    },
    {
     "name": "stderr",
     "output_type": "stream",
     "text": [
      "\n",
      "100%|██████████| 11/11 [00:00<00:00, 26.56it/s]\n",
      "100%|██████████| 21/21 [00:00<00:00, 96.57it/s]"
     ]
    },
    {
     "name": "stdout",
     "output_type": "stream",
     "text": [
      "Epoch 27/30 | Train Loss: 0.015328390357105738 | Test Loss: 0.0470898087812765\n"
     ]
    },
    {
     "name": "stderr",
     "output_type": "stream",
     "text": [
      "\n",
      "100%|██████████| 11/11 [00:00<00:00, 28.96it/s]\n",
      "100%|██████████| 21/21 [00:00<00:00, 106.40it/s]"
     ]
    },
    {
     "name": "stdout",
     "output_type": "stream",
     "text": [
      "Epoch 28/30 | Train Loss: 0.016799425706267357 | Test Loss: 0.07262100104153865\n"
     ]
    },
    {
     "name": "stderr",
     "output_type": "stream",
     "text": [
      "\n",
      "100%|██████████| 11/11 [00:00<00:00, 26.32it/s]\n",
      "100%|██████████| 21/21 [00:00<00:00, 107.73it/s]"
     ]
    },
    {
     "name": "stdout",
     "output_type": "stream",
     "text": [
      "Epoch 29/30 | Train Loss: 0.01526627494868907 | Test Loss: 0.06299568994325541\n"
     ]
    },
    {
     "name": "stderr",
     "output_type": "stream",
     "text": [
      "\n",
      "100%|██████████| 11/11 [00:00<00:00, 26.95it/s]\n",
      "100%|██████████| 21/21 [00:00<00:00, 95.18it/s]"
     ]
    },
    {
     "name": "stdout",
     "output_type": "stream",
     "text": [
      "Epoch 30/30 | Train Loss: 0.01511001523414796 | Test Loss: 0.08122097452481587\n"
     ]
    },
    {
     "name": "stderr",
     "output_type": "stream",
     "text": [
      "\n"
     ]
    }
   ],
   "source": [
    "import sys\n",
    "NUM_EPOCHS = 30\n",
    "\n",
    "transformer_train_losses = []\n",
    "transformer_test_losses = []\n",
    "for epoch in range(NUM_EPOCHS):\n",
    "    train_loss = train_model(model, train_loader, loss_fn, optimizer)\n",
    "    test_loss = test_model(model, test_loader, loss_fn)\n",
    "    transformer_train_losses.append(train_loss)\n",
    "    transformer_test_losses.append(test_loss)\n",
    "    print(f\"Epoch {epoch+1}/{NUM_EPOCHS} | Train Loss: {train_loss} | Test Loss: {test_loss}\")\n",
    "    sys.stdout.flush()"
   ]
  },
  {
   "cell_type": "code",
   "execution_count": 17,
   "metadata": {},
   "outputs": [
    {
     "data": {
      "image/png": "[encoded data removed]",
      "text/plain": [
       "<Figure size 432x288 with 1 Axes>"
      ]
     },
     "metadata": {
      "needs_background": "light"
     },
     "output_type": "display_data"
    }
   ],
   "source": [
    "# plot the loss\n",
    "import matplotlib.pyplot as plt\n",
    "\n",
    "plt.plot(transformer_train_losses, label='Transformer Train Loss')\n",
    "plt.plot(transformer_test_losses, label='Transformer Test Loss')\n",
    "plt.xlabel('Epoch')\n",
    "plt.ylabel('Loss')\n",
    "plt.legend()\n",
    "plt.show();"
   ]
  },
  {
   "cell_type": "code",
   "execution_count": 18,
   "metadata": {},
   "outputs": [],
   "source": [
    "# save the model\n",
    "torch.save(model.state_dict(), 'transformer_model.pth')"
   ]
  },
  {
   "cell_type": "code",
   "execution_count": null,
   "metadata": {},
   "outputs": [],
   "source": []
  },
  {
   "cell_type": "code",
   "execution_count": null,
   "metadata": {},
   "outputs": [],
   "source": []
  }
 ],
 "metadata": {
  "kernelspec": {
   "display_name": "mimic_data_extraction",
   "language": "python",
   "name": "python3"
  },
  "language_info": {
   "codemirror_mode": {
    "name": "ipython",
    "version": 3
   },
   "file_extension": ".py",
   "mimetype": "text/x-python",
   "name": "python",
   "nbconvert_exporter": "python",
   "pygments_lexer": "ipython3",
   "version": "3.6.8"
  }
 },
 "nbformat": 4,
 "nbformat_minor": 2
}
