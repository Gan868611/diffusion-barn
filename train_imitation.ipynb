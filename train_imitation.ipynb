{
 "cells": [
  {
   "cell_type": "code",
   "execution_count": 2,
   "metadata": {},
   "outputs": [
    {
     "data": {
      "text/html": [
       "<div>\n",
       "<style scoped>\n",
       "    .dataframe tbody tr th:only-of-type {\n",
       "        vertical-align: middle;\n",
       "    }\n",
       "\n",
       "    .dataframe tbody tr th {\n",
       "        vertical-align: top;\n",
       "    }\n",
       "\n",
       "    .dataframe thead th {\n",
       "        text-align: right;\n",
       "    }\n",
       "</style>\n",
       "<table border=\"1\" class=\"dataframe\">\n",
       "  <thead>\n",
       "    <tr style=\"text-align: right;\">\n",
       "      <th></th>\n",
       "      <th>success</th>\n",
       "      <th>actual_time</th>\n",
       "      <th>optimal_time</th>\n",
       "      <th>goal_x</th>\n",
       "      <th>goal_y</th>\n",
       "      <th>world_idx</th>\n",
       "      <th>lidar_0</th>\n",
       "      <th>lidar_1</th>\n",
       "      <th>lidar_2</th>\n",
       "      <th>lidar_3</th>\n",
       "      <th>...</th>\n",
       "      <th>lidar_718</th>\n",
       "      <th>lidar_719</th>\n",
       "      <th>pos_x</th>\n",
       "      <th>pos_y</th>\n",
       "      <th>pose_heading</th>\n",
       "      <th>twist_linear</th>\n",
       "      <th>twist_angular</th>\n",
       "      <th>cmd_vel_linear</th>\n",
       "      <th>cmd_vel_angular</th>\n",
       "      <th>timestep</th>\n",
       "    </tr>\n",
       "  </thead>\n",
       "  <tbody>\n",
       "    <tr>\n",
       "      <th>0</th>\n",
       "      <td>True</td>\n",
       "      <td>16.639</td>\n",
       "      <td>6.796149</td>\n",
       "      <td>0.0</td>\n",
       "      <td>10.0</td>\n",
       "      <td>0</td>\n",
       "      <td>2.975059</td>\n",
       "      <td>2.950377</td>\n",
       "      <td>2.938696</td>\n",
       "      <td>2.933910</td>\n",
       "      <td>...</td>\n",
       "      <td>2.950528</td>\n",
       "      <td>2.976332</td>\n",
       "      <td>-0.000009</td>\n",
       "      <td>0.000073</td>\n",
       "      <td>1.570909</td>\n",
       "      <td>0.000043</td>\n",
       "      <td>0.008641</td>\n",
       "      <td>0.006</td>\n",
       "      <td>0.000665</td>\n",
       "      <td>0</td>\n",
       "    </tr>\n",
       "    <tr>\n",
       "      <th>1</th>\n",
       "      <td>True</td>\n",
       "      <td>16.639</td>\n",
       "      <td>6.796149</td>\n",
       "      <td>0.0</td>\n",
       "      <td>10.0</td>\n",
       "      <td>0</td>\n",
       "      <td>2.975632</td>\n",
       "      <td>2.949891</td>\n",
       "      <td>2.938163</td>\n",
       "      <td>2.934393</td>\n",
       "      <td>...</td>\n",
       "      <td>2.949972</td>\n",
       "      <td>2.976789</td>\n",
       "      <td>-0.000009</td>\n",
       "      <td>0.000073</td>\n",
       "      <td>1.570903</td>\n",
       "      <td>0.000043</td>\n",
       "      <td>0.003630</td>\n",
       "      <td>0.012</td>\n",
       "      <td>0.001330</td>\n",
       "      <td>1</td>\n",
       "    </tr>\n",
       "    <tr>\n",
       "      <th>2</th>\n",
       "      <td>True</td>\n",
       "      <td>16.639</td>\n",
       "      <td>6.796149</td>\n",
       "      <td>0.0</td>\n",
       "      <td>10.0</td>\n",
       "      <td>0</td>\n",
       "      <td>2.974015</td>\n",
       "      <td>2.950373</td>\n",
       "      <td>2.940136</td>\n",
       "      <td>2.935323</td>\n",
       "      <td>...</td>\n",
       "      <td>2.951352</td>\n",
       "      <td>2.975511</td>\n",
       "      <td>-0.000009</td>\n",
       "      <td>0.000193</td>\n",
       "      <td>1.570919</td>\n",
       "      <td>0.003106</td>\n",
       "      <td>0.004454</td>\n",
       "      <td>0.018</td>\n",
       "      <td>0.001996</td>\n",
       "      <td>2</td>\n",
       "    </tr>\n",
       "    <tr>\n",
       "      <th>3</th>\n",
       "      <td>True</td>\n",
       "      <td>16.639</td>\n",
       "      <td>6.796149</td>\n",
       "      <td>0.0</td>\n",
       "      <td>10.0</td>\n",
       "      <td>0</td>\n",
       "      <td>2.972146</td>\n",
       "      <td>2.951025</td>\n",
       "      <td>2.939157</td>\n",
       "      <td>2.935039</td>\n",
       "      <td>...</td>\n",
       "      <td>2.950131</td>\n",
       "      <td>2.976381</td>\n",
       "      <td>-0.000009</td>\n",
       "      <td>0.000432</td>\n",
       "      <td>1.570933</td>\n",
       "      <td>0.007701</td>\n",
       "      <td>0.001190</td>\n",
       "      <td>0.024</td>\n",
       "      <td>0.002661</td>\n",
       "      <td>3</td>\n",
       "    </tr>\n",
       "    <tr>\n",
       "      <th>4</th>\n",
       "      <td>True</td>\n",
       "      <td>16.639</td>\n",
       "      <td>6.796149</td>\n",
       "      <td>0.0</td>\n",
       "      <td>10.0</td>\n",
       "      <td>0</td>\n",
       "      <td>2.974818</td>\n",
       "      <td>2.951458</td>\n",
       "      <td>2.940485</td>\n",
       "      <td>2.935588</td>\n",
       "      <td>...</td>\n",
       "      <td>2.950873</td>\n",
       "      <td>2.976459</td>\n",
       "      <td>-0.000009</td>\n",
       "      <td>0.000792</td>\n",
       "      <td>1.570969</td>\n",
       "      <td>0.013069</td>\n",
       "      <td>0.005987</td>\n",
       "      <td>0.030</td>\n",
       "      <td>0.003326</td>\n",
       "      <td>4</td>\n",
       "    </tr>\n",
       "  </tbody>\n",
       "</table>\n",
       "<p>5 rows × 734 columns</p>\n",
       "</div>"
      ],
      "text/plain": [
       "   success  actual_time  optimal_time  goal_x  goal_y  world_idx   lidar_0  \\\n",
       "0     True       16.639      6.796149     0.0    10.0          0  2.975059   \n",
       "1     True       16.639      6.796149     0.0    10.0          0  2.975632   \n",
       "2     True       16.639      6.796149     0.0    10.0          0  2.974015   \n",
       "3     True       16.639      6.796149     0.0    10.0          0  2.972146   \n",
       "4     True       16.639      6.796149     0.0    10.0          0  2.974818   \n",
       "\n",
       "    lidar_1   lidar_2   lidar_3  ...  lidar_718  lidar_719     pos_x  \\\n",
       "0  2.950377  2.938696  2.933910  ...   2.950528   2.976332 -0.000009   \n",
       "1  2.949891  2.938163  2.934393  ...   2.949972   2.976789 -0.000009   \n",
       "2  2.950373  2.940136  2.935323  ...   2.951352   2.975511 -0.000009   \n",
       "3  2.951025  2.939157  2.935039  ...   2.950131   2.976381 -0.000009   \n",
       "4  2.951458  2.940485  2.935588  ...   2.950873   2.976459 -0.000009   \n",
       "\n",
       "      pos_y  pose_heading  twist_linear  twist_angular  cmd_vel_linear  \\\n",
       "0  0.000073      1.570909      0.000043       0.008641           0.006   \n",
       "1  0.000073      1.570903      0.000043       0.003630           0.012   \n",
       "2  0.000193      1.570919      0.003106       0.004454           0.018   \n",
       "3  0.000432      1.570933      0.007701       0.001190           0.024   \n",
       "4  0.000792      1.570969      0.013069       0.005987           0.030   \n",
       "\n",
       "   cmd_vel_angular  timestep  \n",
       "0         0.000665         0  \n",
       "1         0.001330         1  \n",
       "2         0.001996         2  \n",
       "3         0.002661         3  \n",
       "4         0.003326         4  \n",
       "\n",
       "[5 rows x 734 columns]"
      ]
     },
     "execution_count": 2,
     "metadata": {},
     "output_type": "execute_result"
    }
   ],
   "source": [
    "import pandas as pd\n",
    "\n",
    "df = pd.read_csv('data_sorted.csv')\n",
    "df.head()"
   ]
  },
  {
   "cell_type": "code",
   "execution_count": 3,
   "metadata": {},
   "outputs": [
    {
     "data": {
      "text/html": [
       "<div>\n",
       "<style scoped>\n",
       "    .dataframe tbody tr th:only-of-type {\n",
       "        vertical-align: middle;\n",
       "    }\n",
       "\n",
       "    .dataframe tbody tr th {\n",
       "        vertical-align: top;\n",
       "    }\n",
       "\n",
       "    .dataframe thead th {\n",
       "        text-align: right;\n",
       "    }\n",
       "</style>\n",
       "<table border=\"1\" class=\"dataframe\">\n",
       "  <thead>\n",
       "    <tr style=\"text-align: right;\">\n",
       "      <th></th>\n",
       "      <th>actual_time</th>\n",
       "      <th>optimal_time</th>\n",
       "      <th>goal_x</th>\n",
       "      <th>goal_y</th>\n",
       "      <th>world_idx</th>\n",
       "      <th>lidar_0</th>\n",
       "      <th>lidar_1</th>\n",
       "      <th>lidar_2</th>\n",
       "      <th>lidar_3</th>\n",
       "      <th>lidar_4</th>\n",
       "      <th>...</th>\n",
       "      <th>lidar_718</th>\n",
       "      <th>lidar_719</th>\n",
       "      <th>pos_x</th>\n",
       "      <th>pos_y</th>\n",
       "      <th>pose_heading</th>\n",
       "      <th>twist_linear</th>\n",
       "      <th>twist_angular</th>\n",
       "      <th>cmd_vel_linear</th>\n",
       "      <th>cmd_vel_angular</th>\n",
       "      <th>timestep</th>\n",
       "    </tr>\n",
       "  </thead>\n",
       "  <tbody>\n",
       "    <tr>\n",
       "      <th>count</th>\n",
       "      <td>202569.000000</td>\n",
       "      <td>202569.000000</td>\n",
       "      <td>202569.0</td>\n",
       "      <td>202569.0</td>\n",
       "      <td>202569.000000</td>\n",
       "      <td>202569.000000</td>\n",
       "      <td>202569.000000</td>\n",
       "      <td>202569.000000</td>\n",
       "      <td>202569.000000</td>\n",
       "      <td>202569.000000</td>\n",
       "      <td>...</td>\n",
       "      <td>202569.000000</td>\n",
       "      <td>202569.000000</td>\n",
       "      <td>202569.000000</td>\n",
       "      <td>202569.000000</td>\n",
       "      <td>202569.000000</td>\n",
       "      <td>202569.000000</td>\n",
       "      <td>202569.000000</td>\n",
       "      <td>202569.000000</td>\n",
       "      <td>202569.000000</td>\n",
       "      <td>202569.000000</td>\n",
       "    </tr>\n",
       "    <tr>\n",
       "      <th>mean</th>\n",
       "      <td>12.902522</td>\n",
       "      <td>5.715869</td>\n",
       "      <td>0.0</td>\n",
       "      <td>10.0</td>\n",
       "      <td>151.958370</td>\n",
       "      <td>4.115800</td>\n",
       "      <td>4.135718</td>\n",
       "      <td>4.152697</td>\n",
       "      <td>4.171695</td>\n",
       "      <td>4.190318</td>\n",
       "      <td>...</td>\n",
       "      <td>4.341831</td>\n",
       "      <td>4.328646</td>\n",
       "      <td>-0.040379</td>\n",
       "      <td>4.130155</td>\n",
       "      <td>1.548915</td>\n",
       "      <td>0.704698</td>\n",
       "      <td>-0.003710</td>\n",
       "      <td>0.705616</td>\n",
       "      <td>-0.002722</td>\n",
       "      <td>343.772685</td>\n",
       "    </tr>\n",
       "    <tr>\n",
       "      <th>std</th>\n",
       "      <td>2.451819</td>\n",
       "      <td>0.375246</td>\n",
       "      <td>0.0</td>\n",
       "      <td>0.0</td>\n",
       "      <td>87.229118</td>\n",
       "      <td>6.490961</td>\n",
       "      <td>6.553439</td>\n",
       "      <td>6.610645</td>\n",
       "      <td>6.670345</td>\n",
       "      <td>6.728279</td>\n",
       "      <td>...</td>\n",
       "      <td>7.042407</td>\n",
       "      <td>6.992671</td>\n",
       "      <td>0.530169</td>\n",
       "      <td>2.789321</td>\n",
       "      <td>0.385390</td>\n",
       "      <td>0.211738</td>\n",
       "      <td>0.259670</td>\n",
       "      <td>0.208302</td>\n",
       "      <td>0.233824</td>\n",
       "      <td>210.896994</td>\n",
       "    </tr>\n",
       "    <tr>\n",
       "      <th>min</th>\n",
       "      <td>11.784000</td>\n",
       "      <td>5.026614</td>\n",
       "      <td>0.0</td>\n",
       "      <td>10.0</td>\n",
       "      <td>0.000000</td>\n",
       "      <td>0.292403</td>\n",
       "      <td>0.291040</td>\n",
       "      <td>0.289275</td>\n",
       "      <td>0.287048</td>\n",
       "      <td>0.286279</td>\n",
       "      <td>...</td>\n",
       "      <td>0.292182</td>\n",
       "      <td>0.293237</td>\n",
       "      <td>-1.714366</td>\n",
       "      <td>-0.000258</td>\n",
       "      <td>-3.141397</td>\n",
       "      <td>-0.337823</td>\n",
       "      <td>-2.126267</td>\n",
       "      <td>-0.300000</td>\n",
       "      <td>-1.570796</td>\n",
       "      <td>0.000000</td>\n",
       "    </tr>\n",
       "    <tr>\n",
       "      <th>25%</th>\n",
       "      <td>11.937000</td>\n",
       "      <td>5.446358</td>\n",
       "      <td>0.0</td>\n",
       "      <td>10.0</td>\n",
       "      <td>76.000000</td>\n",
       "      <td>1.691495</td>\n",
       "      <td>1.684698</td>\n",
       "      <td>1.677570</td>\n",
       "      <td>1.671675</td>\n",
       "      <td>1.666527</td>\n",
       "      <td>...</td>\n",
       "      <td>1.601476</td>\n",
       "      <td>1.608613</td>\n",
       "      <td>-0.308475</td>\n",
       "      <td>1.634119</td>\n",
       "      <td>1.465763</td>\n",
       "      <td>0.799501</td>\n",
       "      <td>-0.062289</td>\n",
       "      <td>0.800000</td>\n",
       "      <td>-0.067353</td>\n",
       "      <td>168.000000</td>\n",
       "    </tr>\n",
       "    <tr>\n",
       "      <th>50%</th>\n",
       "      <td>12.136000</td>\n",
       "      <td>5.617254</td>\n",
       "      <td>0.0</td>\n",
       "      <td>10.0</td>\n",
       "      <td>153.000000</td>\n",
       "      <td>2.879177</td>\n",
       "      <td>2.865790</td>\n",
       "      <td>2.851509</td>\n",
       "      <td>2.837667</td>\n",
       "      <td>2.824436</td>\n",
       "      <td>...</td>\n",
       "      <td>2.823026</td>\n",
       "      <td>2.836414</td>\n",
       "      <td>-0.006654</td>\n",
       "      <td>4.026890</td>\n",
       "      <td>1.578731</td>\n",
       "      <td>0.800233</td>\n",
       "      <td>-0.001211</td>\n",
       "      <td>0.800000</td>\n",
       "      <td>0.000042</td>\n",
       "      <td>337.000000</td>\n",
       "    </tr>\n",
       "    <tr>\n",
       "      <th>75%</th>\n",
       "      <td>12.518000</td>\n",
       "      <td>5.922971</td>\n",
       "      <td>0.0</td>\n",
       "      <td>10.0</td>\n",
       "      <td>228.000000</td>\n",
       "      <td>3.195433</td>\n",
       "      <td>3.179926</td>\n",
       "      <td>3.163331</td>\n",
       "      <td>3.149627</td>\n",
       "      <td>3.134901</td>\n",
       "      <td>...</td>\n",
       "      <td>3.162534</td>\n",
       "      <td>3.180164</td>\n",
       "      <td>0.208518</td>\n",
       "      <td>6.519710</td>\n",
       "      <td>1.678931</td>\n",
       "      <td>0.801077</td>\n",
       "      <td>0.044440</td>\n",
       "      <td>0.800000</td>\n",
       "      <td>0.052444</td>\n",
       "      <td>506.000000</td>\n",
       "    </tr>\n",
       "    <tr>\n",
       "      <th>max</th>\n",
       "      <td>26.686000</td>\n",
       "      <td>6.867653</td>\n",
       "      <td>0.0</td>\n",
       "      <td>10.0</td>\n",
       "      <td>299.000000</td>\n",
       "      <td>30.000000</td>\n",
       "      <td>30.000000</td>\n",
       "      <td>30.000000</td>\n",
       "      <td>30.000000</td>\n",
       "      <td>30.000000</td>\n",
       "      <td>...</td>\n",
       "      <td>30.000000</td>\n",
       "      <td>30.000000</td>\n",
       "      <td>1.653924</td>\n",
       "      <td>9.367064</td>\n",
       "      <td>3.140065</td>\n",
       "      <td>0.811978</td>\n",
       "      <td>2.186863</td>\n",
       "      <td>0.800000</td>\n",
       "      <td>1.570796</td>\n",
       "      <td>1375.000000</td>\n",
       "    </tr>\n",
       "  </tbody>\n",
       "</table>\n",
       "<p>8 rows × 733 columns</p>\n",
       "</div>"
      ],
      "text/plain": [
       "         actual_time   optimal_time    goal_x    goal_y      world_idx  \\\n",
       "count  202569.000000  202569.000000  202569.0  202569.0  202569.000000   \n",
       "mean       12.902522       5.715869       0.0      10.0     151.958370   \n",
       "std         2.451819       0.375246       0.0       0.0      87.229118   \n",
       "min        11.784000       5.026614       0.0      10.0       0.000000   \n",
       "25%        11.937000       5.446358       0.0      10.0      76.000000   \n",
       "50%        12.136000       5.617254       0.0      10.0     153.000000   \n",
       "75%        12.518000       5.922971       0.0      10.0     228.000000   \n",
       "max        26.686000       6.867653       0.0      10.0     299.000000   \n",
       "\n",
       "             lidar_0        lidar_1        lidar_2        lidar_3  \\\n",
       "count  202569.000000  202569.000000  202569.000000  202569.000000   \n",
       "mean        4.115800       4.135718       4.152697       4.171695   \n",
       "std         6.490961       6.553439       6.610645       6.670345   \n",
       "min         0.292403       0.291040       0.289275       0.287048   \n",
       "25%         1.691495       1.684698       1.677570       1.671675   \n",
       "50%         2.879177       2.865790       2.851509       2.837667   \n",
       "75%         3.195433       3.179926       3.163331       3.149627   \n",
       "max        30.000000      30.000000      30.000000      30.000000   \n",
       "\n",
       "             lidar_4  ...      lidar_718      lidar_719          pos_x  \\\n",
       "count  202569.000000  ...  202569.000000  202569.000000  202569.000000   \n",
       "mean        4.190318  ...       4.341831       4.328646      -0.040379   \n",
       "std         6.728279  ...       7.042407       6.992671       0.530169   \n",
       "min         0.286279  ...       0.292182       0.293237      -1.714366   \n",
       "25%         1.666527  ...       1.601476       1.608613      -0.308475   \n",
       "50%         2.824436  ...       2.823026       2.836414      -0.006654   \n",
       "75%         3.134901  ...       3.162534       3.180164       0.208518   \n",
       "max        30.000000  ...      30.000000      30.000000       1.653924   \n",
       "\n",
       "               pos_y   pose_heading   twist_linear  twist_angular  \\\n",
       "count  202569.000000  202569.000000  202569.000000  202569.000000   \n",
       "mean        4.130155       1.548915       0.704698      -0.003710   \n",
       "std         2.789321       0.385390       0.211738       0.259670   \n",
       "min        -0.000258      -3.141397      -0.337823      -2.126267   \n",
       "25%         1.634119       1.465763       0.799501      -0.062289   \n",
       "50%         4.026890       1.578731       0.800233      -0.001211   \n",
       "75%         6.519710       1.678931       0.801077       0.044440   \n",
       "max         9.367064       3.140065       0.811978       2.186863   \n",
       "\n",
       "       cmd_vel_linear  cmd_vel_angular       timestep  \n",
       "count   202569.000000    202569.000000  202569.000000  \n",
       "mean         0.705616        -0.002722     343.772685  \n",
       "std          0.208302         0.233824     210.896994  \n",
       "min         -0.300000        -1.570796       0.000000  \n",
       "25%          0.800000        -0.067353     168.000000  \n",
       "50%          0.800000         0.000042     337.000000  \n",
       "75%          0.800000         0.052444     506.000000  \n",
       "max          0.800000         1.570796    1375.000000  \n",
       "\n",
       "[8 rows x 733 columns]"
      ]
     },
     "execution_count": 3,
     "metadata": {},
     "output_type": "execute_result"
    }
   ],
   "source": [
    "df.describe()"
   ]
  },
  {
   "cell_type": "code",
   "execution_count": 7,
   "metadata": {},
   "outputs": [],
   "source": [
    "# torch Dataset\n",
    "from torch.utils.data import Dataset\n",
    "import numpy as np\n",
    "from sklearn.preprocessing import MinMaxScaler\n",
    "\n",
    "class KULBarnDataset(Dataset):\n",
    "    def get_local_goal(self):\n",
    "        x = self.data['pos_x']\n",
    "        y = self.data['pos_y']\n",
    "        theta = self.data['pose_heading']\n",
    "        goal_x = self.data['goal_x']\n",
    "        goal_y = self.data['goal_y']\n",
    "        self.data['local_x'] = (goal_x - x) * np.cos(theta) + (goal_y - y) * np.sin(theta)\n",
    "        self.data['local_y'] = -(goal_x - x) * np.sin(theta) + (goal_y - y) * np.cos(theta)\n",
    "    \n",
    "    def __init__(self, df, scaler=None):\n",
    "        super().__init__()\n",
    "\n",
    "        self.data = df\n",
    "        self.get_local_goal()   \n",
    "        self.data = self.data.drop(columns=[\n",
    "            'world_idx', 'timestep', 'actual_time', 'optimal_time', \n",
    "            'pos_x', 'pos_y', 'pose_heading', 'goal_x', 'goal_y', 'success'\n",
    "        ])\n",
    "\n",
    "        if scaler is None:\n",
    "            self.scaler = MinMaxScaler()\n",
    "            self.scaler.fit(self.data)\n",
    "        else:\n",
    "            self.scaler = scaler\n",
    "        self.data = pd.DataFrame(self.scaler.transform(self.data), columns=self.data.columns)\n",
    "        \n",
    "        # get all the column values that contain the word lidar\n",
    "        self.lidar_cols = [col for col in self.data.columns if 'lidar' in col]\n",
    "        # get actions columns\n",
    "        self.actions_cols = [col for col in self.data.columns if 'cmd' in col]\n",
    "        # get other columns\n",
    "        self.non_lidar_cols = [col for col in self.data.columns if col not in self.lidar_cols and col not in self.actions_cols]\n",
    "        print(\"Lidar Columns:\", self.lidar_cols)\n",
    "        print(\"Non Lidar Columns:\", self.non_lidar_cols)\n",
    "        print(\"Action Columns:\", self.actions_cols)\n",
    "\n",
    "        self.lidar_data = self.data[self.lidar_cols].values\n",
    "        self.non_lidar_data = self.data[self.non_lidar_cols].values\n",
    "        self.actions_data = self.data[self.actions_cols].values\n",
    "\n",
    "    def __len__(self):\n",
    "        return len(self.data)\n",
    "    \n",
    "    def __getitem__(self, idx):\n",
    "        lidar = self.lidar_data[idx]\n",
    "        non_lidar = self.non_lidar_data[idx]\n",
    "        actions = self.actions_data[idx]\n",
    "        return lidar, non_lidar, actions"
   ]
  },
  {
   "cell_type": "code",
   "execution_count": 8,
   "metadata": {},
   "outputs": [],
   "source": [
    "# split train and test\n",
    "import random\n",
    "\n",
    "NO_WORLDS = 300\n",
    "TRAIN_RATIO = 0.8\n",
    "world_ids = [i for i in range(NO_WORLDS)]\n",
    "# select 0.8 of the world_ids as train_ids randomized\n",
    "train_ids = random.sample(world_ids, int(NO_WORLDS * TRAIN_RATIO))\n",
    "test_ids = [id for id in world_ids if id not in train_ids]\n",
    "\n",
    "train_df = df[df['world_idx'].isin(train_ids)]\n",
    "test_df = df[df['world_idx'].isin(test_ids)]"
   ]
  },
  {
   "cell_type": "code",
   "execution_count": 9,
   "metadata": {},
   "outputs": [
    {
     "name": "stderr",
     "output_type": "stream",
     "text": [
      "/home/jvthunder/anaconda/envs/mimic_data_extraction/lib/python3.6/site-packages/ipykernel_launcher.py:13: SettingWithCopyWarning: \n",
      "A value is trying to be set on a copy of a slice from a DataFrame.\n",
      "Try using .loc[row_indexer,col_indexer] = value instead\n",
      "\n",
      "See the caveats in the documentation: http://pandas.pydata.org/pandas-docs/stable/indexing.html#indexing-view-versus-copy\n",
      "  del sys.path[0]\n",
      "/home/jvthunder/anaconda/envs/mimic_data_extraction/lib/python3.6/site-packages/ipykernel_launcher.py:14: SettingWithCopyWarning: \n",
      "A value is trying to be set on a copy of a slice from a DataFrame.\n",
      "Try using .loc[row_indexer,col_indexer] = value instead\n",
      "\n",
      "See the caveats in the documentation: http://pandas.pydata.org/pandas-docs/stable/indexing.html#indexing-view-versus-copy\n",
      "  \n"
     ]
    },
    {
     "name": "stdout",
     "output_type": "stream",
     "text": [
      "Lidar Columns: ['lidar_0', 'lidar_1', 'lidar_2', 'lidar_3', 'lidar_4', 'lidar_5', 'lidar_6', 'lidar_7', 'lidar_8', 'lidar_9', 'lidar_10', 'lidar_11', 'lidar_12', 'lidar_13', 'lidar_14', 'lidar_15', 'lidar_16', 'lidar_17', 'lidar_18', 'lidar_19', 'lidar_20', 'lidar_21', 'lidar_22', 'lidar_23', 'lidar_24', 'lidar_25', 'lidar_26', 'lidar_27', 'lidar_28', 'lidar_29', 'lidar_30', 'lidar_31', 'lidar_32', 'lidar_33', 'lidar_34', 'lidar_35', 'lidar_36', 'lidar_37', 'lidar_38', 'lidar_39', 'lidar_40', 'lidar_41', 'lidar_42', 'lidar_43', 'lidar_44', 'lidar_45', 'lidar_46', 'lidar_47', 'lidar_48', 'lidar_49', 'lidar_50', 'lidar_51', 'lidar_52', 'lidar_53', 'lidar_54', 'lidar_55', 'lidar_56', 'lidar_57', 'lidar_58', 'lidar_59', 'lidar_60', 'lidar_61', 'lidar_62', 'lidar_63', 'lidar_64', 'lidar_65', 'lidar_66', 'lidar_67', 'lidar_68', 'lidar_69', 'lidar_70', 'lidar_71', 'lidar_72', 'lidar_73', 'lidar_74', 'lidar_75', 'lidar_76', 'lidar_77', 'lidar_78', 'lidar_79', 'lidar_80', 'lidar_81', 'lidar_82', 'lidar_83', 'lidar_84', 'lidar_85', 'lidar_86', 'lidar_87', 'lidar_88', 'lidar_89', 'lidar_90', 'lidar_91', 'lidar_92', 'lidar_93', 'lidar_94', 'lidar_95', 'lidar_96', 'lidar_97', 'lidar_98', 'lidar_99', 'lidar_100', 'lidar_101', 'lidar_102', 'lidar_103', 'lidar_104', 'lidar_105', 'lidar_106', 'lidar_107', 'lidar_108', 'lidar_109', 'lidar_110', 'lidar_111', 'lidar_112', 'lidar_113', 'lidar_114', 'lidar_115', 'lidar_116', 'lidar_117', 'lidar_118', 'lidar_119', 'lidar_120', 'lidar_121', 'lidar_122', 'lidar_123', 'lidar_124', 'lidar_125', 'lidar_126', 'lidar_127', 'lidar_128', 'lidar_129', 'lidar_130', 'lidar_131', 'lidar_132', 'lidar_133', 'lidar_134', 'lidar_135', 'lidar_136', 'lidar_137', 'lidar_138', 'lidar_139', 'lidar_140', 'lidar_141', 'lidar_142', 'lidar_143', 'lidar_144', 'lidar_145', 'lidar_146', 'lidar_147', 'lidar_148', 'lidar_149', 'lidar_150', 'lidar_151', 'lidar_152', 'lidar_153', 'lidar_154', 'lidar_155', 'lidar_156', 'lidar_157', 'lidar_158', 'lidar_159', 'lidar_160', 'lidar_161', 'lidar_162', 'lidar_163', 'lidar_164', 'lidar_165', 'lidar_166', 'lidar_167', 'lidar_168', 'lidar_169', 'lidar_170', 'lidar_171', 'lidar_172', 'lidar_173', 'lidar_174', 'lidar_175', 'lidar_176', 'lidar_177', 'lidar_178', 'lidar_179', 'lidar_180', 'lidar_181', 'lidar_182', 'lidar_183', 'lidar_184', 'lidar_185', 'lidar_186', 'lidar_187', 'lidar_188', 'lidar_189', 'lidar_190', 'lidar_191', 'lidar_192', 'lidar_193', 'lidar_194', 'lidar_195', 'lidar_196', 'lidar_197', 'lidar_198', 'lidar_199', 'lidar_200', 'lidar_201', 'lidar_202', 'lidar_203', 'lidar_204', 'lidar_205', 'lidar_206', 'lidar_207', 'lidar_208', 'lidar_209', 'lidar_210', 'lidar_211', 'lidar_212', 'lidar_213', 'lidar_214', 'lidar_215', 'lidar_216', 'lidar_217', 'lidar_218', 'lidar_219', 'lidar_220', 'lidar_221', 'lidar_222', 'lidar_223', 'lidar_224', 'lidar_225', 'lidar_226', 'lidar_227', 'lidar_228', 'lidar_229', 'lidar_230', 'lidar_231', 'lidar_232', 'lidar_233', 'lidar_234', 'lidar_235', 'lidar_236', 'lidar_237', 'lidar_238', 'lidar_239', 'lidar_240', 'lidar_241', 'lidar_242', 'lidar_243', 'lidar_244', 'lidar_245', 'lidar_246', 'lidar_247', 'lidar_248', 'lidar_249', 'lidar_250', 'lidar_251', 'lidar_252', 'lidar_253', 'lidar_254', 'lidar_255', 'lidar_256', 'lidar_257', 'lidar_258', 'lidar_259', 'lidar_260', 'lidar_261', 'lidar_262', 'lidar_263', 'lidar_264', 'lidar_265', 'lidar_266', 'lidar_267', 'lidar_268', 'lidar_269', 'lidar_270', 'lidar_271', 'lidar_272', 'lidar_273', 'lidar_274', 'lidar_275', 'lidar_276', 'lidar_277', 'lidar_278', 'lidar_279', 'lidar_280', 'lidar_281', 'lidar_282', 'lidar_283', 'lidar_284', 'lidar_285', 'lidar_286', 'lidar_287', 'lidar_288', 'lidar_289', 'lidar_290', 'lidar_291', 'lidar_292', 'lidar_293', 'lidar_294', 'lidar_295', 'lidar_296', 'lidar_297', 'lidar_298', 'lidar_299', 'lidar_300', 'lidar_301', 'lidar_302', 'lidar_303', 'lidar_304', 'lidar_305', 'lidar_306', 'lidar_307', 'lidar_308', 'lidar_309', 'lidar_310', 'lidar_311', 'lidar_312', 'lidar_313', 'lidar_314', 'lidar_315', 'lidar_316', 'lidar_317', 'lidar_318', 'lidar_319', 'lidar_320', 'lidar_321', 'lidar_322', 'lidar_323', 'lidar_324', 'lidar_325', 'lidar_326', 'lidar_327', 'lidar_328', 'lidar_329', 'lidar_330', 'lidar_331', 'lidar_332', 'lidar_333', 'lidar_334', 'lidar_335', 'lidar_336', 'lidar_337', 'lidar_338', 'lidar_339', 'lidar_340', 'lidar_341', 'lidar_342', 'lidar_343', 'lidar_344', 'lidar_345', 'lidar_346', 'lidar_347', 'lidar_348', 'lidar_349', 'lidar_350', 'lidar_351', 'lidar_352', 'lidar_353', 'lidar_354', 'lidar_355', 'lidar_356', 'lidar_357', 'lidar_358', 'lidar_359', 'lidar_360', 'lidar_361', 'lidar_362', 'lidar_363', 'lidar_364', 'lidar_365', 'lidar_366', 'lidar_367', 'lidar_368', 'lidar_369', 'lidar_370', 'lidar_371', 'lidar_372', 'lidar_373', 'lidar_374', 'lidar_375', 'lidar_376', 'lidar_377', 'lidar_378', 'lidar_379', 'lidar_380', 'lidar_381', 'lidar_382', 'lidar_383', 'lidar_384', 'lidar_385', 'lidar_386', 'lidar_387', 'lidar_388', 'lidar_389', 'lidar_390', 'lidar_391', 'lidar_392', 'lidar_393', 'lidar_394', 'lidar_395', 'lidar_396', 'lidar_397', 'lidar_398', 'lidar_399', 'lidar_400', 'lidar_401', 'lidar_402', 'lidar_403', 'lidar_404', 'lidar_405', 'lidar_406', 'lidar_407', 'lidar_408', 'lidar_409', 'lidar_410', 'lidar_411', 'lidar_412', 'lidar_413', 'lidar_414', 'lidar_415', 'lidar_416', 'lidar_417', 'lidar_418', 'lidar_419', 'lidar_420', 'lidar_421', 'lidar_422', 'lidar_423', 'lidar_424', 'lidar_425', 'lidar_426', 'lidar_427', 'lidar_428', 'lidar_429', 'lidar_430', 'lidar_431', 'lidar_432', 'lidar_433', 'lidar_434', 'lidar_435', 'lidar_436', 'lidar_437', 'lidar_438', 'lidar_439', 'lidar_440', 'lidar_441', 'lidar_442', 'lidar_443', 'lidar_444', 'lidar_445', 'lidar_446', 'lidar_447', 'lidar_448', 'lidar_449', 'lidar_450', 'lidar_451', 'lidar_452', 'lidar_453', 'lidar_454', 'lidar_455', 'lidar_456', 'lidar_457', 'lidar_458', 'lidar_459', 'lidar_460', 'lidar_461', 'lidar_462', 'lidar_463', 'lidar_464', 'lidar_465', 'lidar_466', 'lidar_467', 'lidar_468', 'lidar_469', 'lidar_470', 'lidar_471', 'lidar_472', 'lidar_473', 'lidar_474', 'lidar_475', 'lidar_476', 'lidar_477', 'lidar_478', 'lidar_479', 'lidar_480', 'lidar_481', 'lidar_482', 'lidar_483', 'lidar_484', 'lidar_485', 'lidar_486', 'lidar_487', 'lidar_488', 'lidar_489', 'lidar_490', 'lidar_491', 'lidar_492', 'lidar_493', 'lidar_494', 'lidar_495', 'lidar_496', 'lidar_497', 'lidar_498', 'lidar_499', 'lidar_500', 'lidar_501', 'lidar_502', 'lidar_503', 'lidar_504', 'lidar_505', 'lidar_506', 'lidar_507', 'lidar_508', 'lidar_509', 'lidar_510', 'lidar_511', 'lidar_512', 'lidar_513', 'lidar_514', 'lidar_515', 'lidar_516', 'lidar_517', 'lidar_518', 'lidar_519', 'lidar_520', 'lidar_521', 'lidar_522', 'lidar_523', 'lidar_524', 'lidar_525', 'lidar_526', 'lidar_527', 'lidar_528', 'lidar_529', 'lidar_530', 'lidar_531', 'lidar_532', 'lidar_533', 'lidar_534', 'lidar_535', 'lidar_536', 'lidar_537', 'lidar_538', 'lidar_539', 'lidar_540', 'lidar_541', 'lidar_542', 'lidar_543', 'lidar_544', 'lidar_545', 'lidar_546', 'lidar_547', 'lidar_548', 'lidar_549', 'lidar_550', 'lidar_551', 'lidar_552', 'lidar_553', 'lidar_554', 'lidar_555', 'lidar_556', 'lidar_557', 'lidar_558', 'lidar_559', 'lidar_560', 'lidar_561', 'lidar_562', 'lidar_563', 'lidar_564', 'lidar_565', 'lidar_566', 'lidar_567', 'lidar_568', 'lidar_569', 'lidar_570', 'lidar_571', 'lidar_572', 'lidar_573', 'lidar_574', 'lidar_575', 'lidar_576', 'lidar_577', 'lidar_578', 'lidar_579', 'lidar_580', 'lidar_581', 'lidar_582', 'lidar_583', 'lidar_584', 'lidar_585', 'lidar_586', 'lidar_587', 'lidar_588', 'lidar_589', 'lidar_590', 'lidar_591', 'lidar_592', 'lidar_593', 'lidar_594', 'lidar_595', 'lidar_596', 'lidar_597', 'lidar_598', 'lidar_599', 'lidar_600', 'lidar_601', 'lidar_602', 'lidar_603', 'lidar_604', 'lidar_605', 'lidar_606', 'lidar_607', 'lidar_608', 'lidar_609', 'lidar_610', 'lidar_611', 'lidar_612', 'lidar_613', 'lidar_614', 'lidar_615', 'lidar_616', 'lidar_617', 'lidar_618', 'lidar_619', 'lidar_620', 'lidar_621', 'lidar_622', 'lidar_623', 'lidar_624', 'lidar_625', 'lidar_626', 'lidar_627', 'lidar_628', 'lidar_629', 'lidar_630', 'lidar_631', 'lidar_632', 'lidar_633', 'lidar_634', 'lidar_635', 'lidar_636', 'lidar_637', 'lidar_638', 'lidar_639', 'lidar_640', 'lidar_641', 'lidar_642', 'lidar_643', 'lidar_644', 'lidar_645', 'lidar_646', 'lidar_647', 'lidar_648', 'lidar_649', 'lidar_650', 'lidar_651', 'lidar_652', 'lidar_653', 'lidar_654', 'lidar_655', 'lidar_656', 'lidar_657', 'lidar_658', 'lidar_659', 'lidar_660', 'lidar_661', 'lidar_662', 'lidar_663', 'lidar_664', 'lidar_665', 'lidar_666', 'lidar_667', 'lidar_668', 'lidar_669', 'lidar_670', 'lidar_671', 'lidar_672', 'lidar_673', 'lidar_674', 'lidar_675', 'lidar_676', 'lidar_677', 'lidar_678', 'lidar_679', 'lidar_680', 'lidar_681', 'lidar_682', 'lidar_683', 'lidar_684', 'lidar_685', 'lidar_686', 'lidar_687', 'lidar_688', 'lidar_689', 'lidar_690', 'lidar_691', 'lidar_692', 'lidar_693', 'lidar_694', 'lidar_695', 'lidar_696', 'lidar_697', 'lidar_698', 'lidar_699', 'lidar_700', 'lidar_701', 'lidar_702', 'lidar_703', 'lidar_704', 'lidar_705', 'lidar_706', 'lidar_707', 'lidar_708', 'lidar_709', 'lidar_710', 'lidar_711', 'lidar_712', 'lidar_713', 'lidar_714', 'lidar_715', 'lidar_716', 'lidar_717', 'lidar_718', 'lidar_719']\n",
      "Non Lidar Columns: ['twist_linear', 'twist_angular', 'local_x', 'local_y']\n",
      "Action Columns: ['cmd_vel_linear', 'cmd_vel_angular']\n"
     ]
    },
    {
     "name": "stderr",
     "output_type": "stream",
     "text": [
      "/home/jvthunder/anaconda/envs/mimic_data_extraction/lib/python3.6/site-packages/ipykernel_launcher.py:13: SettingWithCopyWarning: \n",
      "A value is trying to be set on a copy of a slice from a DataFrame.\n",
      "Try using .loc[row_indexer,col_indexer] = value instead\n",
      "\n",
      "See the caveats in the documentation: http://pandas.pydata.org/pandas-docs/stable/indexing.html#indexing-view-versus-copy\n",
      "  del sys.path[0]\n",
      "/home/jvthunder/anaconda/envs/mimic_data_extraction/lib/python3.6/site-packages/ipykernel_launcher.py:14: SettingWithCopyWarning: \n",
      "A value is trying to be set on a copy of a slice from a DataFrame.\n",
      "Try using .loc[row_indexer,col_indexer] = value instead\n",
      "\n",
      "See the caveats in the documentation: http://pandas.pydata.org/pandas-docs/stable/indexing.html#indexing-view-versus-copy\n",
      "  \n"
     ]
    },
    {
     "name": "stdout",
     "output_type": "stream",
     "text": [
      "Lidar Columns: ['lidar_0', 'lidar_1', 'lidar_2', 'lidar_3', 'lidar_4', 'lidar_5', 'lidar_6', 'lidar_7', 'lidar_8', 'lidar_9', 'lidar_10', 'lidar_11', 'lidar_12', 'lidar_13', 'lidar_14', 'lidar_15', 'lidar_16', 'lidar_17', 'lidar_18', 'lidar_19', 'lidar_20', 'lidar_21', 'lidar_22', 'lidar_23', 'lidar_24', 'lidar_25', 'lidar_26', 'lidar_27', 'lidar_28', 'lidar_29', 'lidar_30', 'lidar_31', 'lidar_32', 'lidar_33', 'lidar_34', 'lidar_35', 'lidar_36', 'lidar_37', 'lidar_38', 'lidar_39', 'lidar_40', 'lidar_41', 'lidar_42', 'lidar_43', 'lidar_44', 'lidar_45', 'lidar_46', 'lidar_47', 'lidar_48', 'lidar_49', 'lidar_50', 'lidar_51', 'lidar_52', 'lidar_53', 'lidar_54', 'lidar_55', 'lidar_56', 'lidar_57', 'lidar_58', 'lidar_59', 'lidar_60', 'lidar_61', 'lidar_62', 'lidar_63', 'lidar_64', 'lidar_65', 'lidar_66', 'lidar_67', 'lidar_68', 'lidar_69', 'lidar_70', 'lidar_71', 'lidar_72', 'lidar_73', 'lidar_74', 'lidar_75', 'lidar_76', 'lidar_77', 'lidar_78', 'lidar_79', 'lidar_80', 'lidar_81', 'lidar_82', 'lidar_83', 'lidar_84', 'lidar_85', 'lidar_86', 'lidar_87', 'lidar_88', 'lidar_89', 'lidar_90', 'lidar_91', 'lidar_92', 'lidar_93', 'lidar_94', 'lidar_95', 'lidar_96', 'lidar_97', 'lidar_98', 'lidar_99', 'lidar_100', 'lidar_101', 'lidar_102', 'lidar_103', 'lidar_104', 'lidar_105', 'lidar_106', 'lidar_107', 'lidar_108', 'lidar_109', 'lidar_110', 'lidar_111', 'lidar_112', 'lidar_113', 'lidar_114', 'lidar_115', 'lidar_116', 'lidar_117', 'lidar_118', 'lidar_119', 'lidar_120', 'lidar_121', 'lidar_122', 'lidar_123', 'lidar_124', 'lidar_125', 'lidar_126', 'lidar_127', 'lidar_128', 'lidar_129', 'lidar_130', 'lidar_131', 'lidar_132', 'lidar_133', 'lidar_134', 'lidar_135', 'lidar_136', 'lidar_137', 'lidar_138', 'lidar_139', 'lidar_140', 'lidar_141', 'lidar_142', 'lidar_143', 'lidar_144', 'lidar_145', 'lidar_146', 'lidar_147', 'lidar_148', 'lidar_149', 'lidar_150', 'lidar_151', 'lidar_152', 'lidar_153', 'lidar_154', 'lidar_155', 'lidar_156', 'lidar_157', 'lidar_158', 'lidar_159', 'lidar_160', 'lidar_161', 'lidar_162', 'lidar_163', 'lidar_164', 'lidar_165', 'lidar_166', 'lidar_167', 'lidar_168', 'lidar_169', 'lidar_170', 'lidar_171', 'lidar_172', 'lidar_173', 'lidar_174', 'lidar_175', 'lidar_176', 'lidar_177', 'lidar_178', 'lidar_179', 'lidar_180', 'lidar_181', 'lidar_182', 'lidar_183', 'lidar_184', 'lidar_185', 'lidar_186', 'lidar_187', 'lidar_188', 'lidar_189', 'lidar_190', 'lidar_191', 'lidar_192', 'lidar_193', 'lidar_194', 'lidar_195', 'lidar_196', 'lidar_197', 'lidar_198', 'lidar_199', 'lidar_200', 'lidar_201', 'lidar_202', 'lidar_203', 'lidar_204', 'lidar_205', 'lidar_206', 'lidar_207', 'lidar_208', 'lidar_209', 'lidar_210', 'lidar_211', 'lidar_212', 'lidar_213', 'lidar_214', 'lidar_215', 'lidar_216', 'lidar_217', 'lidar_218', 'lidar_219', 'lidar_220', 'lidar_221', 'lidar_222', 'lidar_223', 'lidar_224', 'lidar_225', 'lidar_226', 'lidar_227', 'lidar_228', 'lidar_229', 'lidar_230', 'lidar_231', 'lidar_232', 'lidar_233', 'lidar_234', 'lidar_235', 'lidar_236', 'lidar_237', 'lidar_238', 'lidar_239', 'lidar_240', 'lidar_241', 'lidar_242', 'lidar_243', 'lidar_244', 'lidar_245', 'lidar_246', 'lidar_247', 'lidar_248', 'lidar_249', 'lidar_250', 'lidar_251', 'lidar_252', 'lidar_253', 'lidar_254', 'lidar_255', 'lidar_256', 'lidar_257', 'lidar_258', 'lidar_259', 'lidar_260', 'lidar_261', 'lidar_262', 'lidar_263', 'lidar_264', 'lidar_265', 'lidar_266', 'lidar_267', 'lidar_268', 'lidar_269', 'lidar_270', 'lidar_271', 'lidar_272', 'lidar_273', 'lidar_274', 'lidar_275', 'lidar_276', 'lidar_277', 'lidar_278', 'lidar_279', 'lidar_280', 'lidar_281', 'lidar_282', 'lidar_283', 'lidar_284', 'lidar_285', 'lidar_286', 'lidar_287', 'lidar_288', 'lidar_289', 'lidar_290', 'lidar_291', 'lidar_292', 'lidar_293', 'lidar_294', 'lidar_295', 'lidar_296', 'lidar_297', 'lidar_298', 'lidar_299', 'lidar_300', 'lidar_301', 'lidar_302', 'lidar_303', 'lidar_304', 'lidar_305', 'lidar_306', 'lidar_307', 'lidar_308', 'lidar_309', 'lidar_310', 'lidar_311', 'lidar_312', 'lidar_313', 'lidar_314', 'lidar_315', 'lidar_316', 'lidar_317', 'lidar_318', 'lidar_319', 'lidar_320', 'lidar_321', 'lidar_322', 'lidar_323', 'lidar_324', 'lidar_325', 'lidar_326', 'lidar_327', 'lidar_328', 'lidar_329', 'lidar_330', 'lidar_331', 'lidar_332', 'lidar_333', 'lidar_334', 'lidar_335', 'lidar_336', 'lidar_337', 'lidar_338', 'lidar_339', 'lidar_340', 'lidar_341', 'lidar_342', 'lidar_343', 'lidar_344', 'lidar_345', 'lidar_346', 'lidar_347', 'lidar_348', 'lidar_349', 'lidar_350', 'lidar_351', 'lidar_352', 'lidar_353', 'lidar_354', 'lidar_355', 'lidar_356', 'lidar_357', 'lidar_358', 'lidar_359', 'lidar_360', 'lidar_361', 'lidar_362', 'lidar_363', 'lidar_364', 'lidar_365', 'lidar_366', 'lidar_367', 'lidar_368', 'lidar_369', 'lidar_370', 'lidar_371', 'lidar_372', 'lidar_373', 'lidar_374', 'lidar_375', 'lidar_376', 'lidar_377', 'lidar_378', 'lidar_379', 'lidar_380', 'lidar_381', 'lidar_382', 'lidar_383', 'lidar_384', 'lidar_385', 'lidar_386', 'lidar_387', 'lidar_388', 'lidar_389', 'lidar_390', 'lidar_391', 'lidar_392', 'lidar_393', 'lidar_394', 'lidar_395', 'lidar_396', 'lidar_397', 'lidar_398', 'lidar_399', 'lidar_400', 'lidar_401', 'lidar_402', 'lidar_403', 'lidar_404', 'lidar_405', 'lidar_406', 'lidar_407', 'lidar_408', 'lidar_409', 'lidar_410', 'lidar_411', 'lidar_412', 'lidar_413', 'lidar_414', 'lidar_415', 'lidar_416', 'lidar_417', 'lidar_418', 'lidar_419', 'lidar_420', 'lidar_421', 'lidar_422', 'lidar_423', 'lidar_424', 'lidar_425', 'lidar_426', 'lidar_427', 'lidar_428', 'lidar_429', 'lidar_430', 'lidar_431', 'lidar_432', 'lidar_433', 'lidar_434', 'lidar_435', 'lidar_436', 'lidar_437', 'lidar_438', 'lidar_439', 'lidar_440', 'lidar_441', 'lidar_442', 'lidar_443', 'lidar_444', 'lidar_445', 'lidar_446', 'lidar_447', 'lidar_448', 'lidar_449', 'lidar_450', 'lidar_451', 'lidar_452', 'lidar_453', 'lidar_454', 'lidar_455', 'lidar_456', 'lidar_457', 'lidar_458', 'lidar_459', 'lidar_460', 'lidar_461', 'lidar_462', 'lidar_463', 'lidar_464', 'lidar_465', 'lidar_466', 'lidar_467', 'lidar_468', 'lidar_469', 'lidar_470', 'lidar_471', 'lidar_472', 'lidar_473', 'lidar_474', 'lidar_475', 'lidar_476', 'lidar_477', 'lidar_478', 'lidar_479', 'lidar_480', 'lidar_481', 'lidar_482', 'lidar_483', 'lidar_484', 'lidar_485', 'lidar_486', 'lidar_487', 'lidar_488', 'lidar_489', 'lidar_490', 'lidar_491', 'lidar_492', 'lidar_493', 'lidar_494', 'lidar_495', 'lidar_496', 'lidar_497', 'lidar_498', 'lidar_499', 'lidar_500', 'lidar_501', 'lidar_502', 'lidar_503', 'lidar_504', 'lidar_505', 'lidar_506', 'lidar_507', 'lidar_508', 'lidar_509', 'lidar_510', 'lidar_511', 'lidar_512', 'lidar_513', 'lidar_514', 'lidar_515', 'lidar_516', 'lidar_517', 'lidar_518', 'lidar_519', 'lidar_520', 'lidar_521', 'lidar_522', 'lidar_523', 'lidar_524', 'lidar_525', 'lidar_526', 'lidar_527', 'lidar_528', 'lidar_529', 'lidar_530', 'lidar_531', 'lidar_532', 'lidar_533', 'lidar_534', 'lidar_535', 'lidar_536', 'lidar_537', 'lidar_538', 'lidar_539', 'lidar_540', 'lidar_541', 'lidar_542', 'lidar_543', 'lidar_544', 'lidar_545', 'lidar_546', 'lidar_547', 'lidar_548', 'lidar_549', 'lidar_550', 'lidar_551', 'lidar_552', 'lidar_553', 'lidar_554', 'lidar_555', 'lidar_556', 'lidar_557', 'lidar_558', 'lidar_559', 'lidar_560', 'lidar_561', 'lidar_562', 'lidar_563', 'lidar_564', 'lidar_565', 'lidar_566', 'lidar_567', 'lidar_568', 'lidar_569', 'lidar_570', 'lidar_571', 'lidar_572', 'lidar_573', 'lidar_574', 'lidar_575', 'lidar_576', 'lidar_577', 'lidar_578', 'lidar_579', 'lidar_580', 'lidar_581', 'lidar_582', 'lidar_583', 'lidar_584', 'lidar_585', 'lidar_586', 'lidar_587', 'lidar_588', 'lidar_589', 'lidar_590', 'lidar_591', 'lidar_592', 'lidar_593', 'lidar_594', 'lidar_595', 'lidar_596', 'lidar_597', 'lidar_598', 'lidar_599', 'lidar_600', 'lidar_601', 'lidar_602', 'lidar_603', 'lidar_604', 'lidar_605', 'lidar_606', 'lidar_607', 'lidar_608', 'lidar_609', 'lidar_610', 'lidar_611', 'lidar_612', 'lidar_613', 'lidar_614', 'lidar_615', 'lidar_616', 'lidar_617', 'lidar_618', 'lidar_619', 'lidar_620', 'lidar_621', 'lidar_622', 'lidar_623', 'lidar_624', 'lidar_625', 'lidar_626', 'lidar_627', 'lidar_628', 'lidar_629', 'lidar_630', 'lidar_631', 'lidar_632', 'lidar_633', 'lidar_634', 'lidar_635', 'lidar_636', 'lidar_637', 'lidar_638', 'lidar_639', 'lidar_640', 'lidar_641', 'lidar_642', 'lidar_643', 'lidar_644', 'lidar_645', 'lidar_646', 'lidar_647', 'lidar_648', 'lidar_649', 'lidar_650', 'lidar_651', 'lidar_652', 'lidar_653', 'lidar_654', 'lidar_655', 'lidar_656', 'lidar_657', 'lidar_658', 'lidar_659', 'lidar_660', 'lidar_661', 'lidar_662', 'lidar_663', 'lidar_664', 'lidar_665', 'lidar_666', 'lidar_667', 'lidar_668', 'lidar_669', 'lidar_670', 'lidar_671', 'lidar_672', 'lidar_673', 'lidar_674', 'lidar_675', 'lidar_676', 'lidar_677', 'lidar_678', 'lidar_679', 'lidar_680', 'lidar_681', 'lidar_682', 'lidar_683', 'lidar_684', 'lidar_685', 'lidar_686', 'lidar_687', 'lidar_688', 'lidar_689', 'lidar_690', 'lidar_691', 'lidar_692', 'lidar_693', 'lidar_694', 'lidar_695', 'lidar_696', 'lidar_697', 'lidar_698', 'lidar_699', 'lidar_700', 'lidar_701', 'lidar_702', 'lidar_703', 'lidar_704', 'lidar_705', 'lidar_706', 'lidar_707', 'lidar_708', 'lidar_709', 'lidar_710', 'lidar_711', 'lidar_712', 'lidar_713', 'lidar_714', 'lidar_715', 'lidar_716', 'lidar_717', 'lidar_718', 'lidar_719']\n",
      "Non Lidar Columns: ['twist_linear', 'twist_angular', 'local_x', 'local_y']\n",
      "Action Columns: ['cmd_vel_linear', 'cmd_vel_angular']\n",
      "Train dataset size: 162378\n",
      "Test dataset size: 40191\n"
     ]
    }
   ],
   "source": [
    "train_dataset = KULBarnDataset(train_df)\n",
    "scaler = train_dataset.scaler\n",
    "test_dataset = KULBarnDataset(test_df, scaler)\n",
    "\n",
    "print(f\"Train dataset size: {len(train_dataset)}\")\n",
    "print(f\"Test dataset size: {len(test_dataset)}\")"
   ]
  },
  {
   "cell_type": "code",
   "execution_count": 10,
   "metadata": {},
   "outputs": [
    {
     "name": "stdout",
     "output_type": "stream",
     "text": [
      "Non lidar shape: torch.Size([32, 4])\n",
      "Lidar shape: torch.Size([32, 720])\n",
      "Train loader size: 5075\n",
      "Test loader size: 1256\n",
      "tensor([[0.0945, 0.0944, 0.0945,  ..., 0.0835, 0.0839, 0.0850],\n",
      "        [0.0543, 0.0240, 0.0235,  ..., 0.0109, 0.0107, 0.0106],\n",
      "        [0.0241, 0.0241, 0.0241,  ..., 0.1310, 0.1340, 0.1340],\n",
      "        ...,\n",
      "        [0.0148, 0.0147, 0.0146,  ..., 0.1703, 0.1735, 0.0211],\n",
      "        [0.0105, 0.0106, 0.0107,  ..., 0.0136, 0.0138, 0.0139],\n",
      "        [0.0685, 0.0683, 0.0681,  ..., 0.0960, 0.0960, 0.0962]],\n",
      "       dtype=torch.float64) tensor([[0.9897, 0.4781, 0.4917, 0.4889],\n",
      "        [0.9909, 0.4888, 0.7729, 0.3028],\n",
      "        [0.9892, 0.4912, 0.5896, 0.5045],\n",
      "        [0.9904, 0.4932, 0.6825, 0.5969],\n",
      "        [0.9893, 0.5043, 0.5418, 0.4999],\n",
      "        [0.9898, 0.4898, 0.5994, 0.4776],\n",
      "        [0.9937, 0.4622, 0.8473, 0.3265],\n",
      "        [0.9934, 0.5253, 0.8687, 0.3573],\n",
      "        [0.3520, 0.4935, 0.9995, 0.4956],\n",
      "        [0.4522, 0.5095, 0.9964, 0.4888],\n",
      "        [0.9891, 0.4922, 0.4967, 0.4992],\n",
      "        [0.9904, 0.4870, 0.5546, 0.4978],\n",
      "        [0.9893, 0.4945, 0.5769, 0.5082],\n",
      "        [0.3313, 0.4928, 0.9997, 0.4960],\n",
      "        [0.9893, 0.4993, 0.5610, 0.5070],\n",
      "        [0.9901, 0.4828, 0.6354, 0.4575],\n",
      "        [0.9894, 0.5058, 0.4784, 0.4985],\n",
      "        [0.9904, 0.4999, 0.7322, 0.5007],\n",
      "        [0.9898, 0.4954, 0.6096, 0.4819],\n",
      "        [0.9893, 0.4969, 0.4633, 0.5005],\n",
      "        [0.9906, 0.4890, 0.7713, 0.4847],\n",
      "        [0.9898, 0.4765, 0.6218, 0.6997],\n",
      "        [0.9902, 0.5279, 0.7476, 0.6604],\n",
      "        [0.9898, 0.5044, 0.5445, 0.5030],\n",
      "        [0.9956, 0.4600, 0.9198, 0.5261],\n",
      "        [0.9935, 0.4771, 0.9055, 0.5652],\n",
      "        [0.9933, 0.4787, 0.8812, 0.5869],\n",
      "        [0.9896, 0.4703, 0.5971, 0.4669],\n",
      "        [0.9900, 0.5035, 0.6274, 0.5051],\n",
      "        [0.9904, 0.4401, 0.7838, 0.5181],\n",
      "        [0.9908, 0.4908, 0.7849, 0.4503],\n",
      "        [0.9898, 0.4920, 0.5540, 0.5000]], dtype=torch.float64) tensor([[1.0000, 0.4842],\n",
      "        [1.0000, 0.5221],\n",
      "        [1.0000, 0.4941],\n",
      "        [1.0000, 0.4809],\n",
      "        [1.0000, 0.5114],\n",
      "        [1.0000, 0.4972],\n",
      "        [1.0000, 0.4684],\n",
      "        [1.0000, 0.5332],\n",
      "        [0.3436, 0.5079],\n",
      "        [0.4473, 0.5180],\n",
      "        [1.0000, 0.5022],\n",
      "        [1.0000, 0.4870],\n",
      "        [1.0000, 0.5157],\n",
      "        [0.3273, 0.5021],\n",
      "        [1.0000, 0.5055],\n",
      "        [1.0000, 0.4530],\n",
      "        [1.0000, 0.5131],\n",
      "        [1.0000, 0.5078],\n",
      "        [1.0000, 0.4949],\n",
      "        [1.0000, 0.5252],\n",
      "        [1.0000, 0.4955],\n",
      "        [1.0000, 0.4859],\n",
      "        [1.0000, 0.5278],\n",
      "        [1.0000, 0.5115],\n",
      "        [1.0000, 0.4693],\n",
      "        [1.0000, 0.4811],\n",
      "        [1.0000, 0.4836],\n",
      "        [1.0000, 0.4760],\n",
      "        [1.0000, 0.5143],\n",
      "        [1.0000, 0.4434],\n",
      "        [1.0000, 0.4967],\n",
      "        [1.0000, 0.4976]], dtype=torch.float64)\n"
     ]
    }
   ],
   "source": [
    "# dataloader\n",
    "from torch.utils.data import DataLoader\n",
    "\n",
    "train_loader = DataLoader(train_dataset, batch_size=32, shuffle=True)\n",
    "test_loader = DataLoader(test_dataset, batch_size=32, shuffle=False)\n",
    "\n",
    "# test dataloader\n",
    "lidar, non_lidar, actions = next(iter(train_loader))\n",
    "print(f\"Non lidar shape: {non_lidar.shape}\")\n",
    "print(f\"Lidar shape: {lidar.shape}\")\n",
    "# print size dataloader\n",
    "print(f\"Train loader size: {len(train_loader)}\")\n",
    "print(f\"Test loader size: {len(test_loader)}\")\n",
    "print(lidar, non_lidar, actions)"
   ]
  },
  {
   "cell_type": "code",
   "execution_count": 7,
   "metadata": {},
   "outputs": [],
   "source": [
    "import torch\n",
    "import torch.nn as nn\n",
    "import torch.optim as optim\n",
    "import torch.nn.functional as F\n",
    "\n",
    "class CNNModel(nn.Module):\n",
    "    def __init__(self, num_lidar_features, num_non_lidar_features, num_actions, nframes=1):\n",
    "        super(CNNModel, self).__init__()\n",
    "        self.act_fea_cv1 = nn.Conv1d(\n",
    "            in_channels=nframes, out_channels=32, kernel_size=5, stride=2, padding=6, padding_mode='circular'\n",
    "        )\n",
    "        self.act_fea_cv2 = nn.Conv1d(\n",
    "            in_channels=32, out_channels=32, kernel_size=3, stride=2, padding=1\n",
    "        )\n",
    "\n",
    "        conv_output_size = (num_lidar_features - 5 + 2*6) // 2 + 1  # Output size after self.act_fea_cv1\n",
    "        conv_output_size = (conv_output_size - 3 + 2*1) // 2 + 1  # Output size after self.act_fea_cv2\n",
    "        conv_output_size *= 32  # Multiply by the number of output channels\n",
    "\n",
    "        # Calculate the output size of the CNN\n",
    "        self.fc1 = nn.Linear(conv_output_size, 32)\n",
    "        self.fc2 = nn.Linear(32 + num_non_lidar_features, num_actions)\n",
    "\n",
    "        torch.nn.init.xavier_uniform_(self.fc1.weight)\n",
    "        torch.nn.init.xavier_uniform_(self.fc2.weight)\n",
    "\n",
    "    def forward(self, lidar, non_lidar):\n",
    "        lidar = lidar.unsqueeze(1)  # Add channel dimension\n",
    "        feat = F.relu(self.act_fea_cv1(lidar))\n",
    "        feat = F.relu(self.act_fea_cv2(feat))\n",
    "        feat = feat.view(feat.shape[0], -1)\n",
    "        feat = F.relu(self.fc1(feat))\n",
    "        feat = torch.cat((feat, non_lidar), dim=-1)\n",
    "        feat = F.relu(self.fc2(feat))\n",
    "        return feat"
   ]
  },
  {
   "cell_type": "code",
   "execution_count": 8,
   "metadata": {},
   "outputs": [
    {
     "name": "stdout",
     "output_type": "stream",
     "text": [
      "cpu\n"
     ]
    }
   ],
   "source": [
    "# Initialize the model\n",
    "num_lidar_features = train_dataset.lidar_data.shape[-1]\n",
    "num_non_lidar_features = train_dataset.non_lidar_data.shape[-1]\n",
    "num_actions = train_dataset.actions_data.shape[-1]\n",
    "model = CNNModel(num_lidar_features, num_non_lidar_features, num_actions)\n",
    "\n",
    "# Define the loss function and optimizer\n",
    "loss_fn = nn.MSELoss()\n",
    "optimizer = optim.Adam(model.parameters(), lr=5e-5)\n",
    "\n",
    "# Move the model and loss function to the GPU if available\n",
    "device = torch.device('cuda' if torch.cuda.is_available() else 'cpu')\n",
    "model = model.to(device)\n",
    "loss_fn = loss_fn.to(device)\n",
    "print(device)"
   ]
  },
  {
   "cell_type": "code",
   "execution_count": 9,
   "metadata": {},
   "outputs": [],
   "source": [
    "from tqdm import tqdm\n",
    "\n",
    "def train_model(model, train_loader, loss_fn, optimizer):\n",
    "    model.train()\n",
    "\n",
    "    losses = []\n",
    "    for lidar, non_lidar, actions in tqdm(train_loader):\n",
    "\n",
    "        # Move the data to the device that is used\n",
    "        lidar = lidar.to(device)\n",
    "        non_lidar = non_lidar.to(device)\n",
    "        actions = actions.to(device)\n",
    "\n",
    "        # Forward pass\n",
    "        actions_pred = model(lidar.float(), non_lidar.float())\n",
    "        loss = loss_fn(actions_pred, actions.float())\n",
    "\n",
    "        # Backward pass\n",
    "        optimizer.zero_grad()\n",
    "        loss.backward()\n",
    "        optimizer.step()\n",
    "\n",
    "        # Save the loss\n",
    "        losses.append(loss.item())\n",
    "\n",
    "    # return the average loss for this epoch\n",
    "    return sum(losses)/len(losses)"
   ]
  },
  {
   "cell_type": "code",
   "execution_count": 10,
   "metadata": {},
   "outputs": [],
   "source": [
    "def test_model(model, test_loader, loss_fn):\n",
    "    model.eval()\n",
    "\n",
    "    losses = []\n",
    "    for lidar, non_lidar, actions in tqdm(test_loader):\n",
    "        # Move the data to the device that is used\n",
    "        lidar = lidar.to(device)\n",
    "        non_lidar = non_lidar.to(device)\n",
    "        actions = actions.to(device)\n",
    "\n",
    "        # Forward pass\n",
    "        actions_pred = model(lidar.float(), non_lidar.float())\n",
    "        loss = loss_fn(actions_pred, actions.float())\n",
    "\n",
    "        # Save the loss\n",
    "        losses.append(loss.item())\n",
    "\n",
    "    # return the average loss for this epoch\n",
    "    return sum(losses)/len(losses)"
   ]
  },
  {
   "cell_type": "code",
   "execution_count": 11,
   "metadata": {},
   "outputs": [
    {
     "name": "stderr",
     "output_type": "stream",
     "text": [
      "100%|██████████| 1275/1275 [00:01<00:00, 676.09it/s]"
     ]
    },
    {
     "name": "stdout",
     "output_type": "stream",
     "text": [
      "Random test loss: 0.43058515689536636\n"
     ]
    },
    {
     "name": "stderr",
     "output_type": "stream",
     "text": [
      "\n",
      "100%|██████████| 5056/5056 [00:21<00:00, 235.96it/s]\n",
      "100%|██████████| 1275/1275 [00:01<00:00, 947.52it/s]"
     ]
    },
    {
     "name": "stdout",
     "output_type": "stream",
     "text": [
      "Epoch 1/20 | Train Loss: 0.0071082670326718415 | Test Loss: 0.005424800574307001\n"
     ]
    },
    {
     "name": "stderr",
     "output_type": "stream",
     "text": [
      "\n",
      "100%|██████████| 5056/5056 [00:21<00:00, 235.74it/s]\n",
      "100%|██████████| 1275/1275 [00:01<00:00, 995.46it/s] "
     ]
    },
    {
     "name": "stdout",
     "output_type": "stream",
     "text": [
      "Epoch 2/20 | Train Loss: 0.003829534158331292 | Test Loss: 0.0034269194084488703\n"
     ]
    },
    {
     "name": "stderr",
     "output_type": "stream",
     "text": [
      "\n",
      "100%|██████████| 5056/5056 [00:21<00:00, 236.12it/s]\n",
      "100%|██████████| 1275/1275 [00:01<00:00, 1034.01it/s]"
     ]
    },
    {
     "name": "stdout",
     "output_type": "stream",
     "text": [
      "Epoch 3/20 | Train Loss: 0.002501455972712473 | Test Loss: 0.002490716436124571\n"
     ]
    },
    {
     "name": "stderr",
     "output_type": "stream",
     "text": [
      "\n",
      "100%|██████████| 5056/5056 [00:21<00:00, 232.22it/s]\n",
      "100%|██████████| 1275/1275 [00:01<00:00, 933.87it/s]"
     ]
    },
    {
     "name": "stdout",
     "output_type": "stream",
     "text": [
      "Epoch 4/20 | Train Loss: 0.0018244826526629195 | Test Loss: 0.0018442465762949294\n"
     ]
    },
    {
     "name": "stderr",
     "output_type": "stream",
     "text": [
      "\n",
      "100%|██████████| 5056/5056 [00:21<00:00, 230.47it/s]\n",
      "100%|██████████| 1275/1275 [00:01<00:00, 936.06it/s]"
     ]
    },
    {
     "name": "stdout",
     "output_type": "stream",
     "text": [
      "Epoch 5/20 | Train Loss: 0.0014498060943913492 | Test Loss: 0.0014887486290771287\n"
     ]
    },
    {
     "name": "stderr",
     "output_type": "stream",
     "text": [
      "\n",
      "100%|██████████| 5056/5056 [00:22<00:00, 227.17it/s]\n",
      "100%|██████████| 1275/1275 [00:01<00:00, 999.37it/s] "
     ]
    },
    {
     "name": "stdout",
     "output_type": "stream",
     "text": [
      "Epoch 6/20 | Train Loss: 0.0012113275576488192 | Test Loss: 0.0012233272784464599\n"
     ]
    },
    {
     "name": "stderr",
     "output_type": "stream",
     "text": [
      "\n",
      "100%|██████████| 5056/5056 [00:22<00:00, 229.02it/s]\n",
      "100%|██████████| 1275/1275 [00:01<00:00, 968.26it/s] "
     ]
    },
    {
     "name": "stdout",
     "output_type": "stream",
     "text": [
      "Epoch 7/20 | Train Loss: 0.0010525569721569154 | Test Loss: 0.0010638477407519532\n"
     ]
    },
    {
     "name": "stderr",
     "output_type": "stream",
     "text": [
      "\n",
      "100%|██████████| 5056/5056 [00:22<00:00, 229.31it/s]\n",
      "100%|██████████| 1275/1275 [00:01<00:00, 989.08it/s]"
     ]
    },
    {
     "name": "stdout",
     "output_type": "stream",
     "text": [
      "Epoch 8/20 | Train Loss: 0.0009460419400779123 | Test Loss: 0.0009027681313433705\n"
     ]
    },
    {
     "name": "stderr",
     "output_type": "stream",
     "text": [
      "\n",
      "100%|██████████| 5056/5056 [00:22<00:00, 227.26it/s]\n",
      "100%|██████████| 1275/1275 [00:01<00:00, 936.86it/s]"
     ]
    },
    {
     "name": "stdout",
     "output_type": "stream",
     "text": [
      "Epoch 9/20 | Train Loss: 0.0008723513213534359 | Test Loss: 0.000832044693685805\n"
     ]
    },
    {
     "name": "stderr",
     "output_type": "stream",
     "text": [
      "\n",
      "100%|██████████| 5056/5056 [00:22<00:00, 224.79it/s]\n",
      "100%|██████████| 1275/1275 [00:01<00:00, 1007.41it/s]"
     ]
    },
    {
     "name": "stdout",
     "output_type": "stream",
     "text": [
      "Epoch 10/20 | Train Loss: 0.0008174916425297875 | Test Loss: 0.0008361748582416005\n"
     ]
    },
    {
     "name": "stderr",
     "output_type": "stream",
     "text": [
      "\n",
      "100%|██████████| 5056/5056 [00:22<00:00, 222.96it/s]\n",
      "100%|██████████| 1275/1275 [00:01<00:00, 949.33it/s]"
     ]
    },
    {
     "name": "stdout",
     "output_type": "stream",
     "text": [
      "Epoch 11/20 | Train Loss: 0.0007758747470959377 | Test Loss: 0.0007911761748280197\n"
     ]
    },
    {
     "name": "stderr",
     "output_type": "stream",
     "text": [
      "\n",
      "100%|██████████| 5056/5056 [00:23<00:00, 219.47it/s]\n",
      "100%|██████████| 1275/1275 [00:01<00:00, 1026.81it/s]"
     ]
    },
    {
     "name": "stdout",
     "output_type": "stream",
     "text": [
      "Epoch 12/20 | Train Loss: 0.0007415008119112285 | Test Loss: 0.0007887012170695194\n"
     ]
    },
    {
     "name": "stderr",
     "output_type": "stream",
     "text": [
      "\n",
      "100%|██████████| 5056/5056 [00:23<00:00, 213.90it/s]\n",
      "100%|██████████| 1275/1275 [00:01<00:00, 952.40it/s]"
     ]
    },
    {
     "name": "stdout",
     "output_type": "stream",
     "text": [
      "Epoch 13/20 | Train Loss: 0.0007133462652514257 | Test Loss: 0.0007643331389920372\n"
     ]
    },
    {
     "name": "stderr",
     "output_type": "stream",
     "text": [
      "\n",
      "100%|██████████| 5056/5056 [00:23<00:00, 211.63it/s]\n",
      "100%|██████████| 1275/1275 [00:01<00:00, 1000.08it/s]"
     ]
    },
    {
     "name": "stdout",
     "output_type": "stream",
     "text": [
      "Epoch 14/20 | Train Loss: 0.0006906872896594525 | Test Loss: 0.0007998740363483889\n"
     ]
    },
    {
     "name": "stderr",
     "output_type": "stream",
     "text": [
      "\n",
      "100%|██████████| 5056/5056 [00:23<00:00, 212.01it/s]\n",
      "100%|██████████| 1275/1275 [00:01<00:00, 1015.81it/s]"
     ]
    },
    {
     "name": "stdout",
     "output_type": "stream",
     "text": [
      "Epoch 15/20 | Train Loss: 0.0006661654017980715 | Test Loss: 0.0007716202021353692\n"
     ]
    },
    {
     "name": "stderr",
     "output_type": "stream",
     "text": [
      "\n",
      "100%|██████████| 5056/5056 [00:24<00:00, 205.28it/s]\n",
      "100%|██████████| 1275/1275 [00:01<00:00, 1003.05it/s]"
     ]
    },
    {
     "name": "stdout",
     "output_type": "stream",
     "text": [
      "Epoch 16/20 | Train Loss: 0.0006460575072249908 | Test Loss: 0.0007604940933197213\n"
     ]
    },
    {
     "name": "stderr",
     "output_type": "stream",
     "text": [
      "\n",
      "100%|██████████| 5056/5056 [00:25<00:00, 201.83it/s]\n",
      "100%|██████████| 1275/1275 [00:01<00:00, 1023.84it/s]"
     ]
    },
    {
     "name": "stdout",
     "output_type": "stream",
     "text": [
      "Epoch 17/20 | Train Loss: 0.0006250874018371201 | Test Loss: 0.0007922144024024758\n"
     ]
    },
    {
     "name": "stderr",
     "output_type": "stream",
     "text": [
      "\n",
      "100%|██████████| 5056/5056 [00:25<00:00, 201.53it/s]\n",
      "100%|██████████| 1275/1275 [00:01<00:00, 957.81it/s]"
     ]
    },
    {
     "name": "stdout",
     "output_type": "stream",
     "text": [
      "Epoch 18/20 | Train Loss: 0.0006060490175635015 | Test Loss: 0.0008070387633583153\n"
     ]
    },
    {
     "name": "stderr",
     "output_type": "stream",
     "text": [
      "\n",
      "100%|██████████| 5056/5056 [00:25<00:00, 199.50it/s]\n",
      "100%|██████████| 1275/1275 [00:01<00:00, 970.67it/s]"
     ]
    },
    {
     "name": "stdout",
     "output_type": "stream",
     "text": [
      "Epoch 19/20 | Train Loss: 0.0005875516102219944 | Test Loss: 0.0007659331871284438\n"
     ]
    },
    {
     "name": "stderr",
     "output_type": "stream",
     "text": [
      "\n",
      "100%|██████████| 5056/5056 [00:25<00:00, 194.84it/s]\n",
      "100%|██████████| 1275/1275 [00:01<00:00, 1017.69it/s]"
     ]
    },
    {
     "name": "stdout",
     "output_type": "stream",
     "text": [
      "Epoch 20/20 | Train Loss: 0.0005715507166878035 | Test Loss: 0.0007942585749402925\n"
     ]
    },
    {
     "name": "stderr",
     "output_type": "stream",
     "text": [
      "\n"
     ]
    }
   ],
   "source": [
    "import sys\n",
    "NUM_EPOCHS = 30\n",
    "\n",
    "random_test_loss = test_model(model, test_loader, loss_fn)\n",
    "print(\"Random test loss:\", random_test_loss)\n",
    "sys.stdout.flush()\n",
    "\n",
    "cnn_train_losses = []\n",
    "cnn_test_losses = []\n",
    "for epoch in range(NUM_EPOCHS):\n",
    "    train_loss = train_model(model, train_loader, loss_fn, optimizer)\n",
    "    test_loss = test_model(model, test_loader, loss_fn)\n",
    "    cnn_train_losses.append(train_loss)\n",
    "    cnn_test_losses.append(test_loss)\n",
    "    print(f\"Epoch {epoch+1}/{NUM_EPOCHS} | Train Loss: {train_loss} | Test Loss: {test_loss}\")\n",
    "    sys.stdout.flush()"
   ]
  },
  {
   "cell_type": "code",
   "execution_count": 19,
   "metadata": {},
   "outputs": [
    {
     "data": {
      "image/png": "[encoded data removed]",
      "text/plain": [
       "<Figure size 432x288 with 1 Axes>"
      ]
     },
     "metadata": {
      "needs_background": "light"
     },
     "output_type": "display_data"
    }
   ],
   "source": [
    "# plot the loss\n",
    "import matplotlib.pyplot as plt\n",
    "\n",
    "plt.plot(cnn_train_losses, label='Train Loss')\n",
    "plt.plot(cnn_test_losses, label='Test Loss')\n",
    "plt.xlabel('Epoch')\n",
    "plt.ylabel('Loss')\n",
    "plt.legend()\n",
    "plt.show();"
   ]
  },
  {
   "cell_type": "code",
   "execution_count": 13,
   "metadata": {},
   "outputs": [],
   "source": [
    "# save the model\n",
    "torch.save(model.state_dict(), 'model/cnn_model.pth')"
   ]
  },
  {
   "cell_type": "code",
   "execution_count": 14,
   "metadata": {},
   "outputs": [],
   "source": [
    "import torch\n",
    "import torch.nn as nn\n",
    "from torch.utils.data import DataLoader\n",
    "\n",
    "class TransformerModel(nn.Module):\n",
    "    def __init__(self, num_lidar_features, num_non_lidar_features, num_actions, d_model=64, nhead=8, num_encoder_layers=3, num_decoder_layers=3):\n",
    "        super(TransformerModel, self).__init__()\n",
    "\n",
    "        self.d_model = d_model\n",
    "        self.num_patches = 20  # Number of patches\n",
    "        self.patch_size = num_lidar_features // self.num_patches\n",
    "\n",
    "        # Positional Encoding for the Encoder\n",
    "        self.positional_encoding = nn.Parameter(torch.zeros(self.num_patches, d_model))\n",
    "\n",
    "        # Input Embedding for Encoder (LiDAR data)\n",
    "        self.lidar_embedding = nn.Linear(self.patch_size, d_model)\n",
    "\n",
    "        # Transformer Encoder\n",
    "        encoder_layer = nn.TransformerEncoderLayer(d_model=d_model, nhead=nhead)\n",
    "        self.transformer_encoder = nn.TransformerEncoder(encoder_layer, num_layers=num_encoder_layers)\n",
    "\n",
    "        # Input Embedding for Decoder (Non-LiDAR data)\n",
    "        self.non_lidar_embedding = nn.Linear(num_non_lidar_features, d_model)\n",
    "\n",
    "        # Transformer Decoder\n",
    "        decoder_layer = nn.TransformerDecoderLayer(d_model=d_model, nhead=nhead)\n",
    "        self.transformer_decoder = nn.TransformerDecoder(decoder_layer, num_layers=num_decoder_layers)\n",
    "\n",
    "        # Linear layer to map the transformer output to actions\n",
    "        self.fc_out = nn.Linear(d_model, num_actions)\n",
    "\n",
    "    def forward(self, lidar, non_lidar):\n",
    "        batch_size = lidar.size(0)\n",
    "        \n",
    "        # Divide LiDAR input into patches\n",
    "        lidar_patches = lidar.view(batch_size, self.num_patches, self.patch_size)\n",
    "\n",
    "        # Embed each patch and add positional encoding\n",
    "        lidar_embed = self.lidar_embedding(lidar_patches) + self.positional_encoding.unsqueeze(0)\n",
    "        lidar_embed = lidar_embed.permute(1, 0, 2)  # Convert to (seq_len, batch_size, d_model)\n",
    "\n",
    "        # Process through the transformer encoder\n",
    "        memory = self.transformer_encoder(lidar_embed)\n",
    "\n",
    "        # Process non-lidar data through input embedding\n",
    "        non_lidar_embed = self.non_lidar_embedding(non_lidar).unsqueeze(0)  # Convert to (1, batch_size, d_model)\n",
    "\n",
    "        # Process through the transformer decoder\n",
    "        output = self.transformer_decoder(non_lidar_embed, memory)\n",
    "\n",
    "        # Final linear layer to get the actions\n",
    "        actions = self.fc_out(output.squeeze(0))\n",
    "        return actions"
   ]
  },
  {
   "cell_type": "code",
   "execution_count": 15,
   "metadata": {},
   "outputs": [
    {
     "name": "stdout",
     "output_type": "stream",
     "text": [
      "cpu\n"
     ]
    }
   ],
   "source": [
    "# Initialize the model\n",
    "num_lidar_features = train_dataset.lidar_data.shape[1]\n",
    "num_non_lidar_features = train_dataset.non_lidar_data.shape[1]\n",
    "num_actions = train_dataset.actions_data.shape[1]\n",
    "model = TransformerModel(num_lidar_features, num_non_lidar_features, num_actions)\n",
    "\n",
    "# Define the loss function and optimizer\n",
    "loss_fn = nn.MSELoss()\n",
    "optimizer = optim.Adam(model.parameters(), lr=5e-5)\n",
    "\n",
    "# Move the model and loss function to the GPU if available\n",
    "device = torch.device('cuda' if torch.cuda.is_available() else 'cpu')\n",
    "model = model.to(device)\n",
    "loss_fn = loss_fn.to(device)\n",
    "print(device)"
   ]
  },
  {
   "cell_type": "code",
   "execution_count": 16,
   "metadata": {},
   "outputs": [
    {
     "name": "stderr",
     "output_type": "stream",
     "text": [
      "100%|██████████| 1275/1275 [00:12<00:00, 98.41it/s] \n",
      "  0%|          | 3/5056 [00:00<03:21, 25.02it/s]"
     ]
    },
    {
     "name": "stdout",
     "output_type": "stream",
     "text": [
      "Random test loss: 0.3762618096727951\n"
     ]
    },
    {
     "name": "stderr",
     "output_type": "stream",
     "text": [
      "100%|██████████| 5056/5056 [03:21<00:00, 25.13it/s]\n",
      "100%|██████████| 1275/1275 [00:12<00:00, 104.81it/s]"
     ]
    },
    {
     "name": "stdout",
     "output_type": "stream",
     "text": [
      "Epoch 1/20 | Train Loss: 0.003284222281746236 | Test Loss: 0.0008301055286018014\n"
     ]
    },
    {
     "name": "stderr",
     "output_type": "stream",
     "text": [
      "\n",
      "100%|██████████| 5056/5056 [03:27<00:00, 24.34it/s]\n",
      "100%|██████████| 1275/1275 [00:12<00:00, 104.26it/s]"
     ]
    },
    {
     "name": "stdout",
     "output_type": "stream",
     "text": [
      "Epoch 2/20 | Train Loss: 0.0013285176123789123 | Test Loss: 0.0008079318579706631\n"
     ]
    },
    {
     "name": "stderr",
     "output_type": "stream",
     "text": [
      "\n",
      "100%|██████████| 5056/5056 [03:30<00:00, 24.01it/s]\n",
      "100%|██████████| 1275/1275 [00:12<00:00, 96.59it/s] "
     ]
    },
    {
     "name": "stdout",
     "output_type": "stream",
     "text": [
      "Epoch 3/20 | Train Loss: 0.0011207993986930933 | Test Loss: 0.000681142465275615\n"
     ]
    },
    {
     "name": "stderr",
     "output_type": "stream",
     "text": [
      "\n",
      "100%|██████████| 5056/5056 [03:31<00:00, 23.85it/s]\n",
      "100%|██████████| 1275/1275 [00:12<00:00, 105.45it/s]"
     ]
    },
    {
     "name": "stdout",
     "output_type": "stream",
     "text": [
      "Epoch 4/20 | Train Loss: 0.0010232373985782264 | Test Loss: 0.0008376198952992483\n"
     ]
    },
    {
     "name": "stderr",
     "output_type": "stream",
     "text": [
      "\n",
      "100%|██████████| 5056/5056 [03:31<00:00, 23.86it/s]\n",
      "100%|██████████| 1275/1275 [00:12<00:00, 103.45it/s]"
     ]
    },
    {
     "name": "stdout",
     "output_type": "stream",
     "text": [
      "Epoch 5/20 | Train Loss: 0.0009674647776778962 | Test Loss: 0.0007036111668197669\n"
     ]
    },
    {
     "name": "stderr",
     "output_type": "stream",
     "text": [
      "\n",
      "100%|██████████| 5056/5056 [03:32<00:00, 23.83it/s]\n",
      "100%|██████████| 1275/1275 [00:12<00:00, 103.45it/s]"
     ]
    },
    {
     "name": "stdout",
     "output_type": "stream",
     "text": [
      "Epoch 6/20 | Train Loss: 0.000928592813162267 | Test Loss: 0.0006119778279575186\n"
     ]
    },
    {
     "name": "stderr",
     "output_type": "stream",
     "text": [
      "\n",
      "100%|██████████| 5056/5056 [03:35<00:00, 25.44it/s]\n",
      "100%|██████████| 1275/1275 [00:12<00:00, 105.27it/s]"
     ]
    },
    {
     "name": "stdout",
     "output_type": "stream",
     "text": [
      "Epoch 7/20 | Train Loss: 0.0009040619715831413 | Test Loss: 0.0005864994467329406\n"
     ]
    },
    {
     "name": "stderr",
     "output_type": "stream",
     "text": [
      "\n",
      "100%|██████████| 5056/5056 [03:35<00:00, 23.43it/s]\n",
      "100%|██████████| 1275/1275 [00:12<00:00, 98.90it/s] "
     ]
    },
    {
     "name": "stdout",
     "output_type": "stream",
     "text": [
      "Epoch 8/20 | Train Loss: 0.0008838334872313128 | Test Loss: 0.0006119868147609796\n"
     ]
    },
    {
     "name": "stderr",
     "output_type": "stream",
     "text": [
      "\n",
      "100%|██████████| 5056/5056 [03:38<00:00, 23.67it/s]\n",
      "100%|██████████| 1275/1275 [00:12<00:00, 99.97it/s] "
     ]
    },
    {
     "name": "stdout",
     "output_type": "stream",
     "text": [
      "Epoch 9/20 | Train Loss: 0.0008660410143646384 | Test Loss: 0.0006530270835997619\n"
     ]
    },
    {
     "name": "stderr",
     "output_type": "stream",
     "text": [
      "\n",
      "100%|██████████| 5056/5056 [03:43<00:00, 22.64it/s]\n",
      "100%|██████████| 1275/1275 [00:12<00:00, 99.71it/s] "
     ]
    },
    {
     "name": "stdout",
     "output_type": "stream",
     "text": [
      "Epoch 10/20 | Train Loss: 0.00084255134344377 | Test Loss: 0.0006086919977074371\n"
     ]
    },
    {
     "name": "stderr",
     "output_type": "stream",
     "text": [
      "\n",
      "100%|██████████| 5056/5056 [03:47<00:00, 22.23it/s]\n",
      "100%|██████████| 1275/1275 [00:12<00:00, 98.23it/s] "
     ]
    },
    {
     "name": "stdout",
     "output_type": "stream",
     "text": [
      "Epoch 11/20 | Train Loss: 0.0008217170759018723 | Test Loss: 0.0006207736164929777\n"
     ]
    },
    {
     "name": "stderr",
     "output_type": "stream",
     "text": [
      "\n",
      "100%|██████████| 5056/5056 [03:46<00:00, 21.20it/s]\n",
      "100%|██████████| 1275/1275 [00:12<00:00, 98.18it/s] "
     ]
    },
    {
     "name": "stdout",
     "output_type": "stream",
     "text": [
      "Epoch 12/20 | Train Loss: 0.0008049223797469713 | Test Loss: 0.00058691231376373\n"
     ]
    },
    {
     "name": "stderr",
     "output_type": "stream",
     "text": [
      "\n",
      "100%|██████████| 5056/5056 [03:52<00:00, 24.98it/s]\n",
      "100%|██████████| 1275/1275 [00:12<00:00, 98.36it/s] "
     ]
    },
    {
     "name": "stdout",
     "output_type": "stream",
     "text": [
      "Epoch 13/20 | Train Loss: 0.00078051152918752 | Test Loss: 0.000609815698162002\n"
     ]
    },
    {
     "name": "stderr",
     "output_type": "stream",
     "text": [
      "\n",
      "100%|██████████| 5056/5056 [03:52<00:00, 21.76it/s]\n",
      "100%|██████████| 1275/1275 [00:13<00:00, 97.69it/s] "
     ]
    },
    {
     "name": "stdout",
     "output_type": "stream",
     "text": [
      "Epoch 14/20 | Train Loss: 0.0007575560883368135 | Test Loss: 0.0005985311144730291\n"
     ]
    },
    {
     "name": "stderr",
     "output_type": "stream",
     "text": [
      "\n",
      "100%|██████████| 5056/5056 [03:52<00:00, 21.76it/s]\n",
      "100%|██████████| 1275/1275 [00:13<00:00, 97.71it/s] "
     ]
    },
    {
     "name": "stdout",
     "output_type": "stream",
     "text": [
      "Epoch 15/20 | Train Loss: 0.0007433276450068275 | Test Loss: 0.0006479093604288851\n"
     ]
    },
    {
     "name": "stderr",
     "output_type": "stream",
     "text": [
      "\n",
      "100%|██████████| 5056/5056 [03:55<00:00, 22.16it/s]\n",
      "100%|██████████| 1275/1275 [00:12<00:00, 103.13it/s]"
     ]
    },
    {
     "name": "stdout",
     "output_type": "stream",
     "text": [
      "Epoch 16/20 | Train Loss: 0.0007231641115805371 | Test Loss: 0.0006132599732181381\n"
     ]
    },
    {
     "name": "stderr",
     "output_type": "stream",
     "text": [
      "\n",
      "100%|██████████| 5056/5056 [03:55<00:00, 21.85it/s]\n",
      "100%|██████████| 1275/1275 [00:12<00:00, 99.93it/s] "
     ]
    },
    {
     "name": "stdout",
     "output_type": "stream",
     "text": [
      "Epoch 17/20 | Train Loss: 0.0007082176005437875 | Test Loss: 0.0006510917796257156\n"
     ]
    },
    {
     "name": "stderr",
     "output_type": "stream",
     "text": [
      "\n",
      "100%|██████████| 5056/5056 [03:59<00:00, 22.95it/s]\n",
      "100%|██████████| 1275/1275 [00:12<00:00, 98.54it/s] "
     ]
    },
    {
     "name": "stdout",
     "output_type": "stream",
     "text": [
      "Epoch 18/20 | Train Loss: 0.0006884012412443335 | Test Loss: 0.0006403043900994745\n"
     ]
    },
    {
     "name": "stderr",
     "output_type": "stream",
     "text": [
      "\n",
      "100%|██████████| 5056/5056 [03:58<00:00, 22.24it/s]\n",
      "100%|██████████| 1275/1275 [00:12<00:00, 98.94it/s] "
     ]
    },
    {
     "name": "stdout",
     "output_type": "stream",
     "text": [
      "Epoch 19/20 | Train Loss: 0.0006800927516979478 | Test Loss: 0.0006269295270723496\n"
     ]
    },
    {
     "name": "stderr",
     "output_type": "stream",
     "text": [
      "\n",
      "100%|██████████| 5056/5056 [04:00<00:00, 22.39it/s]\n",
      "100%|██████████| 1275/1275 [00:12<00:00, 99.58it/s] "
     ]
    },
    {
     "name": "stdout",
     "output_type": "stream",
     "text": [
      "Epoch 20/20 | Train Loss: 0.0006708217036563401 | Test Loss: 0.0006495781198188578\n"
     ]
    },
    {
     "name": "stderr",
     "output_type": "stream",
     "text": [
      "\n"
     ]
    }
   ],
   "source": [
    "import sys\n",
    "NUM_EPOCHS = 30\n",
    "\n",
    "random_test_loss = test_model(model, test_loader, loss_fn)\n",
    "print(\"Random test loss:\", random_test_loss)\n",
    "\n",
    "transformer_train_losses = []\n",
    "transformer_test_losses = []\n",
    "for epoch in range(NUM_EPOCHS):\n",
    "    train_loss = train_model(model, train_loader, loss_fn, optimizer)\n",
    "    test_loss = test_model(model, test_loader, loss_fn)\n",
    "    transformer_train_losses.append(train_loss)\n",
    "    transformer_test_losses.append(test_loss)\n",
    "    print(f\"Epoch {epoch+1}/{NUM_EPOCHS} | Train Loss: {train_loss} | Test Loss: {test_loss}\")\n",
    "    sys.stdout.flush()"
   ]
  },
  {
   "cell_type": "code",
   "execution_count": 17,
   "metadata": {},
   "outputs": [
    {
     "data": {
      "image/png": "[encoded data removed]",
      "text/plain": [
       "<Figure size 432x288 with 1 Axes>"
      ]
     },
     "metadata": {
      "needs_background": "light"
     },
     "output_type": "display_data"
    }
   ],
   "source": [
    "# plot the loss\n",
    "import matplotlib.pyplot as plt\n",
    "\n",
    "plt.plot(transformer_train_losses, label='Transformer Train Loss')\n",
    "plt.plot(transformer_test_losses, label='Transformer Test Loss')\n",
    "plt.xlabel('Epoch')\n",
    "plt.ylabel('Loss')\n",
    "plt.legend()\n",
    "plt.show();"
   ]
  },
  {
   "cell_type": "code",
   "execution_count": 18,
   "metadata": {},
   "outputs": [],
   "source": [
    "# save the model\n",
    "torch.save(model.state_dict(), 'model/transformer_model.pth')"
   ]
  },
  {
   "cell_type": "code",
   "execution_count": null,
   "metadata": {},
   "outputs": [],
   "source": []
  }
 ],
 "metadata": {
  "kernelspec": {
   "display_name": "mimic_data_extraction",
   "language": "python",
   "name": "python3"
  },
  "language_info": {
   "codemirror_mode": {
    "name": "ipython",
    "version": 3
   },
   "file_extension": ".py",
   "mimetype": "text/x-python",
   "name": "python",
   "nbconvert_exporter": "python",
   "pygments_lexer": "ipython3",
   "version": "3.6.8"
  }
 },
 "nbformat": 4,
 "nbformat_minor": 2
}
